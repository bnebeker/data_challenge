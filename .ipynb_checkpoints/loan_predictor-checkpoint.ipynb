{
 "cells": [
  {
   "cell_type": "markdown",
   "metadata": {},
   "source": [
    "## Summary\n",
    "\n",
    "- Classifier models were trained ..."
   ]
  },
  {
   "cell_type": "markdown",
   "metadata": {},
   "source": [
    "## Data Prep"
   ]
  },
  {
   "cell_type": "code",
   "execution_count": 1,
   "metadata": {},
   "outputs": [],
   "source": [
    "import pandas as pd\n",
    "from os import listdir, getcwd\n",
    "from os.path import isfile, join\n",
    "pd.set_option('display.max_columns', 500)"
   ]
  },
  {
   "cell_type": "code",
   "execution_count": 2,
   "metadata": {},
   "outputs": [],
   "source": [
    "# get filenames\n",
    "data_filenames = [ file for file in listdir('data') if isfile(join(getcwd(), 'data', file))]"
   ]
  },
  {
   "cell_type": "code",
   "execution_count": 3,
   "metadata": {},
   "outputs": [],
   "source": [
    "def load_data():\n",
    "    \"\"\"\n",
    "    Load all files, return single dataframe\n",
    "    \"\"\"\n",
    "    data_array = [] # placeholder for dataframes\n",
    "    for filename in data_filenames:\n",
    "        full_path = join(getcwd(), 'data', filename)\n",
    "        print(\"Loading: \" + filename)\n",
    "        data_array.append(pd.read_csv(full_path))\n",
    "    \n",
    "    return(pd.concat(data_array, ignore_index = True))"
   ]
  },
  {
   "cell_type": "code",
   "execution_count": 4,
   "metadata": {},
   "outputs": [
    {
     "name": "stdout",
     "output_type": "stream",
     "text": [
      "Loading: 2016Q1.csv.gz\n",
      "Loading: 2016Q2.csv.gz\n",
      "Loading: 2017Q1.csv.gz\n",
      "Loading: 2017Q4.csv.gz\n",
      "Loading: 2017Q2.csv.gz\n",
      "Loading: 2017Q3.csv.gz\n",
      "Loading: 2016Q3.csv.gz\n",
      "Loading: 2016Q4.csv.gz\n"
     ]
    }
   ],
   "source": [
    "raw = load_data()\n",
    "# create boolean variable for charged off loan status\n",
    "raw['charged_off'] = raw['loan_status'] == 'Charged Off' "
   ]
  },
  {
   "cell_type": "code",
   "execution_count": 5,
   "metadata": {},
   "outputs": [
    {
     "data": {
      "text/plain": [
       "(438991, 56)"
      ]
     },
     "execution_count": 5,
     "metadata": {},
     "output_type": "execute_result"
    }
   ],
   "source": [
    "raw.shape"
   ]
  },
  {
   "cell_type": "code",
   "execution_count": 6,
   "metadata": {},
   "outputs": [
    {
     "data": {
      "text/html": [
       "<div>\n",
       "<style scoped>\n",
       "    .dataframe tbody tr th:only-of-type {\n",
       "        vertical-align: middle;\n",
       "    }\n",
       "\n",
       "    .dataframe tbody tr th {\n",
       "        vertical-align: top;\n",
       "    }\n",
       "\n",
       "    .dataframe thead th {\n",
       "        text-align: right;\n",
       "    }\n",
       "</style>\n",
       "<table border=\"1\" class=\"dataframe\">\n",
       "  <thead>\n",
       "    <tr style=\"text-align: right;\">\n",
       "      <th></th>\n",
       "      <th>id</th>\n",
       "      <th>funded_amnt</th>\n",
       "      <th>term</th>\n",
       "      <th>int_rate</th>\n",
       "      <th>installment</th>\n",
       "      <th>emp_title</th>\n",
       "      <th>emp_length</th>\n",
       "      <th>home_ownership</th>\n",
       "      <th>annual_inc</th>\n",
       "      <th>loan_status</th>\n",
       "      <th>purpose</th>\n",
       "      <th>zip_code</th>\n",
       "      <th>addr_state</th>\n",
       "      <th>dti</th>\n",
       "      <th>delinq_2yrs</th>\n",
       "      <th>earliest_cr_line</th>\n",
       "      <th>fico_range_high</th>\n",
       "      <th>inq_last_6mths</th>\n",
       "      <th>mths_since_last_delinq</th>\n",
       "      <th>open_acc</th>\n",
       "      <th>revol_bal</th>\n",
       "      <th>revol_util</th>\n",
       "      <th>total_acc</th>\n",
       "      <th>application_type</th>\n",
       "      <th>annual_inc_joint</th>\n",
       "      <th>dti_joint</th>\n",
       "      <th>open_act_il</th>\n",
       "      <th>open_il_24m</th>\n",
       "      <th>il_util</th>\n",
       "      <th>open_rv_24m</th>\n",
       "      <th>all_util</th>\n",
       "      <th>total_rev_hi_lim</th>\n",
       "      <th>inq_last_12m</th>\n",
       "      <th>acc_open_past_24mths</th>\n",
       "      <th>bc_open_to_buy</th>\n",
       "      <th>bc_util</th>\n",
       "      <th>mort_acc</th>\n",
       "      <th>mths_since_recent_bc</th>\n",
       "      <th>mths_since_recent_bc_dlq</th>\n",
       "      <th>mths_since_recent_revol_delinq</th>\n",
       "      <th>num_accts_ever_120_pd</th>\n",
       "      <th>num_rev_accts</th>\n",
       "      <th>num_rev_tl_bal_gt_0</th>\n",
       "      <th>num_sats</th>\n",
       "      <th>num_tl_90g_dpd_24m</th>\n",
       "      <th>num_tl_op_past_12m</th>\n",
       "      <th>pct_tl_nvr_dlq</th>\n",
       "      <th>percent_bc_gt_75</th>\n",
       "      <th>pub_rec_bankruptcies</th>\n",
       "      <th>total_bal_ex_mort</th>\n",
       "      <th>total_bc_limit</th>\n",
       "      <th>revol_bal_joint</th>\n",
       "      <th>sec_app_fico_range_high</th>\n",
       "      <th>sec_app_earliest_cr_line</th>\n",
       "      <th>sec_app_inq_last_6mths</th>\n",
       "      <th>charged_off</th>\n",
       "    </tr>\n",
       "  </thead>\n",
       "  <tbody>\n",
       "    <tr>\n",
       "      <th>110696</th>\n",
       "      <td>78199485</td>\n",
       "      <td>7000</td>\n",
       "      <td>36 months</td>\n",
       "      <td>9.75%</td>\n",
       "      <td>225.05</td>\n",
       "      <td>Sales Manager</td>\n",
       "      <td>6 years</td>\n",
       "      <td>MORTGAGE</td>\n",
       "      <td>109000.0</td>\n",
       "      <td>Current</td>\n",
       "      <td>other</td>\n",
       "      <td>358xx</td>\n",
       "      <td>AL</td>\n",
       "      <td>19.88</td>\n",
       "      <td>0</td>\n",
       "      <td>Dec-01</td>\n",
       "      <td>689</td>\n",
       "      <td>0.0</td>\n",
       "      <td>NaN</td>\n",
       "      <td>11</td>\n",
       "      <td>10060</td>\n",
       "      <td>99.60%</td>\n",
       "      <td>23</td>\n",
       "      <td>Individual</td>\n",
       "      <td>NaN</td>\n",
       "      <td>NaN</td>\n",
       "      <td>4.0</td>\n",
       "      <td>4.0</td>\n",
       "      <td>69.0</td>\n",
       "      <td>0.0</td>\n",
       "      <td>73.0</td>\n",
       "      <td>10100</td>\n",
       "      <td>0.0</td>\n",
       "      <td>4</td>\n",
       "      <td>0.0</td>\n",
       "      <td>100.4</td>\n",
       "      <td>1</td>\n",
       "      <td>45.0</td>\n",
       "      <td>NaN</td>\n",
       "      <td>NaN</td>\n",
       "      <td>0</td>\n",
       "      <td>11</td>\n",
       "      <td>6</td>\n",
       "      <td>11</td>\n",
       "      <td>0</td>\n",
       "      <td>1</td>\n",
       "      <td>100.0</td>\n",
       "      <td>100.0</td>\n",
       "      <td>0</td>\n",
       "      <td>59679</td>\n",
       "      <td>9000</td>\n",
       "      <td>NaN</td>\n",
       "      <td>NaN</td>\n",
       "      <td>NaN</td>\n",
       "      <td>NaN</td>\n",
       "      <td>False</td>\n",
       "    </tr>\n",
       "    <tr>\n",
       "      <th>428922</th>\n",
       "      <td>90815825</td>\n",
       "      <td>12000</td>\n",
       "      <td>60 months</td>\n",
       "      <td>14.49%</td>\n",
       "      <td>282.28</td>\n",
       "      <td>Senior Analyst</td>\n",
       "      <td>4 years</td>\n",
       "      <td>MORTGAGE</td>\n",
       "      <td>79000.0</td>\n",
       "      <td>Fully Paid</td>\n",
       "      <td>home_improvement</td>\n",
       "      <td>480xx</td>\n",
       "      <td>MI</td>\n",
       "      <td>15.56</td>\n",
       "      <td>0</td>\n",
       "      <td>Sep-01</td>\n",
       "      <td>709</td>\n",
       "      <td>0.0</td>\n",
       "      <td>NaN</td>\n",
       "      <td>6</td>\n",
       "      <td>14403</td>\n",
       "      <td>74.20%</td>\n",
       "      <td>14</td>\n",
       "      <td>Individual</td>\n",
       "      <td>NaN</td>\n",
       "      <td>NaN</td>\n",
       "      <td>2.0</td>\n",
       "      <td>1.0</td>\n",
       "      <td>53.0</td>\n",
       "      <td>1.0</td>\n",
       "      <td>67.0</td>\n",
       "      <td>19400</td>\n",
       "      <td>2.0</td>\n",
       "      <td>4</td>\n",
       "      <td>4997.0</td>\n",
       "      <td>74.2</td>\n",
       "      <td>3</td>\n",
       "      <td>14.0</td>\n",
       "      <td>NaN</td>\n",
       "      <td>NaN</td>\n",
       "      <td>0</td>\n",
       "      <td>6</td>\n",
       "      <td>2</td>\n",
       "      <td>6</td>\n",
       "      <td>0</td>\n",
       "      <td>0</td>\n",
       "      <td>100.0</td>\n",
       "      <td>33.3</td>\n",
       "      <td>1</td>\n",
       "      <td>61177</td>\n",
       "      <td>19400</td>\n",
       "      <td>NaN</td>\n",
       "      <td>NaN</td>\n",
       "      <td>NaN</td>\n",
       "      <td>NaN</td>\n",
       "      <td>False</td>\n",
       "    </tr>\n",
       "    <tr>\n",
       "      <th>200426</th>\n",
       "      <td>122982893</td>\n",
       "      <td>6000</td>\n",
       "      <td>36 months</td>\n",
       "      <td>9.44%</td>\n",
       "      <td>192.03</td>\n",
       "      <td>Radiologic  Texhnologist</td>\n",
       "      <td>10+ years</td>\n",
       "      <td>OWN</td>\n",
       "      <td>54000.0</td>\n",
       "      <td>Fully Paid</td>\n",
       "      <td>debt_consolidation</td>\n",
       "      <td>317xx</td>\n",
       "      <td>GA</td>\n",
       "      <td>19.66</td>\n",
       "      <td>0</td>\n",
       "      <td>Feb-97</td>\n",
       "      <td>699</td>\n",
       "      <td>0.0</td>\n",
       "      <td>NaN</td>\n",
       "      <td>5</td>\n",
       "      <td>14613</td>\n",
       "      <td>59.20%</td>\n",
       "      <td>14</td>\n",
       "      <td>Individual</td>\n",
       "      <td>NaN</td>\n",
       "      <td>NaN</td>\n",
       "      <td>1.0</td>\n",
       "      <td>1.0</td>\n",
       "      <td>52.0</td>\n",
       "      <td>2.0</td>\n",
       "      <td>56.0</td>\n",
       "      <td>24700</td>\n",
       "      <td>0.0</td>\n",
       "      <td>3</td>\n",
       "      <td>9113.0</td>\n",
       "      <td>61.5</td>\n",
       "      <td>0</td>\n",
       "      <td>3.0</td>\n",
       "      <td>NaN</td>\n",
       "      <td>NaN</td>\n",
       "      <td>0</td>\n",
       "      <td>6</td>\n",
       "      <td>3</td>\n",
       "      <td>5</td>\n",
       "      <td>0</td>\n",
       "      <td>1</td>\n",
       "      <td>100.0</td>\n",
       "      <td>33.3</td>\n",
       "      <td>1</td>\n",
       "      <td>22931</td>\n",
       "      <td>23700</td>\n",
       "      <td>NaN</td>\n",
       "      <td>NaN</td>\n",
       "      <td>NaN</td>\n",
       "      <td>NaN</td>\n",
       "      <td>False</td>\n",
       "    </tr>\n",
       "  </tbody>\n",
       "</table>\n",
       "</div>"
      ],
      "text/plain": [
       "               id  funded_amnt        term int_rate  installment  \\\n",
       "110696   78199485         7000   36 months    9.75%       225.05   \n",
       "428922   90815825        12000   60 months   14.49%       282.28   \n",
       "200426  122982893         6000   36 months    9.44%       192.03   \n",
       "\n",
       "                       emp_title emp_length home_ownership  annual_inc  \\\n",
       "110696             Sales Manager    6 years       MORTGAGE    109000.0   \n",
       "428922            Senior Analyst    4 years       MORTGAGE     79000.0   \n",
       "200426  Radiologic  Texhnologist  10+ years            OWN     54000.0   \n",
       "\n",
       "       loan_status             purpose zip_code addr_state    dti  \\\n",
       "110696     Current               other    358xx         AL  19.88   \n",
       "428922  Fully Paid    home_improvement    480xx         MI  15.56   \n",
       "200426  Fully Paid  debt_consolidation    317xx         GA  19.66   \n",
       "\n",
       "        delinq_2yrs earliest_cr_line  fico_range_high  inq_last_6mths  \\\n",
       "110696            0           Dec-01              689             0.0   \n",
       "428922            0           Sep-01              709             0.0   \n",
       "200426            0           Feb-97              699             0.0   \n",
       "\n",
       "        mths_since_last_delinq  open_acc  revol_bal revol_util  total_acc  \\\n",
       "110696                     NaN        11      10060     99.60%         23   \n",
       "428922                     NaN         6      14403     74.20%         14   \n",
       "200426                     NaN         5      14613     59.20%         14   \n",
       "\n",
       "       application_type  annual_inc_joint  dti_joint  open_act_il  \\\n",
       "110696       Individual               NaN        NaN          4.0   \n",
       "428922       Individual               NaN        NaN          2.0   \n",
       "200426       Individual               NaN        NaN          1.0   \n",
       "\n",
       "        open_il_24m  il_util  open_rv_24m  all_util  total_rev_hi_lim  \\\n",
       "110696          4.0     69.0          0.0      73.0             10100   \n",
       "428922          1.0     53.0          1.0      67.0             19400   \n",
       "200426          1.0     52.0          2.0      56.0             24700   \n",
       "\n",
       "        inq_last_12m  acc_open_past_24mths  bc_open_to_buy  bc_util  mort_acc  \\\n",
       "110696           0.0                     4             0.0    100.4         1   \n",
       "428922           2.0                     4          4997.0     74.2         3   \n",
       "200426           0.0                     3          9113.0     61.5         0   \n",
       "\n",
       "        mths_since_recent_bc  mths_since_recent_bc_dlq  \\\n",
       "110696                  45.0                       NaN   \n",
       "428922                  14.0                       NaN   \n",
       "200426                   3.0                       NaN   \n",
       "\n",
       "        mths_since_recent_revol_delinq  num_accts_ever_120_pd  num_rev_accts  \\\n",
       "110696                             NaN                      0             11   \n",
       "428922                             NaN                      0              6   \n",
       "200426                             NaN                      0              6   \n",
       "\n",
       "        num_rev_tl_bal_gt_0  num_sats  num_tl_90g_dpd_24m  num_tl_op_past_12m  \\\n",
       "110696                    6        11                   0                   1   \n",
       "428922                    2         6                   0                   0   \n",
       "200426                    3         5                   0                   1   \n",
       "\n",
       "        pct_tl_nvr_dlq  percent_bc_gt_75  pub_rec_bankruptcies  \\\n",
       "110696           100.0             100.0                     0   \n",
       "428922           100.0              33.3                     1   \n",
       "200426           100.0              33.3                     1   \n",
       "\n",
       "        total_bal_ex_mort  total_bc_limit  revol_bal_joint  \\\n",
       "110696              59679            9000              NaN   \n",
       "428922              61177           19400              NaN   \n",
       "200426              22931           23700              NaN   \n",
       "\n",
       "        sec_app_fico_range_high sec_app_earliest_cr_line  \\\n",
       "110696                      NaN                      NaN   \n",
       "428922                      NaN                      NaN   \n",
       "200426                      NaN                      NaN   \n",
       "\n",
       "        sec_app_inq_last_6mths  charged_off  \n",
       "110696                     NaN        False  \n",
       "428922                     NaN        False  \n",
       "200426                     NaN        False  "
      ]
     },
     "execution_count": 6,
     "metadata": {},
     "output_type": "execute_result"
    }
   ],
   "source": [
    "raw.sample(3)"
   ]
  },
  {
   "cell_type": "code",
   "execution_count": 7,
   "metadata": {},
   "outputs": [
    {
     "data": {
      "text/plain": [
       "id                                     0\n",
       "funded_amnt                            0\n",
       "term                                   0\n",
       "int_rate                               0\n",
       "installment                            0\n",
       "emp_title                          30367\n",
       "emp_length                         30013\n",
       "home_ownership                         0\n",
       "annual_inc                             0\n",
       "loan_status                            0\n",
       "purpose                                0\n",
       "zip_code                               0\n",
       "addr_state                             0\n",
       "dti                                  285\n",
       "delinq_2yrs                            0\n",
       "earliest_cr_line                       0\n",
       "fico_range_high                        0\n",
       "inq_last_6mths                         0\n",
       "mths_since_last_delinq            213676\n",
       "open_acc                               0\n",
       "revol_bal                              0\n",
       "revol_util                           359\n",
       "total_acc                              0\n",
       "application_type                       0\n",
       "annual_inc_joint                  413182\n",
       "dti_joint                         413183\n",
       "open_act_il                           27\n",
       "open_il_24m                           27\n",
       "il_util                            59565\n",
       "open_rv_24m                           27\n",
       "all_util                              74\n",
       "total_rev_hi_lim                       0\n",
       "inq_last_12m                          27\n",
       "acc_open_past_24mths                   0\n",
       "bc_open_to_buy                      5191\n",
       "bc_util                             5389\n",
       "mort_acc                               0\n",
       "mths_since_recent_bc                4902\n",
       "mths_since_recent_bc_dlq          331967\n",
       "mths_since_recent_revol_delinq    285586\n",
       "num_accts_ever_120_pd                  0\n",
       "num_rev_accts                          0\n",
       "num_rev_tl_bal_gt_0                    0\n",
       "num_sats                               0\n",
       "num_tl_90g_dpd_24m                     0\n",
       "num_tl_op_past_12m                     0\n",
       "pct_tl_nvr_dlq                         0\n",
       "percent_bc_gt_75                    5217\n",
       "pub_rec_bankruptcies                   0\n",
       "total_bal_ex_mort                      0\n",
       "total_bc_limit                         0\n",
       "revol_bal_joint                   419321\n",
       "sec_app_fico_range_high           419320\n",
       "sec_app_earliest_cr_line          419320\n",
       "sec_app_inq_last_6mths            419320\n",
       "charged_off                            0\n",
       "dtype: int64"
      ]
     },
     "execution_count": 7,
     "metadata": {},
     "output_type": "execute_result"
    }
   ],
   "source": [
    "raw.isna().sum()"
   ]
  },
  {
   "cell_type": "code",
   "execution_count": 8,
   "metadata": {},
   "outputs": [
    {
     "name": "stdout",
     "output_type": "stream",
     "text": [
      "<class 'pandas.core.frame.DataFrame'>\n",
      "RangeIndex: 438991 entries, 0 to 438990\n",
      "Data columns (total 56 columns):\n",
      " #   Column                          Non-Null Count   Dtype  \n",
      "---  ------                          --------------   -----  \n",
      " 0   id                              438991 non-null  int64  \n",
      " 1   funded_amnt                     438991 non-null  int64  \n",
      " 2   term                            438991 non-null  object \n",
      " 3   int_rate                        438991 non-null  object \n",
      " 4   installment                     438991 non-null  float64\n",
      " 5   emp_title                       408624 non-null  object \n",
      " 6   emp_length                      408978 non-null  object \n",
      " 7   home_ownership                  438991 non-null  object \n",
      " 8   annual_inc                      438991 non-null  float64\n",
      " 9   loan_status                     438991 non-null  object \n",
      " 10  purpose                         438991 non-null  object \n",
      " 11  zip_code                        438991 non-null  object \n",
      " 12  addr_state                      438991 non-null  object \n",
      " 13  dti                             438706 non-null  float64\n",
      " 14  delinq_2yrs                     438991 non-null  int64  \n",
      " 15  earliest_cr_line                438991 non-null  object \n",
      " 16  fico_range_high                 438991 non-null  int64  \n",
      " 17  inq_last_6mths                  438991 non-null  float64\n",
      " 18  mths_since_last_delinq          225315 non-null  float64\n",
      " 19  open_acc                        438991 non-null  int64  \n",
      " 20  revol_bal                       438991 non-null  int64  \n",
      " 21  revol_util                      438632 non-null  object \n",
      " 22  total_acc                       438991 non-null  int64  \n",
      " 23  application_type                438991 non-null  object \n",
      " 24  annual_inc_joint                25809 non-null   float64\n",
      " 25  dti_joint                       25808 non-null   float64\n",
      " 26  open_act_il                     438964 non-null  float64\n",
      " 27  open_il_24m                     438964 non-null  float64\n",
      " 28  il_util                         379426 non-null  float64\n",
      " 29  open_rv_24m                     438964 non-null  float64\n",
      " 30  all_util                        438917 non-null  float64\n",
      " 31  total_rev_hi_lim                438991 non-null  int64  \n",
      " 32  inq_last_12m                    438964 non-null  float64\n",
      " 33  acc_open_past_24mths            438991 non-null  int64  \n",
      " 34  bc_open_to_buy                  433800 non-null  float64\n",
      " 35  bc_util                         433602 non-null  float64\n",
      " 36  mort_acc                        438991 non-null  int64  \n",
      " 37  mths_since_recent_bc            434089 non-null  float64\n",
      " 38  mths_since_recent_bc_dlq        107024 non-null  float64\n",
      " 39  mths_since_recent_revol_delinq  153405 non-null  float64\n",
      " 40  num_accts_ever_120_pd           438991 non-null  int64  \n",
      " 41  num_rev_accts                   438991 non-null  int64  \n",
      " 42  num_rev_tl_bal_gt_0             438991 non-null  int64  \n",
      " 43  num_sats                        438991 non-null  int64  \n",
      " 44  num_tl_90g_dpd_24m              438991 non-null  int64  \n",
      " 45  num_tl_op_past_12m              438991 non-null  int64  \n",
      " 46  pct_tl_nvr_dlq                  438991 non-null  float64\n",
      " 47  percent_bc_gt_75                433774 non-null  float64\n",
      " 48  pub_rec_bankruptcies            438991 non-null  int64  \n",
      " 49  total_bal_ex_mort               438991 non-null  int64  \n",
      " 50  total_bc_limit                  438991 non-null  int64  \n",
      " 51  revol_bal_joint                 19670 non-null   float64\n",
      " 52  sec_app_fico_range_high         19671 non-null   float64\n",
      " 53  sec_app_earliest_cr_line        19671 non-null   object \n",
      " 54  sec_app_inq_last_6mths          19671 non-null   float64\n",
      " 55  charged_off                     438991 non-null  bool   \n",
      "dtypes: bool(1), float64(23), int64(19), object(13)\n",
      "memory usage: 184.6+ MB\n"
     ]
    }
   ],
   "source": [
    "raw.info()"
   ]
  },
  {
   "cell_type": "code",
   "execution_count": 9,
   "metadata": {},
   "outputs": [
    {
     "data": {
      "text/plain": [
       "(438991,)"
      ]
     },
     "execution_count": 9,
     "metadata": {},
     "output_type": "execute_result"
    }
   ],
   "source": [
    "raw['id'].drop_duplicates().shape"
   ]
  },
  {
   "cell_type": "code",
   "execution_count": 10,
   "metadata": {},
   "outputs": [
    {
     "data": {
      "text/plain": [
       "(438991, 56)"
      ]
     },
     "execution_count": 10,
     "metadata": {},
     "output_type": "execute_result"
    }
   ],
   "source": [
    "raw.shape"
   ]
  },
  {
   "cell_type": "code",
   "execution_count": 11,
   "metadata": {},
   "outputs": [
    {
     "data": {
      "text/plain": [
       "Current               251552\n",
       "Fully Paid            132055\n",
       "Charged Off            40902\n",
       "Late (31-120 days)      8209\n",
       "In Grace Period         4016\n",
       "Late (16-30 days)       2257\n",
       "Name: loan_status, dtype: int64"
      ]
     },
     "execution_count": 11,
     "metadata": {},
     "output_type": "execute_result"
    }
   ],
   "source": [
    "raw['loan_status'].value_counts(dropna = False)"
   ]
  },
  {
   "cell_type": "code",
   "execution_count": 12,
   "metadata": {},
   "outputs": [
    {
     "data": {
      "text/plain": [
       "debt_consolidation    246935\n",
       "credit_card            91374\n",
       "home_improvement       32995\n",
       "other                  30875\n",
       "major_purchase         10685\n",
       "medical                 6248\n",
       "car                     5062\n",
       "small_business          4930\n",
       "vacation                3585\n",
       "moving                  3480\n",
       "house                   2525\n",
       "renewable_energy         295\n",
       "educational                1\n",
       "wedding                    1\n",
       "Name: purpose, dtype: int64"
      ]
     },
     "execution_count": 12,
     "metadata": {},
     "output_type": "execute_result"
    }
   ],
   "source": [
    "raw['purpose'].value_counts()[:15]"
   ]
  },
  {
   "cell_type": "markdown",
   "metadata": {},
   "source": [
    "## Build Model"
   ]
  },
  {
   "cell_type": "code",
   "execution_count": 13,
   "metadata": {},
   "outputs": [
    {
     "name": "stderr",
     "output_type": "stream",
     "text": [
      "\n",
      "Bad key \"text.kerning_factor\" on line 4 in\n",
      "/home/cambonator/anaconda3/lib/python3.7/site-packages/matplotlib/mpl-data/stylelib/_classic_test_patch.mplstyle.\n",
      "You probably need to get an updated matplotlibrc file from\n",
      "http://github.com/matplotlib/matplotlib/blob/master/matplotlibrc.template\n",
      "or from the matplotlib source distribution\n"
     ]
    }
   ],
   "source": [
    "from sklearn.linear_model import LogisticRegression\n",
    "from sklearn.pipeline import make_pipeline\n",
    "from sklearn.model_selection import train_test_split\n",
    "import numpy as np\n",
    "from yellowbrick.regressor import residuals_plot, prediction_error\n",
    "from yellowbrick.classifier import DiscriminationThreshold, ClassificationReport\n",
    "from sklearn.preprocessing import OneHotEncoder, StandardScaler\n",
    "from sklearn.compose import ColumnTransformer\n",
    "from sklearn.compose import make_column_selector as selector\n",
    "from sklearn import set_config\n",
    "from sklearn.metrics import mean_absolute_error\n",
    "from sklearn.impute import SimpleImputer\n",
    "from sklearn.pipeline import Pipeline\n",
    "from sklearn import set_config\n",
    "from sklearn.ensemble import RandomForestClassifier\n",
    "from imblearn.over_sampling import SMOTE \n",
    "from sklearn.metrics import roc_auc_score\n",
    "from time import time\n",
    "\n",
    "#set_config(display=\"diagram\")\n",
    "\n",
    "\n",
    "def class_report(model, test = True):\n",
    "    \"\"\"\n",
    "    Use yellowbrick to get a classifiation report on\n",
    "    a model for the test datset\n",
    "    \"\"\"\n",
    "    visualizer = ClassificationReport(model)\n",
    "    if test:\n",
    "        visualizer.fit(X_test, y_test)\n",
    "        visualizer.score(X_test, y_test)\n",
    "    else:\n",
    "        visualizer.fit(X_train, y_train)\n",
    "        visualizer.score(X_train, y_train)\n",
    "    visualizer.show()\n",
    "\n",
    "def print_time_elapsed(t0):\n",
    "    \"\"\"\n",
    "    Print time elapsed in seconds since time t0\n",
    "    \"\"\"\n",
    "    print(\"%.1f seconds elapsed\" % (time() - t0))"
   ]
  },
  {
   "cell_type": "code",
   "execution_count": 14,
   "metadata": {},
   "outputs": [],
   "source": [
    "# predictors from the original dataset to include in the models\n",
    "selected_X_columns = [\n",
    "    'annual_inc', 'purpose', 'home_ownership', 'dti', 'delinq_2yrs']\n",
    "\n",
    "X_orig = raw[selected_X_columns]"
   ]
  },
  {
   "cell_type": "code",
   "execution_count": 15,
   "metadata": {},
   "outputs": [],
   "source": [
    "# transform categorical and numerical columns\n",
    "numerical_columns_selector = selector(dtype_exclude=object)\n",
    "categorical_columns_selector = selector(dtype_include=object)\n",
    "\n",
    "numerical_columns = numerical_columns_selector(X_orig)\n",
    "categorical_columns = categorical_columns_selector(X_orig)\n",
    "\n",
    "categorical_preprocessor = OneHotEncoder(handle_unknown=\"ignore\")\n",
    "#numerical_preprocessor = StandardScaler()\n",
    "\n",
    "numeric_transformer = Pipeline([(\"imputer\", \n",
    "    SimpleImputer(strategy=\"median\")), (\"scaler\", StandardScaler())])\n",
    "\n",
    "preprocessor = ColumnTransformer([\n",
    "    ('one-hot-encoder', categorical_preprocessor, categorical_columns),\n",
    "    ('standard-scaler', numeric_transformer, numerical_columns)])\n",
    "\n",
    "# create model pipelines\n",
    "lr_model = LogisticRegression(solver='liblinear')\n",
    "\n",
    "rf_model = RandomForestClassifier(n_jobs = -1, n_estimators=25)"
   ]
  },
  {
   "cell_type": "code",
   "execution_count": 16,
   "metadata": {},
   "outputs": [],
   "source": [
    "# perform preprocessing on predictors\n",
    "X = preprocessor.fit_transform(\n",
    "    X_orig\n",
    "    )\n",
    "\n",
    "#y = np.log10(study_df[['total_gmv']].values.ravel())\n",
    "y = raw[['charged_off']].values.ravel()\n",
    "# https://scikit-learn.org/stable/auto_examples/compose/plot_column_transformer_mixed_types.html"
   ]
  },
  {
   "cell_type": "code",
   "execution_count": 17,
   "metadata": {},
   "outputs": [
    {
     "ename": "AttributeError",
     "evalue": "'SMOTE' object has no attribute '_validate_data'",
     "output_type": "error",
     "traceback": [
      "\u001b[0;31m---------------------------------------------------------------------------\u001b[0m",
      "\u001b[0;31mAttributeError\u001b[0m                            Traceback (most recent call last)",
      "\u001b[0;32m/tmp/ipykernel_63330/1018268750.py\u001b[0m in \u001b[0;36m<module>\u001b[0;34m\u001b[0m\n\u001b[1;32m      2\u001b[0m \u001b[0mt0\u001b[0m \u001b[0;34m=\u001b[0m \u001b[0mtime\u001b[0m\u001b[0;34m(\u001b[0m\u001b[0;34m)\u001b[0m\u001b[0;34m\u001b[0m\u001b[0;34m\u001b[0m\u001b[0m\n\u001b[1;32m      3\u001b[0m \u001b[0msm\u001b[0m \u001b[0;34m=\u001b[0m \u001b[0mSMOTE\u001b[0m\u001b[0;34m(\u001b[0m\u001b[0mrandom_state\u001b[0m\u001b[0;34m=\u001b[0m\u001b[0;36m42\u001b[0m\u001b[0;34m,\u001b[0m \u001b[0mn_jobs\u001b[0m \u001b[0;34m=\u001b[0m \u001b[0;34m-\u001b[0m\u001b[0;36m1\u001b[0m\u001b[0;34m)\u001b[0m\u001b[0;34m\u001b[0m\u001b[0;34m\u001b[0m\u001b[0m\n\u001b[0;32m----> 4\u001b[0;31m \u001b[0mX_res\u001b[0m\u001b[0;34m,\u001b[0m \u001b[0my_res\u001b[0m \u001b[0;34m=\u001b[0m \u001b[0msm\u001b[0m\u001b[0;34m.\u001b[0m\u001b[0mfit_resample\u001b[0m\u001b[0;34m(\u001b[0m\u001b[0mX\u001b[0m\u001b[0;34m,\u001b[0m \u001b[0my\u001b[0m\u001b[0;34m)\u001b[0m\u001b[0;34m\u001b[0m\u001b[0;34m\u001b[0m\u001b[0m\n\u001b[0m\u001b[1;32m      5\u001b[0m \u001b[0mprint_time_elapsed\u001b[0m\u001b[0;34m(\u001b[0m\u001b[0mt0\u001b[0m\u001b[0;34m)\u001b[0m\u001b[0;34m\u001b[0m\u001b[0;34m\u001b[0m\u001b[0m\n",
      "\u001b[0;32m~/anaconda3/lib/python3.7/site-packages/imblearn/base.py\u001b[0m in \u001b[0;36mfit_resample\u001b[0;34m(self, X, y)\u001b[0m\n\u001b[1;32m     75\u001b[0m         \u001b[0mcheck_classification_targets\u001b[0m\u001b[0;34m(\u001b[0m\u001b[0my\u001b[0m\u001b[0;34m)\u001b[0m\u001b[0;34m\u001b[0m\u001b[0;34m\u001b[0m\u001b[0m\n\u001b[1;32m     76\u001b[0m         \u001b[0marrays_transformer\u001b[0m \u001b[0;34m=\u001b[0m \u001b[0mArraysTransformer\u001b[0m\u001b[0;34m(\u001b[0m\u001b[0mX\u001b[0m\u001b[0;34m,\u001b[0m \u001b[0my\u001b[0m\u001b[0;34m)\u001b[0m\u001b[0;34m\u001b[0m\u001b[0;34m\u001b[0m\u001b[0m\n\u001b[0;32m---> 77\u001b[0;31m         \u001b[0mX\u001b[0m\u001b[0;34m,\u001b[0m \u001b[0my\u001b[0m\u001b[0;34m,\u001b[0m \u001b[0mbinarize_y\u001b[0m \u001b[0;34m=\u001b[0m \u001b[0mself\u001b[0m\u001b[0;34m.\u001b[0m\u001b[0m_check_X_y\u001b[0m\u001b[0;34m(\u001b[0m\u001b[0mX\u001b[0m\u001b[0;34m,\u001b[0m \u001b[0my\u001b[0m\u001b[0;34m)\u001b[0m\u001b[0;34m\u001b[0m\u001b[0;34m\u001b[0m\u001b[0m\n\u001b[0m\u001b[1;32m     78\u001b[0m \u001b[0;34m\u001b[0m\u001b[0m\n\u001b[1;32m     79\u001b[0m         self.sampling_strategy_ = check_sampling_strategy(\n",
      "\u001b[0;32m~/anaconda3/lib/python3.7/site-packages/imblearn/base.py\u001b[0m in \u001b[0;36m_check_X_y\u001b[0;34m(self, X, y, accept_sparse)\u001b[0m\n\u001b[1;32m    132\u001b[0m             \u001b[0maccept_sparse\u001b[0m \u001b[0;34m=\u001b[0m \u001b[0;34m[\u001b[0m\u001b[0;34m\"csr\"\u001b[0m\u001b[0;34m,\u001b[0m \u001b[0;34m\"csc\"\u001b[0m\u001b[0;34m]\u001b[0m\u001b[0;34m\u001b[0m\u001b[0;34m\u001b[0m\u001b[0m\n\u001b[1;32m    133\u001b[0m         \u001b[0my\u001b[0m\u001b[0;34m,\u001b[0m \u001b[0mbinarize_y\u001b[0m \u001b[0;34m=\u001b[0m \u001b[0mcheck_target_type\u001b[0m\u001b[0;34m(\u001b[0m\u001b[0my\u001b[0m\u001b[0;34m,\u001b[0m \u001b[0mindicate_one_vs_all\u001b[0m\u001b[0;34m=\u001b[0m\u001b[0;32mTrue\u001b[0m\u001b[0;34m)\u001b[0m\u001b[0;34m\u001b[0m\u001b[0;34m\u001b[0m\u001b[0m\n\u001b[0;32m--> 134\u001b[0;31m         X, y = self._validate_data(\n\u001b[0m\u001b[1;32m    135\u001b[0m             \u001b[0mX\u001b[0m\u001b[0;34m,\u001b[0m \u001b[0my\u001b[0m\u001b[0;34m,\u001b[0m \u001b[0mreset\u001b[0m\u001b[0;34m=\u001b[0m\u001b[0;32mTrue\u001b[0m\u001b[0;34m,\u001b[0m \u001b[0maccept_sparse\u001b[0m\u001b[0;34m=\u001b[0m\u001b[0maccept_sparse\u001b[0m\u001b[0;34m\u001b[0m\u001b[0;34m\u001b[0m\u001b[0m\n\u001b[1;32m    136\u001b[0m         )\n",
      "\u001b[0;31mAttributeError\u001b[0m: 'SMOTE' object has no attribute '_validate_data'"
     ]
    }
   ],
   "source": [
    "# Apply SMOTE to get balanced classes\n",
    "t0 = time()\n",
    "sm = SMOTE(random_state=42, n_jobs = -1)\n",
    "X_res, y_res = sm.fit_resample(X, y)\n",
    "print_time_elapsed(t0)"
   ]
  },
  {
   "cell_type": "code",
   "execution_count": null,
   "metadata": {},
   "outputs": [],
   "source": [
    "np.mean(y_res) # check class imbalance"
   ]
  },
  {
   "cell_type": "code",
   "execution_count": null,
   "metadata": {},
   "outputs": [],
   "source": [
    "# Test/Train split\n",
    "X_train, X_test, y_train, y_test = train_test_split(\n",
    "    X_res, # predictors\n",
    "    y_res, # outcome variable\n",
    "    test_size = 0.50, \n",
    "    random_state = 42\n",
    ")"
   ]
  },
  {
   "cell_type": "markdown",
   "metadata": {},
   "source": [
    "## Train Models"
   ]
  },
  {
   "cell_type": "code",
   "execution_count": null,
   "metadata": {},
   "outputs": [],
   "source": [
    "t0 = time()\n",
    "# train models\n",
    "lr_model.fit(X_train, y_train)\n",
    "print_time_elapsed(t0)"
   ]
  },
  {
   "cell_type": "code",
   "execution_count": null,
   "metadata": {},
   "outputs": [],
   "source": [
    "t0 = time()\n",
    "rf_model.fit(X_train, y_train)\n",
    "print_time_elapsed(t0)"
   ]
  },
  {
   "cell_type": "markdown",
   "metadata": {},
   "source": [
    "## Evaluate Models"
   ]
  },
  {
   "cell_type": "code",
   "execution_count": null,
   "metadata": {},
   "outputs": [],
   "source": [
    "def print_roc(model, test = True):\n",
    "    \"\"\"\n",
    "    Print ROC metric for an input the model\n",
    "    \"\"\"\n",
    "    if test:\n",
    "        roc = roc_auc_score(y_test, model.predict(X_test))\n",
    "    else:\n",
    "        roc = roc_auc_score(y_train, model.predict(X_train))\n",
    "    print(roc)"
   ]
  },
  {
   "cell_type": "code",
   "execution_count": null,
   "metadata": {},
   "outputs": [],
   "source": [
    "print_roc(rf_model)"
   ]
  },
  {
   "cell_type": "code",
   "execution_count": null,
   "metadata": {},
   "outputs": [],
   "source": [
    "print_roc(rf_model, test = False)"
   ]
  },
  {
   "cell_type": "code",
   "execution_count": null,
   "metadata": {},
   "outputs": [],
   "source": [
    "class_report(lr_model)"
   ]
  },
  {
   "cell_type": "code",
   "execution_count": null,
   "metadata": {},
   "outputs": [],
   "source": [
    "# Look at training set performance\n",
    "class_report(lr_model, test = False)"
   ]
  },
  {
   "cell_type": "code",
   "execution_count": null,
   "metadata": {},
   "outputs": [],
   "source": [
    "class_report(rf_model)"
   ]
  },
  {
   "cell_type": "code",
   "execution_count": null,
   "metadata": {},
   "outputs": [],
   "source": [
    "# Look at training set performance\n",
    "class_report(rf_model, test = False)"
   ]
  },
  {
   "cell_type": "code",
   "execution_count": null,
   "metadata": {},
   "outputs": [],
   "source": [
    "rf_model.feature_importances_"
   ]
  },
  {
   "cell_type": "code",
   "execution_count": null,
   "metadata": {},
   "outputs": [],
   "source": [
    "rf_model.get_features()"
   ]
  },
  {
   "cell_type": "markdown",
   "metadata": {},
   "source": [
    "## Lift Curve"
   ]
  },
  {
   "cell_type": "code",
   "execution_count": null,
   "metadata": {},
   "outputs": [],
   "source": [
    "from scikitplot.metrics import plot_lift_curve"
   ]
  },
  {
   "cell_type": "code",
   "execution_count": null,
   "metadata": {},
   "outputs": [],
   "source": [
    "y_probas = lr_model.predict_proba(X_test)\n",
    "plot_lift_curve(y_test, y_probas)\n",
    "plt.show()"
   ]
  },
  {
   "cell_type": "code",
   "execution_count": null,
   "metadata": {},
   "outputs": [],
   "source": []
  }
 ],
 "metadata": {
  "kernelspec": {
   "display_name": "Python 3 (ipykernel)",
   "language": "python",
   "name": "python3"
  },
  "language_info": {
   "codemirror_mode": {
    "name": "ipython",
    "version": 3
   },
   "file_extension": ".py",
   "mimetype": "text/x-python",
   "name": "python",
   "nbconvert_exporter": "python",
   "pygments_lexer": "ipython3",
   "version": "3.7.7"
  }
 },
 "nbformat": 4,
 "nbformat_minor": 4
}
