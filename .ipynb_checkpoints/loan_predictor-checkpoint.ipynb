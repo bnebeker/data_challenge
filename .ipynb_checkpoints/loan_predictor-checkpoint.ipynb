{
 "cells": [
  {
   "cell_type": "code",
   "execution_count": 1,
   "metadata": {},
   "outputs": [],
   "source": [
    "import pandas as pd\n",
    "from os import listdir, getcwd\n",
    "from os.path import isfile, join\n",
    "pd.set_option('display.max_columns', 500)"
   ]
  },
  {
   "cell_type": "code",
   "execution_count": 2,
   "metadata": {},
   "outputs": [],
   "source": [
    "# get filenames\n",
    "data_filenames = [ file for file in listdir('data') if isfile(join(getcwd(), 'data', file))]"
   ]
  },
  {
   "cell_type": "code",
   "execution_count": 3,
   "metadata": {},
   "outputs": [],
   "source": [
    "def load_data():\n",
    "    \"\"\"\n",
    "    Load all files, return single dataframe\n",
    "    \"\"\"\n",
    "    data_array = [] # placeholder for dataframes\n",
    "    for filename in data_filenames:\n",
    "        full_path = join(getcwd(), 'data', filename)\n",
    "        print(\"Loading: \" + filename)\n",
    "        data_array.append(pd.read_csv(full_path))\n",
    "    \n",
    "    return(pd.concat(data_array, ignore_index = True))"
   ]
  },
  {
   "cell_type": "code",
   "execution_count": 4,
   "metadata": {},
   "outputs": [
    {
     "name": "stdout",
     "output_type": "stream",
     "text": [
      "Loading: 2016Q1.csv.gz\n",
      "Loading: 2016Q2.csv.gz\n",
      "Loading: 2017Q1.csv.gz\n",
      "Loading: 2017Q4.csv.gz\n",
      "Loading: 2017Q2.csv.gz\n",
      "Loading: 2017Q3.csv.gz\n",
      "Loading: 2016Q3.csv.gz\n",
      "Loading: 2016Q4.csv.gz\n"
     ]
    }
   ],
   "source": [
    "raw = load_data()\n",
    "# create boolean variable for charged off loan status\n",
    "raw['charged_off'] = raw['loan_status'] == 'Charged Off' "
   ]
  },
  {
   "cell_type": "code",
   "execution_count": 5,
   "metadata": {},
   "outputs": [
    {
     "data": {
      "text/plain": [
       "(438991, 56)"
      ]
     },
     "execution_count": 5,
     "metadata": {},
     "output_type": "execute_result"
    }
   ],
   "source": [
    "raw.shape"
   ]
  },
  {
   "cell_type": "code",
   "execution_count": 6,
   "metadata": {},
   "outputs": [
    {
     "data": {
      "text/html": [
       "<div>\n",
       "<style scoped>\n",
       "    .dataframe tbody tr th:only-of-type {\n",
       "        vertical-align: middle;\n",
       "    }\n",
       "\n",
       "    .dataframe tbody tr th {\n",
       "        vertical-align: top;\n",
       "    }\n",
       "\n",
       "    .dataframe thead th {\n",
       "        text-align: right;\n",
       "    }\n",
       "</style>\n",
       "<table border=\"1\" class=\"dataframe\">\n",
       "  <thead>\n",
       "    <tr style=\"text-align: right;\">\n",
       "      <th></th>\n",
       "      <th>id</th>\n",
       "      <th>funded_amnt</th>\n",
       "      <th>term</th>\n",
       "      <th>int_rate</th>\n",
       "      <th>installment</th>\n",
       "      <th>emp_title</th>\n",
       "      <th>emp_length</th>\n",
       "      <th>home_ownership</th>\n",
       "      <th>annual_inc</th>\n",
       "      <th>loan_status</th>\n",
       "      <th>purpose</th>\n",
       "      <th>zip_code</th>\n",
       "      <th>addr_state</th>\n",
       "      <th>dti</th>\n",
       "      <th>delinq_2yrs</th>\n",
       "      <th>earliest_cr_line</th>\n",
       "      <th>fico_range_high</th>\n",
       "      <th>inq_last_6mths</th>\n",
       "      <th>mths_since_last_delinq</th>\n",
       "      <th>open_acc</th>\n",
       "      <th>revol_bal</th>\n",
       "      <th>revol_util</th>\n",
       "      <th>total_acc</th>\n",
       "      <th>application_type</th>\n",
       "      <th>annual_inc_joint</th>\n",
       "      <th>dti_joint</th>\n",
       "      <th>open_act_il</th>\n",
       "      <th>open_il_24m</th>\n",
       "      <th>il_util</th>\n",
       "      <th>open_rv_24m</th>\n",
       "      <th>all_util</th>\n",
       "      <th>total_rev_hi_lim</th>\n",
       "      <th>inq_last_12m</th>\n",
       "      <th>acc_open_past_24mths</th>\n",
       "      <th>bc_open_to_buy</th>\n",
       "      <th>bc_util</th>\n",
       "      <th>mort_acc</th>\n",
       "      <th>mths_since_recent_bc</th>\n",
       "      <th>mths_since_recent_bc_dlq</th>\n",
       "      <th>mths_since_recent_revol_delinq</th>\n",
       "      <th>num_accts_ever_120_pd</th>\n",
       "      <th>num_rev_accts</th>\n",
       "      <th>num_rev_tl_bal_gt_0</th>\n",
       "      <th>num_sats</th>\n",
       "      <th>num_tl_90g_dpd_24m</th>\n",
       "      <th>num_tl_op_past_12m</th>\n",
       "      <th>pct_tl_nvr_dlq</th>\n",
       "      <th>percent_bc_gt_75</th>\n",
       "      <th>pub_rec_bankruptcies</th>\n",
       "      <th>total_bal_ex_mort</th>\n",
       "      <th>total_bc_limit</th>\n",
       "      <th>revol_bal_joint</th>\n",
       "      <th>sec_app_fico_range_high</th>\n",
       "      <th>sec_app_earliest_cr_line</th>\n",
       "      <th>sec_app_inq_last_6mths</th>\n",
       "      <th>charged_off</th>\n",
       "    </tr>\n",
       "  </thead>\n",
       "  <tbody>\n",
       "    <tr>\n",
       "      <th>12266</th>\n",
       "      <td>72563875</td>\n",
       "      <td>35000</td>\n",
       "      <td>36 months</td>\n",
       "      <td>14.46%</td>\n",
       "      <td>1204.06</td>\n",
       "      <td>Asst Sales Manager</td>\n",
       "      <td>5 years</td>\n",
       "      <td>RENT</td>\n",
       "      <td>135000.0</td>\n",
       "      <td>Fully Paid</td>\n",
       "      <td>debt_consolidation</td>\n",
       "      <td>752xx</td>\n",
       "      <td>TX</td>\n",
       "      <td>7.99</td>\n",
       "      <td>0</td>\n",
       "      <td>Mar-07</td>\n",
       "      <td>704</td>\n",
       "      <td>0.0</td>\n",
       "      <td>NaN</td>\n",
       "      <td>4</td>\n",
       "      <td>15476</td>\n",
       "      <td>80%</td>\n",
       "      <td>5</td>\n",
       "      <td>Individual</td>\n",
       "      <td>NaN</td>\n",
       "      <td>NaN</td>\n",
       "      <td>1.0</td>\n",
       "      <td>0.0</td>\n",
       "      <td>58.0</td>\n",
       "      <td>1.0</td>\n",
       "      <td>80.0</td>\n",
       "      <td>19300</td>\n",
       "      <td>1.0</td>\n",
       "      <td>1</td>\n",
       "      <td>6433.0</td>\n",
       "      <td>80.0</td>\n",
       "      <td>0</td>\n",
       "      <td>7.0</td>\n",
       "      <td>NaN</td>\n",
       "      <td>NaN</td>\n",
       "      <td>0</td>\n",
       "      <td>3</td>\n",
       "      <td>2</td>\n",
       "      <td>4</td>\n",
       "      <td>0</td>\n",
       "      <td>1</td>\n",
       "      <td>100.0</td>\n",
       "      <td>66.7</td>\n",
       "      <td>0</td>\n",
       "      <td>31580</td>\n",
       "      <td>19300</td>\n",
       "      <td>NaN</td>\n",
       "      <td>NaN</td>\n",
       "      <td>NaN</td>\n",
       "      <td>NaN</td>\n",
       "      <td>False</td>\n",
       "    </tr>\n",
       "    <tr>\n",
       "      <th>44310</th>\n",
       "      <td>69361348</td>\n",
       "      <td>4800</td>\n",
       "      <td>36 months</td>\n",
       "      <td>11.99%</td>\n",
       "      <td>159.41</td>\n",
       "      <td>Contract Specialist</td>\n",
       "      <td>6 years</td>\n",
       "      <td>MORTGAGE</td>\n",
       "      <td>84000.0</td>\n",
       "      <td>Current</td>\n",
       "      <td>debt_consolidation</td>\n",
       "      <td>303xx</td>\n",
       "      <td>GA</td>\n",
       "      <td>18.34</td>\n",
       "      <td>2</td>\n",
       "      <td>Sep-93</td>\n",
       "      <td>699</td>\n",
       "      <td>0.0</td>\n",
       "      <td>17.0</td>\n",
       "      <td>13</td>\n",
       "      <td>23489</td>\n",
       "      <td>62.30%</td>\n",
       "      <td>22</td>\n",
       "      <td>Individual</td>\n",
       "      <td>NaN</td>\n",
       "      <td>NaN</td>\n",
       "      <td>1.0</td>\n",
       "      <td>1.0</td>\n",
       "      <td>88.0</td>\n",
       "      <td>3.0</td>\n",
       "      <td>69.0</td>\n",
       "      <td>37700</td>\n",
       "      <td>1.0</td>\n",
       "      <td>4</td>\n",
       "      <td>661.0</td>\n",
       "      <td>95.3</td>\n",
       "      <td>3</td>\n",
       "      <td>23.0</td>\n",
       "      <td>NaN</td>\n",
       "      <td>21.0</td>\n",
       "      <td>0</td>\n",
       "      <td>15</td>\n",
       "      <td>8</td>\n",
       "      <td>13</td>\n",
       "      <td>0</td>\n",
       "      <td>1</td>\n",
       "      <td>90.9</td>\n",
       "      <td>80.0</td>\n",
       "      <td>0</td>\n",
       "      <td>35808</td>\n",
       "      <td>14200</td>\n",
       "      <td>NaN</td>\n",
       "      <td>NaN</td>\n",
       "      <td>NaN</td>\n",
       "      <td>NaN</td>\n",
       "      <td>False</td>\n",
       "    </tr>\n",
       "    <tr>\n",
       "      <th>1102</th>\n",
       "      <td>68497058</td>\n",
       "      <td>14400</td>\n",
       "      <td>60 months</td>\n",
       "      <td>14.85%</td>\n",
       "      <td>341.45</td>\n",
       "      <td>OCC Rep</td>\n",
       "      <td>4 years</td>\n",
       "      <td>RENT</td>\n",
       "      <td>35500.0</td>\n",
       "      <td>Charged Off</td>\n",
       "      <td>credit_card</td>\n",
       "      <td>286xx</td>\n",
       "      <td>NC</td>\n",
       "      <td>25.59</td>\n",
       "      <td>0</td>\n",
       "      <td>Aug-06</td>\n",
       "      <td>699</td>\n",
       "      <td>1.0</td>\n",
       "      <td>NaN</td>\n",
       "      <td>27</td>\n",
       "      <td>5786</td>\n",
       "      <td>32.90%</td>\n",
       "      <td>34</td>\n",
       "      <td>Individual</td>\n",
       "      <td>NaN</td>\n",
       "      <td>NaN</td>\n",
       "      <td>18.0</td>\n",
       "      <td>5.0</td>\n",
       "      <td>101.0</td>\n",
       "      <td>7.0</td>\n",
       "      <td>91.0</td>\n",
       "      <td>17600</td>\n",
       "      <td>3.0</td>\n",
       "      <td>12</td>\n",
       "      <td>6021.0</td>\n",
       "      <td>31.6</td>\n",
       "      <td>0</td>\n",
       "      <td>6.0</td>\n",
       "      <td>NaN</td>\n",
       "      <td>NaN</td>\n",
       "      <td>0</td>\n",
       "      <td>12</td>\n",
       "      <td>6</td>\n",
       "      <td>27</td>\n",
       "      <td>0</td>\n",
       "      <td>5</td>\n",
       "      <td>100.0</td>\n",
       "      <td>33.3</td>\n",
       "      <td>0</td>\n",
       "      <td>113400</td>\n",
       "      <td>8800</td>\n",
       "      <td>NaN</td>\n",
       "      <td>NaN</td>\n",
       "      <td>NaN</td>\n",
       "      <td>NaN</td>\n",
       "      <td>True</td>\n",
       "    </tr>\n",
       "  </tbody>\n",
       "</table>\n",
       "</div>"
      ],
      "text/plain": [
       "             id  funded_amnt        term int_rate  installment  \\\n",
       "12266  72563875        35000   36 months   14.46%      1204.06   \n",
       "44310  69361348         4800   36 months   11.99%       159.41   \n",
       "1102   68497058        14400   60 months   14.85%       341.45   \n",
       "\n",
       "                 emp_title emp_length home_ownership  annual_inc  loan_status  \\\n",
       "12266   Asst Sales Manager    5 years           RENT    135000.0   Fully Paid   \n",
       "44310  Contract Specialist    6 years       MORTGAGE     84000.0      Current   \n",
       "1102               OCC Rep    4 years           RENT     35500.0  Charged Off   \n",
       "\n",
       "                  purpose zip_code addr_state    dti  delinq_2yrs  \\\n",
       "12266  debt_consolidation    752xx         TX   7.99            0   \n",
       "44310  debt_consolidation    303xx         GA  18.34            2   \n",
       "1102          credit_card    286xx         NC  25.59            0   \n",
       "\n",
       "      earliest_cr_line  fico_range_high  inq_last_6mths  \\\n",
       "12266           Mar-07              704             0.0   \n",
       "44310           Sep-93              699             0.0   \n",
       "1102            Aug-06              699             1.0   \n",
       "\n",
       "       mths_since_last_delinq  open_acc  revol_bal revol_util  total_acc  \\\n",
       "12266                     NaN         4      15476        80%          5   \n",
       "44310                    17.0        13      23489     62.30%         22   \n",
       "1102                      NaN        27       5786     32.90%         34   \n",
       "\n",
       "      application_type  annual_inc_joint  dti_joint  open_act_il  open_il_24m  \\\n",
       "12266       Individual               NaN        NaN          1.0          0.0   \n",
       "44310       Individual               NaN        NaN          1.0          1.0   \n",
       "1102        Individual               NaN        NaN         18.0          5.0   \n",
       "\n",
       "       il_util  open_rv_24m  all_util  total_rev_hi_lim  inq_last_12m  \\\n",
       "12266     58.0          1.0      80.0             19300           1.0   \n",
       "44310     88.0          3.0      69.0             37700           1.0   \n",
       "1102     101.0          7.0      91.0             17600           3.0   \n",
       "\n",
       "       acc_open_past_24mths  bc_open_to_buy  bc_util  mort_acc  \\\n",
       "12266                     1          6433.0     80.0         0   \n",
       "44310                     4           661.0     95.3         3   \n",
       "1102                     12          6021.0     31.6         0   \n",
       "\n",
       "       mths_since_recent_bc  mths_since_recent_bc_dlq  \\\n",
       "12266                   7.0                       NaN   \n",
       "44310                  23.0                       NaN   \n",
       "1102                    6.0                       NaN   \n",
       "\n",
       "       mths_since_recent_revol_delinq  num_accts_ever_120_pd  num_rev_accts  \\\n",
       "12266                             NaN                      0              3   \n",
       "44310                            21.0                      0             15   \n",
       "1102                              NaN                      0             12   \n",
       "\n",
       "       num_rev_tl_bal_gt_0  num_sats  num_tl_90g_dpd_24m  num_tl_op_past_12m  \\\n",
       "12266                    2         4                   0                   1   \n",
       "44310                    8        13                   0                   1   \n",
       "1102                     6        27                   0                   5   \n",
       "\n",
       "       pct_tl_nvr_dlq  percent_bc_gt_75  pub_rec_bankruptcies  \\\n",
       "12266           100.0              66.7                     0   \n",
       "44310            90.9              80.0                     0   \n",
       "1102            100.0              33.3                     0   \n",
       "\n",
       "       total_bal_ex_mort  total_bc_limit  revol_bal_joint  \\\n",
       "12266              31580           19300              NaN   \n",
       "44310              35808           14200              NaN   \n",
       "1102              113400            8800              NaN   \n",
       "\n",
       "       sec_app_fico_range_high sec_app_earliest_cr_line  \\\n",
       "12266                      NaN                      NaN   \n",
       "44310                      NaN                      NaN   \n",
       "1102                       NaN                      NaN   \n",
       "\n",
       "       sec_app_inq_last_6mths  charged_off  \n",
       "12266                     NaN        False  \n",
       "44310                     NaN        False  \n",
       "1102                      NaN         True  "
      ]
     },
     "execution_count": 6,
     "metadata": {},
     "output_type": "execute_result"
    }
   ],
   "source": [
    "raw.sample(3)"
   ]
  },
  {
   "cell_type": "code",
   "execution_count": 7,
   "metadata": {},
   "outputs": [
    {
     "data": {
      "text/plain": [
       "id                                     0\n",
       "funded_amnt                            0\n",
       "term                                   0\n",
       "int_rate                               0\n",
       "installment                            0\n",
       "emp_title                          30367\n",
       "emp_length                         30013\n",
       "home_ownership                         0\n",
       "annual_inc                             0\n",
       "loan_status                            0\n",
       "purpose                                0\n",
       "zip_code                               0\n",
       "addr_state                             0\n",
       "dti                                  285\n",
       "delinq_2yrs                            0\n",
       "earliest_cr_line                       0\n",
       "fico_range_high                        0\n",
       "inq_last_6mths                         0\n",
       "mths_since_last_delinq            213676\n",
       "open_acc                               0\n",
       "revol_bal                              0\n",
       "revol_util                           359\n",
       "total_acc                              0\n",
       "application_type                       0\n",
       "annual_inc_joint                  413182\n",
       "dti_joint                         413183\n",
       "open_act_il                           27\n",
       "open_il_24m                           27\n",
       "il_util                            59565\n",
       "open_rv_24m                           27\n",
       "all_util                              74\n",
       "total_rev_hi_lim                       0\n",
       "inq_last_12m                          27\n",
       "acc_open_past_24mths                   0\n",
       "bc_open_to_buy                      5191\n",
       "bc_util                             5389\n",
       "mort_acc                               0\n",
       "mths_since_recent_bc                4902\n",
       "mths_since_recent_bc_dlq          331967\n",
       "mths_since_recent_revol_delinq    285586\n",
       "num_accts_ever_120_pd                  0\n",
       "num_rev_accts                          0\n",
       "num_rev_tl_bal_gt_0                    0\n",
       "num_sats                               0\n",
       "num_tl_90g_dpd_24m                     0\n",
       "num_tl_op_past_12m                     0\n",
       "pct_tl_nvr_dlq                         0\n",
       "percent_bc_gt_75                    5217\n",
       "pub_rec_bankruptcies                   0\n",
       "total_bal_ex_mort                      0\n",
       "total_bc_limit                         0\n",
       "revol_bal_joint                   419321\n",
       "sec_app_fico_range_high           419320\n",
       "sec_app_earliest_cr_line          419320\n",
       "sec_app_inq_last_6mths            419320\n",
       "charged_off                            0\n",
       "dtype: int64"
      ]
     },
     "execution_count": 7,
     "metadata": {},
     "output_type": "execute_result"
    }
   ],
   "source": [
    "raw.isna().sum()"
   ]
  },
  {
   "cell_type": "code",
   "execution_count": 8,
   "metadata": {},
   "outputs": [
    {
     "name": "stdout",
     "output_type": "stream",
     "text": [
      "<class 'pandas.core.frame.DataFrame'>\n",
      "RangeIndex: 438991 entries, 0 to 438990\n",
      "Data columns (total 56 columns):\n",
      " #   Column                          Non-Null Count   Dtype  \n",
      "---  ------                          --------------   -----  \n",
      " 0   id                              438991 non-null  int64  \n",
      " 1   funded_amnt                     438991 non-null  int64  \n",
      " 2   term                            438991 non-null  object \n",
      " 3   int_rate                        438991 non-null  object \n",
      " 4   installment                     438991 non-null  float64\n",
      " 5   emp_title                       408624 non-null  object \n",
      " 6   emp_length                      408978 non-null  object \n",
      " 7   home_ownership                  438991 non-null  object \n",
      " 8   annual_inc                      438991 non-null  float64\n",
      " 9   loan_status                     438991 non-null  object \n",
      " 10  purpose                         438991 non-null  object \n",
      " 11  zip_code                        438991 non-null  object \n",
      " 12  addr_state                      438991 non-null  object \n",
      " 13  dti                             438706 non-null  float64\n",
      " 14  delinq_2yrs                     438991 non-null  int64  \n",
      " 15  earliest_cr_line                438991 non-null  object \n",
      " 16  fico_range_high                 438991 non-null  int64  \n",
      " 17  inq_last_6mths                  438991 non-null  float64\n",
      " 18  mths_since_last_delinq          225315 non-null  float64\n",
      " 19  open_acc                        438991 non-null  int64  \n",
      " 20  revol_bal                       438991 non-null  int64  \n",
      " 21  revol_util                      438632 non-null  object \n",
      " 22  total_acc                       438991 non-null  int64  \n",
      " 23  application_type                438991 non-null  object \n",
      " 24  annual_inc_joint                25809 non-null   float64\n",
      " 25  dti_joint                       25808 non-null   float64\n",
      " 26  open_act_il                     438964 non-null  float64\n",
      " 27  open_il_24m                     438964 non-null  float64\n",
      " 28  il_util                         379426 non-null  float64\n",
      " 29  open_rv_24m                     438964 non-null  float64\n",
      " 30  all_util                        438917 non-null  float64\n",
      " 31  total_rev_hi_lim                438991 non-null  int64  \n",
      " 32  inq_last_12m                    438964 non-null  float64\n",
      " 33  acc_open_past_24mths            438991 non-null  int64  \n",
      " 34  bc_open_to_buy                  433800 non-null  float64\n",
      " 35  bc_util                         433602 non-null  float64\n",
      " 36  mort_acc                        438991 non-null  int64  \n",
      " 37  mths_since_recent_bc            434089 non-null  float64\n",
      " 38  mths_since_recent_bc_dlq        107024 non-null  float64\n",
      " 39  mths_since_recent_revol_delinq  153405 non-null  float64\n",
      " 40  num_accts_ever_120_pd           438991 non-null  int64  \n",
      " 41  num_rev_accts                   438991 non-null  int64  \n",
      " 42  num_rev_tl_bal_gt_0             438991 non-null  int64  \n",
      " 43  num_sats                        438991 non-null  int64  \n",
      " 44  num_tl_90g_dpd_24m              438991 non-null  int64  \n",
      " 45  num_tl_op_past_12m              438991 non-null  int64  \n",
      " 46  pct_tl_nvr_dlq                  438991 non-null  float64\n",
      " 47  percent_bc_gt_75                433774 non-null  float64\n",
      " 48  pub_rec_bankruptcies            438991 non-null  int64  \n",
      " 49  total_bal_ex_mort               438991 non-null  int64  \n",
      " 50  total_bc_limit                  438991 non-null  int64  \n",
      " 51  revol_bal_joint                 19670 non-null   float64\n",
      " 52  sec_app_fico_range_high         19671 non-null   float64\n",
      " 53  sec_app_earliest_cr_line        19671 non-null   object \n",
      " 54  sec_app_inq_last_6mths          19671 non-null   float64\n",
      " 55  charged_off                     438991 non-null  bool   \n",
      "dtypes: bool(1), float64(23), int64(19), object(13)\n",
      "memory usage: 184.6+ MB\n"
     ]
    }
   ],
   "source": [
    "raw.info()"
   ]
  },
  {
   "cell_type": "code",
   "execution_count": 9,
   "metadata": {},
   "outputs": [
    {
     "data": {
      "text/plain": [
       "(438991,)"
      ]
     },
     "execution_count": 9,
     "metadata": {},
     "output_type": "execute_result"
    }
   ],
   "source": [
    "raw['id'].drop_duplicates().shape"
   ]
  },
  {
   "cell_type": "code",
   "execution_count": 10,
   "metadata": {},
   "outputs": [
    {
     "data": {
      "text/plain": [
       "(438991, 56)"
      ]
     },
     "execution_count": 10,
     "metadata": {},
     "output_type": "execute_result"
    }
   ],
   "source": [
    "raw.shape"
   ]
  },
  {
   "cell_type": "code",
   "execution_count": 11,
   "metadata": {},
   "outputs": [
    {
     "data": {
      "text/plain": [
       "Current               251552\n",
       "Fully Paid            132055\n",
       "Charged Off            40902\n",
       "Late (31-120 days)      8209\n",
       "In Grace Period         4016\n",
       "Late (16-30 days)       2257\n",
       "Name: loan_status, dtype: int64"
      ]
     },
     "execution_count": 11,
     "metadata": {},
     "output_type": "execute_result"
    }
   ],
   "source": [
    "raw['loan_status'].value_counts(dropna = False)"
   ]
  },
  {
   "cell_type": "code",
   "execution_count": 12,
   "metadata": {},
   "outputs": [
    {
     "data": {
      "text/plain": [
       "debt_consolidation    246935\n",
       "credit_card            91374\n",
       "home_improvement       32995\n",
       "other                  30875\n",
       "major_purchase         10685\n",
       "medical                 6248\n",
       "car                     5062\n",
       "small_business          4930\n",
       "vacation                3585\n",
       "moving                  3480\n",
       "house                   2525\n",
       "renewable_energy         295\n",
       "educational                1\n",
       "wedding                    1\n",
       "Name: purpose, dtype: int64"
      ]
     },
     "execution_count": 12,
     "metadata": {},
     "output_type": "execute_result"
    }
   ],
   "source": [
    "raw['purpose'].value_counts()[:15]"
   ]
  },
  {
   "cell_type": "markdown",
   "metadata": {},
   "source": [
    "## Build Model"
   ]
  },
  {
   "cell_type": "code",
   "execution_count": 51,
   "metadata": {},
   "outputs": [],
   "source": [
    "from sklearn.linear_model import LogisticRegression\n",
    "from sklearn.pipeline import make_pipeline\n",
    "from sklearn.model_selection import train_test_split\n",
    "import numpy as np\n",
    "from yellowbrick.regressor import residuals_plot, prediction_error\n",
    "from yellowbrick.classifier import DiscriminationThreshold, ClassificationReport\n",
    "from sklearn.preprocessing import OneHotEncoder, StandardScaler\n",
    "from sklearn.compose import ColumnTransformer\n",
    "from sklearn.compose import make_column_selector as selector\n",
    "from sklearn import set_config\n",
    "from sklearn.metrics import mean_absolute_error\n",
    "from sklearn.impute import SimpleImputer\n",
    "from sklearn.pipeline import Pipeline\n",
    "from sklearn import set_config\n",
    "from sklearn.ensemble import RandomForestClassifier\n",
    "from imblearn.over_sampling import SMOTE \n",
    "from sklearn.metrics import roc_auc_score\n",
    "set_config(display=\"diagram\")\n",
    "from time import time\n",
    "\n",
    "def class_report(model, test = True):\n",
    "    \"\"\"\n",
    "    Use yellowbrick to get a classifiation report on\n",
    "    a model for the test datset\n",
    "    \"\"\"\n",
    "    visualizer = ClassificationReport(model)\n",
    "    if test:\n",
    "        visualizer.fit(X_test, y_test)\n",
    "        visualizer.score(X_test, y_test)\n",
    "    else:\n",
    "        visualizer.fit(X_train, y_train)\n",
    "        visualizer.score(X_train, y_train)\n",
    "    visualizer.show()\n",
    "\n",
    "def print_time_elapsed(t0):\n",
    "    \"\"\"\n",
    "    Print time elapsed in seconds since time t0\n",
    "    \"\"\"\n",
    "    print(\"%.1f seconds elapsed\" % (time() - t0))"
   ]
  },
  {
   "cell_type": "code",
   "execution_count": null,
   "metadata": {},
   "outputs": [],
   "source": [
    "# predictors from the original dataset to include\n",
    "selected_X_columns = ['annual_inc', 'purpose', 'home_ownership', 'dti', 'delinq_2yrs']\n",
    "X_orig = raw[selected_X_columns]"
   ]
  },
  {
   "cell_type": "code",
   "execution_count": 31,
   "metadata": {},
   "outputs": [],
   "source": [
    "# transform categorical and numerical columns\n",
    "numerical_columns_selector = selector(dtype_exclude=object)\n",
    "categorical_columns_selector = selector(dtype_include=object)\n",
    "\n",
    "numerical_columns = numerical_columns_selector(X_orig)\n",
    "categorical_columns = categorical_columns_selector(X_orig)\n",
    "\n",
    "categorical_preprocessor = OneHotEncoder(handle_unknown=\"ignore\")\n",
    "#numerical_preprocessor = StandardScaler()\n",
    "\n",
    "numeric_transformer = Pipeline([(\"imputer\", \n",
    "    SimpleImputer(strategy=\"median\")), (\"scaler\", StandardScaler())])\n",
    "\n",
    "preprocessor = ColumnTransformer([\n",
    "    ('one-hot-encoder', categorical_preprocessor, categorical_columns),\n",
    "    ('standard-scaler', numeric_transformer, numerical_columns)])\n",
    "\n",
    "# create model pipelines\n",
    "lr_model = LogisticRegression(solver='liblinear')\n",
    "\n",
    "rf_model = RandomForestClassifier(n_jobs = -1, n_estimators=25)"
   ]
  },
  {
   "cell_type": "code",
   "execution_count": 32,
   "metadata": {},
   "outputs": [],
   "source": [
    "# perform preprocessing on predictors\n",
    "X = preprocessor.fit_transform(\n",
    "    X_orig\n",
    "    )\n",
    "\n",
    "#y = np.log10(study_df[['total_gmv']].values.ravel())\n",
    "y = raw[['charged_off']].values.ravel()\n",
    "# https://scikit-learn.org/stable/auto_examples/compose/plot_column_transformer_mixed_types.html"
   ]
  },
  {
   "cell_type": "code",
   "execution_count": 41,
   "metadata": {},
   "outputs": [
    {
     "name": "stdout",
     "output_type": "stream",
     "text": [
      "114.1 seconds elapsed\n"
     ]
    }
   ],
   "source": [
    "# Apply SMOTE to get balanced classes\n",
    "t0 = time()\n",
    "sm = SMOTE(random_state=42)\n",
    "X_res, y_res = sm.fit_resample(X, y)\n",
    "print_time_elapsed(t0)"
   ]
  },
  {
   "cell_type": "code",
   "execution_count": 25,
   "metadata": {},
   "outputs": [
    {
     "data": {
      "text/plain": [
       "0.5"
      ]
     },
     "execution_count": 25,
     "metadata": {},
     "output_type": "execute_result"
    }
   ],
   "source": [
    "np.mean(y_res) # check class imbalance"
   ]
  },
  {
   "cell_type": "code",
   "execution_count": 36,
   "metadata": {},
   "outputs": [],
   "source": [
    "# Test/Train split\n",
    "X_train, X_test, y_train, y_test = train_test_split(\n",
    "    X_res, # predictors\n",
    "    y_res, # outcome variable\n",
    "    test_size = 0.50, \n",
    "    random_state = 42\n",
    ")"
   ]
  },
  {
   "cell_type": "markdown",
   "metadata": {},
   "source": [
    "## Train Models"
   ]
  },
  {
   "cell_type": "code",
   "execution_count": 39,
   "metadata": {},
   "outputs": [
    {
     "name": "stdout",
     "output_type": "stream",
     "text": [
      "2.7 seconds elapsed\n"
     ]
    }
   ],
   "source": [
    "t0 = time()\n",
    "# train models\n",
    "lr_model.fit(X_train, y_train)\n",
    "print_time_elapsed(t0)"
   ]
  },
  {
   "cell_type": "code",
   "execution_count": 43,
   "metadata": {},
   "outputs": [
    {
     "name": "stdout",
     "output_type": "stream",
     "text": [
      "284.5 seconds elapsed\n"
     ]
    }
   ],
   "source": [
    "t0 = time()\n",
    "rf_model.fit(X_train, y_train)\n",
    "print_time_elapsed(t0)"
   ]
  },
  {
   "cell_type": "markdown",
   "metadata": {},
   "source": [
    "## Evaluate Models"
   ]
  },
  {
   "cell_type": "code",
   "execution_count": 61,
   "metadata": {},
   "outputs": [],
   "source": [
    "def print_roc(model, test = True):\n",
    "    \"\"\"\n",
    "    Print ROC metric for an input the model\n",
    "    \"\"\"\n",
    "    if test:\n",
    "        roc = roc_auc_score(y_test, model.predict(X_test))\n",
    "    else:\n",
    "        roc = roc_auc_score(y_train, model.predict(X_train))\n",
    "    print(roc)"
   ]
  },
  {
   "cell_type": "code",
   "execution_count": 59,
   "metadata": {},
   "outputs": [
    {
     "name": "stdout",
     "output_type": "stream",
     "text": [
      "0.7614019703237981\n"
     ]
    }
   ],
   "source": [
    "print_roc(rf_model)"
   ]
  },
  {
   "cell_type": "code",
   "execution_count": 62,
   "metadata": {},
   "outputs": [
    {
     "name": "stdout",
     "output_type": "stream",
     "text": [
      "0.9917229377885389\n"
     ]
    }
   ],
   "source": [
    "print_roc(rf_model, test = False)"
   ]
  },
  {
   "cell_type": "code",
   "execution_count": 42,
   "metadata": {},
   "outputs": [
    {
     "data": {
      "image/png": "[encoded data removed]",
      "text/plain": [
       "<Figure size 576x396 with 2 Axes>"
      ]
     },
     "metadata": {},
     "output_type": "display_data"
    }
   ],
   "source": [
    "class_report(lr_model)"
   ]
  },
  {
   "cell_type": "code",
   "execution_count": 49,
   "metadata": {},
   "outputs": [
    {
     "data": {
      "image/png": "[encoded data removed]",
      "text/plain": [
       "<Figure size 576x396 with 2 Axes>"
      ]
     },
     "metadata": {},
     "output_type": "display_data"
    }
   ],
   "source": [
    "# Look at training set performance\n",
    "class_report(lr_model, test = False)"
   ]
  },
  {
   "cell_type": "code",
   "execution_count": 44,
   "metadata": {},
   "outputs": [
    {
     "data": {
      "image/png": "[encoded data removed]",
      "text/plain": [
       "<Figure size 576x396 with 2 Axes>"
      ]
     },
     "metadata": {},
     "output_type": "display_data"
    }
   ],
   "source": [
    "class_report(rf_model)"
   ]
  },
  {
   "cell_type": "code",
   "execution_count": 48,
   "metadata": {},
   "outputs": [
    {
     "data": {
      "image/png": "[encoded data removed]",
      "text/plain": [
       "<Figure size 576x396 with 2 Axes>"
      ]
     },
     "metadata": {},
     "output_type": "display_data"
    }
   ],
   "source": [
    "# Look at training set performance\n",
    "class_report(rf_model, test = False)"
   ]
  },
  {
   "cell_type": "code",
   "execution_count": 42,
   "metadata": {},
   "outputs": [
    {
     "data": {
      "text/plain": [
       "array([4.82847824e-04, 9.35193489e-04, 1.09998864e-03, 9.03010961e-04,\n",
       "       4.58804836e-04, 7.86805499e-04, 7.09782713e-04, 5.89510787e-04,\n",
       "       1.01261268e-03, 3.08995142e-04, 9.19274279e-04, 5.05764921e-04,\n",
       "       6.28023534e-05, 1.36075113e-03, 1.97532397e-07, 4.94411165e-04,\n",
       "       1.44603601e-03, 3.23164623e-01, 6.48016052e-01, 1.67425353e-02])"
      ]
     },
     "execution_count": 42,
     "metadata": {},
     "output_type": "execute_result"
    }
   ],
   "source": [
    "rf_model.feature_importances_"
   ]
  },
  {
   "cell_type": "code",
   "execution_count": null,
   "metadata": {},
   "outputs": [],
   "source": [
    "rf_model.get_features()"
   ]
  }
 ],
 "metadata": {
  "kernelspec": {
   "display_name": "Python 3 (ipykernel)",
   "language": "python",
   "name": "python3"
  },
  "language_info": {
   "codemirror_mode": {
    "name": "ipython",
    "version": 3
   },
   "file_extension": ".py",
   "mimetype": "text/x-python",
   "name": "python",
   "nbconvert_exporter": "python",
   "pygments_lexer": "ipython3",
   "version": "3.7.7"
  }
 },
 "nbformat": 4,
 "nbformat_minor": 4
}
