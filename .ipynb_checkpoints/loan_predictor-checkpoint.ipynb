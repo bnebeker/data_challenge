{
 "cells": [
  {
   "cell_type": "markdown",
   "metadata": {},
   "source": [
    "## Summary\n",
    "\n",
    "A model was built to predict which loans have reached a state where they are unlikely to be repaid. This will be useful additional information for deciding which loans to invest in.\n",
    "\n",
    "### Data Preparation\n",
    "- Continuous predictors were normalized by subtracting the mean and dividing by the standard deviation (sklearn standard scaler). Missing continuous predictors were imputed with a median value.\n",
    "- Categorical predictors were one-hot encoded.\n",
    "- A 50/50 training/test **cross validation split** was performed.\n",
    "- Since only 9% of the loans were charged off, **SMOTE** was used to handle this class imbalance and create training dataset that has a 50/50 split between the positive and negative class. Without using a resampling method such as SMOTE, models trained on unbalanced data tend to heavily favor predicting the dominant class.\n",
    "\n",
    "### Models\n",
    "- Classifier models were used to predict a loan status of **\"Charged Off\"** (ie. a binary outcome) since these loans are unlikely to be repaid. \n",
    "- A **logistic regression** model was trained as a baseline model.\n",
    "- A **random forest** model was chosen because it considers interactions between the features and can be parallelized easily. The number of trees and tree complexity (minimum sample for split) were set to keep training time reasonable on an old laptop and reduce overfitting.\n",
    "- Predictors were chosen based on their relevance (ie. credit history seems relevant to loan repayment probability) and explatory data analysis. For instance, there is a lot of variance in the outcome between states (4% in Maine to 11% in Oklahoma) so this was a feature that was included in the model. Some features were created such as the ratio between the income and installment (ie. if someone has a low income relative to the required monthly payment then they may be less likely to repay the loan).\n",
    "- ROC, precision, and recall (on the test set unless otherwise noted) were used to evaluate the performance of the models. ROC provides a good overall measurement of the performance of the model at all classification thresholds. Additionally lift curves were plotted to examine the utility of the model at different selection thresholds.\n",
    "\n",
    "### Model Results\n",
    "- With ROC values of 0.62-0.64 and very low precision (<0.2) in the positive class, neither model performs particularly well. \n",
    "- The logistic regression lacks interaction between the features and the random forest model does not have enough trees to avoid overfitting (ROC for the random forest is 0.72 on the training set). \n",
    "\n",
    "### Future Work\n",
    "- **Model inference**: One drawback of this modeling setup is that the sklearn ColumnTransformer preprocessing makes getting the names input features to the models difficult. If reworking this I might opt to use lambda functions to make the necessary imputation and transformations to the variables so that I could give a pandas dataframe to the model. This would make model inference easier since the feature names would be accessible for looking at logistic regression coefficients and variable importance in the random forest model.\n",
    "- **Optimize hyperparameters**: Train a random forest or gradient boosted model with a larger number of trees to increase performance. Use a Bayesian or random search to optimize hyperparameters such as maximum tree depth, split criteria, the minimum number of samples per split, and the maximum number of features considered in each tree.\n",
    "- **Feature engineering**: The feature selection and engineering that I did was based on my (fairly limited) knowledge of lending data and this is something I would focus on if pursuing this project further.\n",
    "- **Experiment with SMOTE**: SMOTE uses k-nearest neighbors to create synthetic instances of the under-represented class. The default k value in imbalanced learn is 5, but this could be optimized.\n",
    "- Consider grouping the late loan status categories together with the charged off category for prediction, depending on how likely loans that are paid late are likely to be repaid. Another approach would be to use a multiclass classifier such as multinomial logistic regression."
   ]
  },
  {
   "cell_type": "code",
   "execution_count": 1,
   "metadata": {},
   "outputs": [
    {
     "name": "stdout",
     "output_type": "stream",
     "text": [
      "3.9.7 (default, Sep 16 2021, 13:09:58) \n",
      "[GCC 7.5.0]\n"
     ]
    }
   ],
   "source": [
    "import sys\n",
    "print(sys.version)"
   ]
  },
  {
   "cell_type": "markdown",
   "metadata": {},
   "source": [
    "## Data Prep"
   ]
  },
  {
   "cell_type": "code",
   "execution_count": 2,
   "metadata": {},
   "outputs": [],
   "source": [
    "import pandas as pd\n",
    "from os import listdir, getcwd\n",
    "from os.path import isfile, join\n",
    "pd.set_option('display.max_columns', 500)"
   ]
  },
  {
   "cell_type": "code",
   "execution_count": 3,
   "metadata": {},
   "outputs": [],
   "source": [
    "def load_data():\n",
    "    \"\"\"\n",
    "    Load all files, return single dataframe\n",
    "    \"\"\"\n",
    "    data_array = [] # placeholder for dataframes\n",
    "    \n",
    "    # get filenames\n",
    "    data_filenames = [ file for file in listdir('data') if isfile(join(getcwd(), 'data', file))]\n",
    "\n",
    "    for filename in data_filenames:\n",
    "        full_path = join(getcwd(), 'data', filename)\n",
    "        print(\"Loading: \" + filename)\n",
    "        data_array.append(pd.read_csv(full_path))\n",
    "    \n",
    "    return(pd.concat(data_array, ignore_index = True))"
   ]
  },
  {
   "cell_type": "code",
   "execution_count": 4,
   "metadata": {},
   "outputs": [
    {
     "name": "stdout",
     "output_type": "stream",
     "text": [
      "Loading: 2016Q1.csv.gz\n",
      "Loading: 2016Q2.csv.gz\n",
      "Loading: 2017Q1.csv.gz\n",
      "Loading: 2017Q4.csv.gz\n",
      "Loading: 2017Q2.csv.gz\n",
      "Loading: 2017Q3.csv.gz\n",
      "Loading: 2016Q3.csv.gz\n",
      "Loading: 2016Q4.csv.gz\n"
     ]
    }
   ],
   "source": [
    "raw = load_data()\n",
    "# create boolean variable for charged off loan status\n",
    "raw['charged_off'] = raw['loan_status'] == 'Charged Off' "
   ]
  },
  {
   "cell_type": "code",
   "execution_count": 5,
   "metadata": {},
   "outputs": [
    {
     "data": {
      "text/plain": [
       "Current               0.573023\n",
       "Fully Paid            0.300815\n",
       "Charged Off           0.093173\n",
       "Late (31-120 days)    0.018700\n",
       "In Grace Period       0.009148\n",
       "Late (16-30 days)     0.005141\n",
       "Name: loan_status, dtype: float64"
      ]
     },
     "execution_count": 5,
     "metadata": {},
     "output_type": "execute_result"
    }
   ],
   "source": [
    "raw['loan_status'].value_counts(normalize=True)"
   ]
  },
  {
   "cell_type": "code",
   "execution_count": 6,
   "metadata": {},
   "outputs": [
    {
     "data": {
      "text/plain": [
       "(438991,)"
      ]
     },
     "execution_count": 6,
     "metadata": {},
     "output_type": "execute_result"
    }
   ],
   "source": [
    "raw['id'].drop_duplicates().shape"
   ]
  },
  {
   "cell_type": "code",
   "execution_count": 7,
   "metadata": {},
   "outputs": [
    {
     "data": {
      "text/plain": [
       "(438991, 56)"
      ]
     },
     "execution_count": 7,
     "metadata": {},
     "output_type": "execute_result"
    }
   ],
   "source": [
    "raw.shape"
   ]
  },
  {
   "cell_type": "code",
   "execution_count": 8,
   "metadata": {},
   "outputs": [
    {
     "data": {
      "text/plain": [
       "False    0.906827\n",
       "True     0.093173\n",
       "Name: charged_off, dtype: float64"
      ]
     },
     "execution_count": 8,
     "metadata": {},
     "output_type": "execute_result"
    }
   ],
   "source": [
    "raw['charged_off'].value_counts(normalize = True)"
   ]
  },
  {
   "cell_type": "code",
   "execution_count": 9,
   "metadata": {},
   "outputs": [
    {
     "data": {
      "text/plain": [
       "(438991, 56)"
      ]
     },
     "execution_count": 9,
     "metadata": {},
     "output_type": "execute_result"
    }
   ],
   "source": [
    "raw.shape"
   ]
  },
  {
   "cell_type": "code",
   "execution_count": 10,
   "metadata": {},
   "outputs": [
    {
     "data": {
      "text/plain": [
       "id                                0.000000\n",
       "funded_amnt                       0.000000\n",
       "term                              0.000000\n",
       "int_rate                          0.000000\n",
       "installment                       0.000000\n",
       "emp_title                         0.069175\n",
       "emp_length                        0.068368\n",
       "home_ownership                    0.000000\n",
       "annual_inc                        0.000000\n",
       "loan_status                       0.000000\n",
       "purpose                           0.000000\n",
       "zip_code                          0.000000\n",
       "addr_state                        0.000000\n",
       "dti                               0.000649\n",
       "delinq_2yrs                       0.000000\n",
       "earliest_cr_line                  0.000000\n",
       "fico_range_high                   0.000000\n",
       "inq_last_6mths                    0.000000\n",
       "mths_since_last_delinq            0.486743\n",
       "open_acc                          0.000000\n",
       "revol_bal                         0.000000\n",
       "revol_util                        0.000818\n",
       "total_acc                         0.000000\n",
       "application_type                  0.000000\n",
       "annual_inc_joint                  0.941208\n",
       "dti_joint                         0.941211\n",
       "open_act_il                       0.000062\n",
       "open_il_24m                       0.000062\n",
       "il_util                           0.135686\n",
       "open_rv_24m                       0.000062\n",
       "all_util                          0.000169\n",
       "total_rev_hi_lim                  0.000000\n",
       "inq_last_12m                      0.000062\n",
       "acc_open_past_24mths              0.000000\n",
       "bc_open_to_buy                    0.011825\n",
       "bc_util                           0.012276\n",
       "mort_acc                          0.000000\n",
       "mths_since_recent_bc              0.011167\n",
       "mths_since_recent_bc_dlq          0.756205\n",
       "mths_since_recent_revol_delinq    0.650551\n",
       "num_accts_ever_120_pd             0.000000\n",
       "num_rev_accts                     0.000000\n",
       "num_rev_tl_bal_gt_0               0.000000\n",
       "num_sats                          0.000000\n",
       "num_tl_90g_dpd_24m                0.000000\n",
       "num_tl_op_past_12m                0.000000\n",
       "pct_tl_nvr_dlq                    0.000000\n",
       "percent_bc_gt_75                  0.011884\n",
       "pub_rec_bankruptcies              0.000000\n",
       "total_bal_ex_mort                 0.000000\n",
       "total_bc_limit                    0.000000\n",
       "revol_bal_joint                   0.955193\n",
       "sec_app_fico_range_high           0.955190\n",
       "sec_app_earliest_cr_line          0.955190\n",
       "sec_app_inq_last_6mths            0.955190\n",
       "charged_off                       0.000000\n",
       "dtype: float64"
      ]
     },
     "execution_count": 10,
     "metadata": {},
     "output_type": "execute_result"
    }
   ],
   "source": [
    "raw.isna().mean()"
   ]
  },
  {
   "cell_type": "code",
   "execution_count": 11,
   "metadata": {},
   "outputs": [
    {
     "data": {
      "text/plain": [
       "(438991,)"
      ]
     },
     "execution_count": 11,
     "metadata": {},
     "output_type": "execute_result"
    }
   ],
   "source": [
    "raw['id'].drop_duplicates().shape"
   ]
  },
  {
   "cell_type": "code",
   "execution_count": 12,
   "metadata": {},
   "outputs": [
    {
     "data": {
      "text/html": [
       "<div>\n",
       "<style scoped>\n",
       "    .dataframe tbody tr th:only-of-type {\n",
       "        vertical-align: middle;\n",
       "    }\n",
       "\n",
       "    .dataframe tbody tr th {\n",
       "        vertical-align: top;\n",
       "    }\n",
       "\n",
       "    .dataframe thead th {\n",
       "        text-align: right;\n",
       "    }\n",
       "</style>\n",
       "<table border=\"1\" class=\"dataframe\">\n",
       "  <thead>\n",
       "    <tr style=\"text-align: right;\">\n",
       "      <th></th>\n",
       "      <th>id</th>\n",
       "      <th>funded_amnt</th>\n",
       "      <th>term</th>\n",
       "      <th>int_rate</th>\n",
       "      <th>installment</th>\n",
       "      <th>emp_title</th>\n",
       "      <th>emp_length</th>\n",
       "      <th>home_ownership</th>\n",
       "      <th>annual_inc</th>\n",
       "      <th>loan_status</th>\n",
       "      <th>purpose</th>\n",
       "      <th>zip_code</th>\n",
       "      <th>addr_state</th>\n",
       "      <th>dti</th>\n",
       "      <th>delinq_2yrs</th>\n",
       "      <th>earliest_cr_line</th>\n",
       "      <th>fico_range_high</th>\n",
       "      <th>inq_last_6mths</th>\n",
       "      <th>mths_since_last_delinq</th>\n",
       "      <th>open_acc</th>\n",
       "      <th>revol_bal</th>\n",
       "      <th>revol_util</th>\n",
       "      <th>total_acc</th>\n",
       "      <th>application_type</th>\n",
       "      <th>annual_inc_joint</th>\n",
       "      <th>dti_joint</th>\n",
       "      <th>open_act_il</th>\n",
       "      <th>open_il_24m</th>\n",
       "      <th>il_util</th>\n",
       "      <th>open_rv_24m</th>\n",
       "      <th>all_util</th>\n",
       "      <th>total_rev_hi_lim</th>\n",
       "      <th>inq_last_12m</th>\n",
       "      <th>acc_open_past_24mths</th>\n",
       "      <th>bc_open_to_buy</th>\n",
       "      <th>bc_util</th>\n",
       "      <th>mort_acc</th>\n",
       "      <th>mths_since_recent_bc</th>\n",
       "      <th>mths_since_recent_bc_dlq</th>\n",
       "      <th>mths_since_recent_revol_delinq</th>\n",
       "      <th>num_accts_ever_120_pd</th>\n",
       "      <th>num_rev_accts</th>\n",
       "      <th>num_rev_tl_bal_gt_0</th>\n",
       "      <th>num_sats</th>\n",
       "      <th>num_tl_90g_dpd_24m</th>\n",
       "      <th>num_tl_op_past_12m</th>\n",
       "      <th>pct_tl_nvr_dlq</th>\n",
       "      <th>percent_bc_gt_75</th>\n",
       "      <th>pub_rec_bankruptcies</th>\n",
       "      <th>total_bal_ex_mort</th>\n",
       "      <th>total_bc_limit</th>\n",
       "      <th>revol_bal_joint</th>\n",
       "      <th>sec_app_fico_range_high</th>\n",
       "      <th>sec_app_earliest_cr_line</th>\n",
       "      <th>sec_app_inq_last_6mths</th>\n",
       "      <th>charged_off</th>\n",
       "    </tr>\n",
       "  </thead>\n",
       "  <tbody>\n",
       "    <tr>\n",
       "      <th>424851</th>\n",
       "      <td>94046909</td>\n",
       "      <td>16000</td>\n",
       "      <td>60 months</td>\n",
       "      <td>15.99%</td>\n",
       "      <td>389.01</td>\n",
       "      <td>Manager</td>\n",
       "      <td>8 years</td>\n",
       "      <td>MORTGAGE</td>\n",
       "      <td>76000.0</td>\n",
       "      <td>Current</td>\n",
       "      <td>debt_consolidation</td>\n",
       "      <td>273xx</td>\n",
       "      <td>NC</td>\n",
       "      <td>27.55</td>\n",
       "      <td>0</td>\n",
       "      <td>Jan-03</td>\n",
       "      <td>684</td>\n",
       "      <td>0.0</td>\n",
       "      <td>32.0</td>\n",
       "      <td>15</td>\n",
       "      <td>10599</td>\n",
       "      <td>55.20%</td>\n",
       "      <td>26</td>\n",
       "      <td>Individual</td>\n",
       "      <td>NaN</td>\n",
       "      <td>NaN</td>\n",
       "      <td>3.0</td>\n",
       "      <td>1.0</td>\n",
       "      <td>75.0</td>\n",
       "      <td>2.0</td>\n",
       "      <td>67.0</td>\n",
       "      <td>19200</td>\n",
       "      <td>1.0</td>\n",
       "      <td>3</td>\n",
       "      <td>1758.0</td>\n",
       "      <td>82.9</td>\n",
       "      <td>2</td>\n",
       "      <td>20.0</td>\n",
       "      <td>NaN</td>\n",
       "      <td>32.0</td>\n",
       "      <td>0</td>\n",
       "      <td>14</td>\n",
       "      <td>5</td>\n",
       "      <td>15</td>\n",
       "      <td>0</td>\n",
       "      <td>1</td>\n",
       "      <td>96.2</td>\n",
       "      <td>50.0</td>\n",
       "      <td>0</td>\n",
       "      <td>58928</td>\n",
       "      <td>10300</td>\n",
       "      <td>NaN</td>\n",
       "      <td>NaN</td>\n",
       "      <td>NaN</td>\n",
       "      <td>NaN</td>\n",
       "      <td>False</td>\n",
       "    </tr>\n",
       "    <tr>\n",
       "      <th>384438</th>\n",
       "      <td>88220983</td>\n",
       "      <td>20000</td>\n",
       "      <td>60 months</td>\n",
       "      <td>25.69%</td>\n",
       "      <td>595.15</td>\n",
       "      <td>Youth Counselor/Kids Manager</td>\n",
       "      <td>10+ years</td>\n",
       "      <td>RENT</td>\n",
       "      <td>100000.0</td>\n",
       "      <td>Charged Off</td>\n",
       "      <td>debt_consolidation</td>\n",
       "      <td>189xx</td>\n",
       "      <td>PA</td>\n",
       "      <td>25.56</td>\n",
       "      <td>0</td>\n",
       "      <td>Jan-01</td>\n",
       "      <td>664</td>\n",
       "      <td>2.0</td>\n",
       "      <td>67.0</td>\n",
       "      <td>22</td>\n",
       "      <td>17992</td>\n",
       "      <td>48%</td>\n",
       "      <td>32</td>\n",
       "      <td>Individual</td>\n",
       "      <td>NaN</td>\n",
       "      <td>NaN</td>\n",
       "      <td>6.0</td>\n",
       "      <td>3.0</td>\n",
       "      <td>68.0</td>\n",
       "      <td>9.0</td>\n",
       "      <td>48.0</td>\n",
       "      <td>37202</td>\n",
       "      <td>5.0</td>\n",
       "      <td>12</td>\n",
       "      <td>2829.0</td>\n",
       "      <td>60.0</td>\n",
       "      <td>1</td>\n",
       "      <td>1.0</td>\n",
       "      <td>69.0</td>\n",
       "      <td>69.0</td>\n",
       "      <td>0</td>\n",
       "      <td>22</td>\n",
       "      <td>11</td>\n",
       "      <td>22</td>\n",
       "      <td>0</td>\n",
       "      <td>8</td>\n",
       "      <td>78.0</td>\n",
       "      <td>85.7</td>\n",
       "      <td>0</td>\n",
       "      <td>87413</td>\n",
       "      <td>19800</td>\n",
       "      <td>NaN</td>\n",
       "      <td>NaN</td>\n",
       "      <td>NaN</td>\n",
       "      <td>NaN</td>\n",
       "      <td>True</td>\n",
       "    </tr>\n",
       "    <tr>\n",
       "      <th>83970</th>\n",
       "      <td>83619324</td>\n",
       "      <td>6000</td>\n",
       "      <td>36 months</td>\n",
       "      <td>11.49%</td>\n",
       "      <td>197.83</td>\n",
       "      <td>Event Manager</td>\n",
       "      <td>2 years</td>\n",
       "      <td>RENT</td>\n",
       "      <td>60000.0</td>\n",
       "      <td>Fully Paid</td>\n",
       "      <td>debt_consolidation</td>\n",
       "      <td>606xx</td>\n",
       "      <td>IL</td>\n",
       "      <td>9.86</td>\n",
       "      <td>0</td>\n",
       "      <td>Mar-96</td>\n",
       "      <td>664</td>\n",
       "      <td>4.0</td>\n",
       "      <td>NaN</td>\n",
       "      <td>16</td>\n",
       "      <td>5094</td>\n",
       "      <td>41.40%</td>\n",
       "      <td>38</td>\n",
       "      <td>Individual</td>\n",
       "      <td>NaN</td>\n",
       "      <td>NaN</td>\n",
       "      <td>1.0</td>\n",
       "      <td>0.0</td>\n",
       "      <td>34.0</td>\n",
       "      <td>9.0</td>\n",
       "      <td>37.0</td>\n",
       "      <td>12300</td>\n",
       "      <td>5.0</td>\n",
       "      <td>10</td>\n",
       "      <td>4406.0</td>\n",
       "      <td>53.6</td>\n",
       "      <td>0</td>\n",
       "      <td>0.0</td>\n",
       "      <td>NaN</td>\n",
       "      <td>NaN</td>\n",
       "      <td>0</td>\n",
       "      <td>33</td>\n",
       "      <td>5</td>\n",
       "      <td>12</td>\n",
       "      <td>0</td>\n",
       "      <td>3</td>\n",
       "      <td>100.0</td>\n",
       "      <td>33.3</td>\n",
       "      <td>1</td>\n",
       "      <td>11041</td>\n",
       "      <td>9500</td>\n",
       "      <td>NaN</td>\n",
       "      <td>NaN</td>\n",
       "      <td>NaN</td>\n",
       "      <td>NaN</td>\n",
       "      <td>False</td>\n",
       "    </tr>\n",
       "  </tbody>\n",
       "</table>\n",
       "</div>"
      ],
      "text/plain": [
       "              id  funded_amnt        term int_rate  installment  \\\n",
       "424851  94046909        16000   60 months   15.99%       389.01   \n",
       "384438  88220983        20000   60 months   25.69%       595.15   \n",
       "83970   83619324         6000   36 months   11.49%       197.83   \n",
       "\n",
       "                           emp_title emp_length home_ownership  annual_inc  \\\n",
       "424851                       Manager    8 years       MORTGAGE     76000.0   \n",
       "384438  Youth Counselor/Kids Manager  10+ years           RENT    100000.0   \n",
       "83970                 Event Manager     2 years           RENT     60000.0   \n",
       "\n",
       "        loan_status             purpose zip_code addr_state    dti  \\\n",
       "424851      Current  debt_consolidation    273xx         NC  27.55   \n",
       "384438  Charged Off  debt_consolidation    189xx         PA  25.56   \n",
       "83970    Fully Paid  debt_consolidation    606xx         IL   9.86   \n",
       "\n",
       "        delinq_2yrs earliest_cr_line  fico_range_high  inq_last_6mths  \\\n",
       "424851            0           Jan-03              684             0.0   \n",
       "384438            0           Jan-01              664             2.0   \n",
       "83970             0           Mar-96              664             4.0   \n",
       "\n",
       "        mths_since_last_delinq  open_acc  revol_bal revol_util  total_acc  \\\n",
       "424851                    32.0        15      10599     55.20%         26   \n",
       "384438                    67.0        22      17992        48%         32   \n",
       "83970                      NaN        16       5094     41.40%         38   \n",
       "\n",
       "       application_type  annual_inc_joint  dti_joint  open_act_il  \\\n",
       "424851       Individual               NaN        NaN          3.0   \n",
       "384438       Individual               NaN        NaN          6.0   \n",
       "83970        Individual               NaN        NaN          1.0   \n",
       "\n",
       "        open_il_24m  il_util  open_rv_24m  all_util  total_rev_hi_lim  \\\n",
       "424851          1.0     75.0          2.0      67.0             19200   \n",
       "384438          3.0     68.0          9.0      48.0             37202   \n",
       "83970           0.0     34.0          9.0      37.0             12300   \n",
       "\n",
       "        inq_last_12m  acc_open_past_24mths  bc_open_to_buy  bc_util  mort_acc  \\\n",
       "424851           1.0                     3          1758.0     82.9         2   \n",
       "384438           5.0                    12          2829.0     60.0         1   \n",
       "83970            5.0                    10          4406.0     53.6         0   \n",
       "\n",
       "        mths_since_recent_bc  mths_since_recent_bc_dlq  \\\n",
       "424851                  20.0                       NaN   \n",
       "384438                   1.0                      69.0   \n",
       "83970                    0.0                       NaN   \n",
       "\n",
       "        mths_since_recent_revol_delinq  num_accts_ever_120_pd  num_rev_accts  \\\n",
       "424851                            32.0                      0             14   \n",
       "384438                            69.0                      0             22   \n",
       "83970                              NaN                      0             33   \n",
       "\n",
       "        num_rev_tl_bal_gt_0  num_sats  num_tl_90g_dpd_24m  num_tl_op_past_12m  \\\n",
       "424851                    5        15                   0                   1   \n",
       "384438                   11        22                   0                   8   \n",
       "83970                     5        12                   0                   3   \n",
       "\n",
       "        pct_tl_nvr_dlq  percent_bc_gt_75  pub_rec_bankruptcies  \\\n",
       "424851            96.2              50.0                     0   \n",
       "384438            78.0              85.7                     0   \n",
       "83970            100.0              33.3                     1   \n",
       "\n",
       "        total_bal_ex_mort  total_bc_limit  revol_bal_joint  \\\n",
       "424851              58928           10300              NaN   \n",
       "384438              87413           19800              NaN   \n",
       "83970               11041            9500              NaN   \n",
       "\n",
       "        sec_app_fico_range_high sec_app_earliest_cr_line  \\\n",
       "424851                      NaN                      NaN   \n",
       "384438                      NaN                      NaN   \n",
       "83970                       NaN                      NaN   \n",
       "\n",
       "        sec_app_inq_last_6mths  charged_off  \n",
       "424851                     NaN        False  \n",
       "384438                     NaN         True  \n",
       "83970                      NaN        False  "
      ]
     },
     "execution_count": 12,
     "metadata": {},
     "output_type": "execute_result"
    }
   ],
   "source": [
    "raw.sample(3)"
   ]
  },
  {
   "cell_type": "code",
   "execution_count": 13,
   "metadata": {},
   "outputs": [
    {
     "data": {
      "text/plain": [
       "(438991, 56)"
      ]
     },
     "execution_count": 13,
     "metadata": {},
     "output_type": "execute_result"
    }
   ],
   "source": [
    "raw.shape"
   ]
  },
  {
   "cell_type": "code",
   "execution_count": 14,
   "metadata": {},
   "outputs": [
    {
     "data": {
      "text/html": [
       "<div>\n",
       "<style scoped>\n",
       "    .dataframe tbody tr th:only-of-type {\n",
       "        vertical-align: middle;\n",
       "    }\n",
       "\n",
       "    .dataframe tbody tr th {\n",
       "        vertical-align: top;\n",
       "    }\n",
       "\n",
       "    .dataframe thead th {\n",
       "        text-align: right;\n",
       "    }\n",
       "</style>\n",
       "<table border=\"1\" class=\"dataframe\">\n",
       "  <thead>\n",
       "    <tr style=\"text-align: right;\">\n",
       "      <th></th>\n",
       "      <th>id</th>\n",
       "      <th>funded_amnt</th>\n",
       "      <th>installment</th>\n",
       "      <th>annual_inc</th>\n",
       "      <th>dti</th>\n",
       "      <th>delinq_2yrs</th>\n",
       "      <th>fico_range_high</th>\n",
       "      <th>inq_last_6mths</th>\n",
       "      <th>mths_since_last_delinq</th>\n",
       "      <th>open_acc</th>\n",
       "      <th>revol_bal</th>\n",
       "      <th>total_acc</th>\n",
       "      <th>annual_inc_joint</th>\n",
       "      <th>dti_joint</th>\n",
       "      <th>open_act_il</th>\n",
       "      <th>open_il_24m</th>\n",
       "      <th>il_util</th>\n",
       "      <th>open_rv_24m</th>\n",
       "      <th>all_util</th>\n",
       "      <th>total_rev_hi_lim</th>\n",
       "      <th>inq_last_12m</th>\n",
       "      <th>acc_open_past_24mths</th>\n",
       "      <th>bc_open_to_buy</th>\n",
       "      <th>bc_util</th>\n",
       "      <th>mort_acc</th>\n",
       "      <th>mths_since_recent_bc</th>\n",
       "      <th>mths_since_recent_bc_dlq</th>\n",
       "      <th>mths_since_recent_revol_delinq</th>\n",
       "      <th>num_accts_ever_120_pd</th>\n",
       "      <th>num_rev_accts</th>\n",
       "      <th>num_rev_tl_bal_gt_0</th>\n",
       "      <th>num_sats</th>\n",
       "      <th>num_tl_90g_dpd_24m</th>\n",
       "      <th>num_tl_op_past_12m</th>\n",
       "      <th>pct_tl_nvr_dlq</th>\n",
       "      <th>percent_bc_gt_75</th>\n",
       "      <th>pub_rec_bankruptcies</th>\n",
       "      <th>total_bal_ex_mort</th>\n",
       "      <th>total_bc_limit</th>\n",
       "      <th>revol_bal_joint</th>\n",
       "      <th>sec_app_fico_range_high</th>\n",
       "      <th>sec_app_inq_last_6mths</th>\n",
       "    </tr>\n",
       "    <tr>\n",
       "      <th>charged_off</th>\n",
       "      <th></th>\n",
       "      <th></th>\n",
       "      <th></th>\n",
       "      <th></th>\n",
       "      <th></th>\n",
       "      <th></th>\n",
       "      <th></th>\n",
       "      <th></th>\n",
       "      <th></th>\n",
       "      <th></th>\n",
       "      <th></th>\n",
       "      <th></th>\n",
       "      <th></th>\n",
       "      <th></th>\n",
       "      <th></th>\n",
       "      <th></th>\n",
       "      <th></th>\n",
       "      <th></th>\n",
       "      <th></th>\n",
       "      <th></th>\n",
       "      <th></th>\n",
       "      <th></th>\n",
       "      <th></th>\n",
       "      <th></th>\n",
       "      <th></th>\n",
       "      <th></th>\n",
       "      <th></th>\n",
       "      <th></th>\n",
       "      <th></th>\n",
       "      <th></th>\n",
       "      <th></th>\n",
       "      <th></th>\n",
       "      <th></th>\n",
       "      <th></th>\n",
       "      <th></th>\n",
       "      <th></th>\n",
       "      <th></th>\n",
       "      <th></th>\n",
       "      <th></th>\n",
       "      <th></th>\n",
       "      <th></th>\n",
       "      <th></th>\n",
       "    </tr>\n",
       "  </thead>\n",
       "  <tbody>\n",
       "    <tr>\n",
       "      <th>False</th>\n",
       "      <td>9.812409e+07</td>\n",
       "      <td>14709.772187</td>\n",
       "      <td>439.360038</td>\n",
       "      <td>80469.074986</td>\n",
       "      <td>18.885575</td>\n",
       "      <td>0.339731</td>\n",
       "      <td>702.876299</td>\n",
       "      <td>0.513144</td>\n",
       "      <td>33.929309</td>\n",
       "      <td>11.712780</td>\n",
       "      <td>16774.435654</td>\n",
       "      <td>23.860363</td>\n",
       "      <td>118628.621121</td>\n",
       "      <td>18.947470</td>\n",
       "      <td>2.818105</td>\n",
       "      <td>1.546052</td>\n",
       "      <td>69.329273</td>\n",
       "      <td>2.748099</td>\n",
       "      <td>58.238746</td>\n",
       "      <td>35283.068995</td>\n",
       "      <td>2.031198</td>\n",
       "      <td>4.560731</td>\n",
       "      <td>11930.006561</td>\n",
       "      <td>56.347296</td>\n",
       "      <td>1.509946</td>\n",
       "      <td>24.879021</td>\n",
       "      <td>38.129378</td>\n",
       "      <td>34.839391</td>\n",
       "      <td>0.534217</td>\n",
       "      <td>13.634780</td>\n",
       "      <td>5.495698</td>\n",
       "      <td>11.666567</td>\n",
       "      <td>0.089528</td>\n",
       "      <td>2.076485</td>\n",
       "      <td>93.670424</td>\n",
       "      <td>40.360662</td>\n",
       "      <td>0.136070</td>\n",
       "      <td>52445.553444</td>\n",
       "      <td>23699.815599</td>\n",
       "      <td>31566.942160</td>\n",
       "      <td>670.671495</td>\n",
       "      <td>0.656214</td>\n",
       "    </tr>\n",
       "    <tr>\n",
       "      <th>True</th>\n",
       "      <td>8.864394e+07</td>\n",
       "      <td>15581.527187</td>\n",
       "      <td>483.271838</td>\n",
       "      <td>73138.351508</td>\n",
       "      <td>20.683411</td>\n",
       "      <td>0.379272</td>\n",
       "      <td>691.799888</td>\n",
       "      <td>0.731871</td>\n",
       "      <td>33.096805</td>\n",
       "      <td>12.073517</td>\n",
       "      <td>15320.527383</td>\n",
       "      <td>24.375727</td>\n",
       "      <td>104296.296232</td>\n",
       "      <td>20.911585</td>\n",
       "      <td>2.869508</td>\n",
       "      <td>1.913323</td>\n",
       "      <td>73.783237</td>\n",
       "      <td>3.481283</td>\n",
       "      <td>62.464275</td>\n",
       "      <td>30080.536013</td>\n",
       "      <td>2.642216</td>\n",
       "      <td>5.636962</td>\n",
       "      <td>8521.885014</td>\n",
       "      <td>60.506480</td>\n",
       "      <td>1.255538</td>\n",
       "      <td>19.790806</td>\n",
       "      <td>37.487617</td>\n",
       "      <td>34.146573</td>\n",
       "      <td>0.567796</td>\n",
       "      <td>14.094934</td>\n",
       "      <td>5.934869</td>\n",
       "      <td>12.014229</td>\n",
       "      <td>0.103296</td>\n",
       "      <td>2.651362</td>\n",
       "      <td>93.656785</td>\n",
       "      <td>45.944068</td>\n",
       "      <td>0.174075</td>\n",
       "      <td>51450.132023</td>\n",
       "      <td>19408.677473</td>\n",
       "      <td>30157.172121</td>\n",
       "      <td>646.909091</td>\n",
       "      <td>1.110303</td>\n",
       "    </tr>\n",
       "  </tbody>\n",
       "</table>\n",
       "</div>"
      ],
      "text/plain": [
       "                       id   funded_amnt  installment    annual_inc        dti  \\\n",
       "charged_off                                                                     \n",
       "False        9.812409e+07  14709.772187   439.360038  80469.074986  18.885575   \n",
       "True         8.864394e+07  15581.527187   483.271838  73138.351508  20.683411   \n",
       "\n",
       "             delinq_2yrs  fico_range_high  inq_last_6mths  \\\n",
       "charged_off                                                 \n",
       "False           0.339731       702.876299        0.513144   \n",
       "True            0.379272       691.799888        0.731871   \n",
       "\n",
       "             mths_since_last_delinq   open_acc     revol_bal  total_acc  \\\n",
       "charged_off                                                               \n",
       "False                     33.929309  11.712780  16774.435654  23.860363   \n",
       "True                      33.096805  12.073517  15320.527383  24.375727   \n",
       "\n",
       "             annual_inc_joint  dti_joint  open_act_il  open_il_24m    il_util  \\\n",
       "charged_off                                                                     \n",
       "False           118628.621121  18.947470     2.818105     1.546052  69.329273   \n",
       "True            104296.296232  20.911585     2.869508     1.913323  73.783237   \n",
       "\n",
       "             open_rv_24m   all_util  total_rev_hi_lim  inq_last_12m  \\\n",
       "charged_off                                                           \n",
       "False           2.748099  58.238746      35283.068995      2.031198   \n",
       "True            3.481283  62.464275      30080.536013      2.642216   \n",
       "\n",
       "             acc_open_past_24mths  bc_open_to_buy    bc_util  mort_acc  \\\n",
       "charged_off                                                              \n",
       "False                    4.560731    11930.006561  56.347296  1.509946   \n",
       "True                     5.636962     8521.885014  60.506480  1.255538   \n",
       "\n",
       "             mths_since_recent_bc  mths_since_recent_bc_dlq  \\\n",
       "charged_off                                                   \n",
       "False                   24.879021                 38.129378   \n",
       "True                    19.790806                 37.487617   \n",
       "\n",
       "             mths_since_recent_revol_delinq  num_accts_ever_120_pd  \\\n",
       "charged_off                                                          \n",
       "False                             34.839391               0.534217   \n",
       "True                              34.146573               0.567796   \n",
       "\n",
       "             num_rev_accts  num_rev_tl_bal_gt_0   num_sats  \\\n",
       "charged_off                                                  \n",
       "False            13.634780             5.495698  11.666567   \n",
       "True             14.094934             5.934869  12.014229   \n",
       "\n",
       "             num_tl_90g_dpd_24m  num_tl_op_past_12m  pct_tl_nvr_dlq  \\\n",
       "charged_off                                                           \n",
       "False                  0.089528            2.076485       93.670424   \n",
       "True                   0.103296            2.651362       93.656785   \n",
       "\n",
       "             percent_bc_gt_75  pub_rec_bankruptcies  total_bal_ex_mort  \\\n",
       "charged_off                                                              \n",
       "False               40.360662              0.136070       52445.553444   \n",
       "True                45.944068              0.174075       51450.132023   \n",
       "\n",
       "             total_bc_limit  revol_bal_joint  sec_app_fico_range_high  \\\n",
       "charged_off                                                             \n",
       "False          23699.815599     31566.942160               670.671495   \n",
       "True           19408.677473     30157.172121               646.909091   \n",
       "\n",
       "             sec_app_inq_last_6mths  \n",
       "charged_off                          \n",
       "False                      0.656214  \n",
       "True                       1.110303  "
      ]
     },
     "execution_count": 14,
     "metadata": {},
     "output_type": "execute_result"
    }
   ],
   "source": [
    "raw.groupby('charged_off').mean()"
   ]
  },
  {
   "cell_type": "code",
   "execution_count": 15,
   "metadata": {},
   "outputs": [
    {
     "data": {
      "text/plain": [
       "<AxesSubplot:>"
      ]
     },
     "execution_count": 15,
     "metadata": {},
     "output_type": "execute_result"
    },
    {
     "data": {
      "image/png": "[encoded data removed]",
      "text/plain": [
       "<Figure size 432x288 with 1 Axes>"
      ]
     },
     "metadata": {
      "needs_background": "light"
     },
     "output_type": "display_data"
    }
   ],
   "source": [
    "raw['inq_last_12m'].hist()"
   ]
  },
  {
   "cell_type": "markdown",
   "metadata": {},
   "source": [
    "## EDA"
   ]
  },
  {
   "cell_type": "code",
   "execution_count": 16,
   "metadata": {},
   "outputs": [
    {
     "data": {
      "text/plain": [
       "Current               251552\n",
       "Fully Paid            132055\n",
       "Charged Off            40902\n",
       "Late (31-120 days)      8209\n",
       "In Grace Period         4016\n",
       "Late (16-30 days)       2257\n",
       "Name: loan_status, dtype: int64"
      ]
     },
     "execution_count": 16,
     "metadata": {},
     "output_type": "execute_result"
    }
   ],
   "source": [
    "raw['loan_status'].value_counts(dropna = False)"
   ]
  },
  {
   "cell_type": "code",
   "execution_count": 17,
   "metadata": {},
   "outputs": [
    {
     "data": {
      "text/plain": [
       "debt_consolidation    246935\n",
       "credit_card            91374\n",
       "home_improvement       32995\n",
       "other                  30875\n",
       "major_purchase         10685\n",
       "medical                 6248\n",
       "car                     5062\n",
       "small_business          4930\n",
       "vacation                3585\n",
       "moving                  3480\n",
       "house                   2525\n",
       "renewable_energy         295\n",
       "educational                1\n",
       "wedding                    1\n",
       "Name: purpose, dtype: int64"
      ]
     },
     "execution_count": 17,
     "metadata": {},
     "output_type": "execute_result"
    }
   ],
   "source": [
    "raw['purpose'].value_counts()[:15]"
   ]
  },
  {
   "cell_type": "code",
   "execution_count": 18,
   "metadata": {},
   "outputs": [
    {
     "data": {
      "text/plain": [
       "<AxesSubplot:>"
      ]
     },
     "execution_count": 18,
     "metadata": {},
     "output_type": "execute_result"
    },
    {
     "data": {
      "image/png": "[encoded data removed]",
      "text/plain": [
       "<Figure size 432x288 with 1 Axes>"
      ]
     },
     "metadata": {
      "needs_background": "light"
     },
     "output_type": "display_data"
    }
   ],
   "source": [
    "raw['fico_range_high'].hist()"
   ]
  },
  {
   "cell_type": "code",
   "execution_count": 19,
   "metadata": {},
   "outputs": [
    {
     "data": {
      "text/plain": [
       "<AxesSubplot:>"
      ]
     },
     "execution_count": 19,
     "metadata": {},
     "output_type": "execute_result"
    },
    {
     "data": {
      "image/png": "[encoded data removed]",
      "text/plain": [
       "<Figure size 432x288 with 1 Axes>"
      ]
     },
     "metadata": {
      "needs_background": "light"
     },
     "output_type": "display_data"
    }
   ],
   "source": [
    "raw['dti'].hist(bins = 100)"
   ]
  },
  {
   "cell_type": "code",
   "execution_count": 20,
   "metadata": {},
   "outputs": [
    {
     "data": {
      "text/plain": [
       "Individual    0.941208\n",
       "Joint App     0.058792\n",
       "Name: application_type, dtype: float64"
      ]
     },
     "execution_count": 20,
     "metadata": {},
     "output_type": "execute_result"
    }
   ],
   "source": [
    "raw['application_type'].value_counts(normalize = True)"
   ]
  },
  {
   "cell_type": "code",
   "execution_count": 21,
   "metadata": {},
   "outputs": [
    {
     "data": {
      "text/plain": [
       "0     0.796132\n",
       "1     0.133406\n",
       "2     0.040281\n",
       "3     0.014948\n",
       "4     0.006617\n",
       "5     0.003442\n",
       "6     0.002009\n",
       "7     0.001098\n",
       "8     0.000651\n",
       "9     0.000440\n",
       "10    0.000312\n",
       "11    0.000198\n",
       "12    0.000146\n",
       "13    0.000096\n",
       "14    0.000068\n",
       "15    0.000057\n",
       "16    0.000032\n",
       "18    0.000016\n",
       "17    0.000011\n",
       "19    0.000009\n",
       "20    0.000009\n",
       "21    0.000005\n",
       "24    0.000002\n",
       "30    0.000002\n",
       "22    0.000002\n",
       "36    0.000002\n",
       "26    0.000002\n",
       "25    0.000002\n",
       "42    0.000002\n",
       "Name: delinq_2yrs, dtype: float64"
      ]
     },
     "execution_count": 21,
     "metadata": {},
     "output_type": "execute_result"
    }
   ],
   "source": [
    "raw['delinq_2yrs'].value_counts(normalize = True)"
   ]
  },
  {
   "cell_type": "code",
   "execution_count": 22,
   "metadata": {},
   "outputs": [
    {
     "data": {
      "text/plain": [
       "0    0.870674\n",
       "1    0.121554\n",
       "2    0.006030\n",
       "3    0.001248\n",
       "4    0.000310\n",
       "5    0.000116\n",
       "6    0.000050\n",
       "7    0.000014\n",
       "8    0.000005\n",
       "Name: pub_rec_bankruptcies, dtype: float64"
      ]
     },
     "execution_count": 22,
     "metadata": {},
     "output_type": "execute_result"
    }
   ],
   "source": [
    "raw['pub_rec_bankruptcies'].value_counts(normalize = True)"
   ]
  },
  {
   "cell_type": "code",
   "execution_count": 23,
   "metadata": {},
   "outputs": [
    {
     "data": {
      "text/plain": [
       "10+ years    148471\n",
       "2 years       39794\n",
       "< 1 year      37836\n",
       "3 years       35018\n",
       "1 year        29239\n",
       "5 years       26483\n",
       "4 years       26208\n",
       "6 years       18920\n",
       "9 years       16068\n",
       "8 years       15892\n",
       "7 years       15049\n",
       "Name: emp_length, dtype: int64"
      ]
     },
     "execution_count": 23,
     "metadata": {},
     "output_type": "execute_result"
    }
   ],
   "source": [
    "raw['emp_length'].value_counts()"
   ]
  },
  {
   "cell_type": "code",
   "execution_count": 24,
   "metadata": {},
   "outputs": [
    {
     "data": {
      "text/plain": [
       "emp_length\n",
       "1 year       0.101713\n",
       "10+ years    0.085956\n",
       "2 years      0.095542\n",
       "3 years      0.096779\n",
       "4 years      0.090392\n",
       "5 years      0.094891\n",
       "6 years      0.088425\n",
       "7 years      0.089375\n",
       "8 years      0.096589\n",
       "9 years      0.091175\n",
       "< 1 year     0.089121\n",
       "Name: charged_off, dtype: float64"
      ]
     },
     "execution_count": 24,
     "metadata": {},
     "output_type": "execute_result"
    }
   ],
   "source": [
    "raw.groupby('emp_length')['charged_off'].mean()"
   ]
  },
  {
   "cell_type": "code",
   "execution_count": 25,
   "metadata": {},
   "outputs": [
    {
     "data": {
      "text/plain": [
       "application_type\n",
       "Individual    0.095389\n",
       "Joint App     0.057693\n",
       "Name: charged_off, dtype: float64"
      ]
     },
     "execution_count": 25,
     "metadata": {},
     "output_type": "execute_result"
    }
   ],
   "source": [
    "raw.groupby('application_type')['charged_off'].mean()"
   ]
  },
  {
   "cell_type": "code",
   "execution_count": 26,
   "metadata": {},
   "outputs": [
    {
     "data": {
      "text/plain": [
       "home_ownership\n",
       "ANY         0.072519\n",
       "MORTGAGE    0.078881\n",
       "NONE        0.000000\n",
       "OWN         0.095502\n",
       "RENT        0.110315\n",
       "Name: charged_off, dtype: float64"
      ]
     },
     "execution_count": 26,
     "metadata": {},
     "output_type": "execute_result"
    }
   ],
   "source": [
    "raw.groupby('home_ownership')['charged_off'].mean()"
   ]
  },
  {
   "cell_type": "code",
   "execution_count": 27,
   "metadata": {},
   "outputs": [
    {
     "data": {
      "text/plain": [
       "addr_state\n",
       "ME    0.044065\n",
       "VT    0.056818\n",
       "DC    0.059244\n",
       "RI    0.060158\n",
       "NH    0.065404\n",
       "OR    0.067023\n",
       "KS    0.067678\n",
       "CT    0.069402\n",
       "WA    0.069757\n",
       "SC    0.070982\n",
       "ID    0.075900\n",
       "CO    0.076782\n",
       "MT    0.078283\n",
       "DE    0.079710\n",
       "WI    0.079871\n",
       "IL    0.080525\n",
       "GA    0.080634\n",
       "WV    0.082902\n",
       "WY    0.083799\n",
       "ND    0.085437\n",
       "UT    0.088508\n",
       "TN    0.090584\n",
       "VA    0.091286\n",
       "NJ    0.092143\n",
       "HI    0.092308\n",
       "PA    0.093413\n",
       "MO    0.093861\n",
       "TX    0.094188\n",
       "OH    0.094300\n",
       "AK    0.094595\n",
       "MA    0.095587\n",
       "MD    0.095614\n",
       "MN    0.095977\n",
       "MI    0.096119\n",
       "NC    0.096435\n",
       "IN    0.096673\n",
       "KY    0.097839\n",
       "AZ    0.098203\n",
       "NM    0.099040\n",
       "FL    0.099127\n",
       "NY    0.100543\n",
       "CA    0.100857\n",
       "SD    0.104530\n",
       "MS    0.105117\n",
       "AL    0.108457\n",
       "AR    0.111211\n",
       "NE    0.111273\n",
       "LA    0.111625\n",
       "NV    0.114412\n",
       "OK    0.114489\n",
       "Name: charged_off, dtype: float64"
      ]
     },
     "execution_count": 27,
     "metadata": {},
     "output_type": "execute_result"
    }
   ],
   "source": [
    "raw.groupby('addr_state')['charged_off'].mean().sort_values()"
   ]
  },
  {
   "cell_type": "code",
   "execution_count": 28,
   "metadata": {},
   "outputs": [
    {
     "data": {
      "text/plain": [
       "0         11.99%\n",
       "1         11.47%\n",
       "2         16.29%\n",
       "3         12.99%\n",
       "4         15.31%\n",
       "           ...  \n",
       "438986    17.99%\n",
       "438987    15.99%\n",
       "438988    11.39%\n",
       "438989    10.49%\n",
       "438990    17.99%\n",
       "Name: int_rate, Length: 438991, dtype: object"
      ]
     },
     "execution_count": 28,
     "metadata": {},
     "output_type": "execute_result"
    }
   ],
   "source": [
    "raw['int_rate']"
   ]
  },
  {
   "cell_type": "markdown",
   "metadata": {},
   "source": [
    "## Feature Engineering"
   ]
  },
  {
   "cell_type": "code",
   "execution_count": 29,
   "metadata": {},
   "outputs": [],
   "source": [
    "# convert to boolean\n",
    "raw['delinq_2yrs_bool'] = raw['delinq_2yrs'] > 0\n",
    "raw['pub_rec_bankruptcies_bool'] = raw['pub_rec_bankruptcies'] > 0\n",
    "raw['inq_last_12m_bool'] = raw['inq_last_12m'] > 0\n",
    "\n",
    "# construct ratio variables\n",
    "#raw['funded_to_installment_ratio'] = raw['funded_amnt'] / raw['installment']\n",
    "raw['income_to_installment_ratio'] = raw['annual_inc'] / raw['installment']\n",
    "\n",
    "# remove % and convert to numeric\n",
    "raw['interest_rate'] = raw['int_rate'].apply(lambda x: x.replace('%', '')).astype(float)"
   ]
  },
  {
   "cell_type": "code",
   "execution_count": 30,
   "metadata": {},
   "outputs": [
    {
     "data": {
      "text/plain": [
       "charged_off\n",
       "False    12.836672\n",
       "True     16.135767\n",
       "Name: interest_rate, dtype: float64"
      ]
     },
     "execution_count": 30,
     "metadata": {},
     "output_type": "execute_result"
    }
   ],
   "source": [
    "raw.groupby('charged_off')['interest_rate'].mean()"
   ]
  },
  {
   "cell_type": "code",
   "execution_count": 31,
   "metadata": {},
   "outputs": [
    {
     "data": {
      "text/plain": [
       "charged_off\n",
       "False    249.557649\n",
       "True     199.944974\n",
       "Name: income_to_installment_ratio, dtype: float64"
      ]
     },
     "execution_count": 31,
     "metadata": {},
     "output_type": "execute_result"
    }
   ],
   "source": [
    "raw.groupby('charged_off')['income_to_installment_ratio'].mean() "
   ]
  },
  {
   "cell_type": "markdown",
   "metadata": {},
   "source": [
    "## Build Model"
   ]
  },
  {
   "cell_type": "code",
   "execution_count": 32,
   "metadata": {},
   "outputs": [],
   "source": [
    "from sklearn.linear_model import LogisticRegression\n",
    "from sklearn.pipeline import make_pipeline\n",
    "from sklearn.model_selection import train_test_split\n",
    "import numpy as np\n",
    "from yellowbrick.regressor import residuals_plot, prediction_error\n",
    "from yellowbrick.classifier import DiscriminationThreshold, ClassificationReport\n",
    "from sklearn.preprocessing import OneHotEncoder, StandardScaler\n",
    "from sklearn.compose import ColumnTransformer\n",
    "from sklearn.compose import make_column_selector as selector\n",
    "from sklearn import set_config\n",
    "from sklearn.metrics import mean_absolute_error\n",
    "from sklearn.impute import SimpleImputer\n",
    "from sklearn.pipeline import Pipeline\n",
    "from sklearn import set_config\n",
    "from sklearn.ensemble import RandomForestClassifier\n",
    "from imblearn.over_sampling import SMOTE \n",
    "from sklearn.metrics import roc_auc_score\n",
    "from time import time\n",
    "\n",
    "set_config(display=\"diagram\")\n",
    "\n",
    "\n",
    "def class_report(model, test = True):\n",
    "    \"\"\"\n",
    "    Use yellowbrick to get a classifiation report on\n",
    "    a model for the test datset\n",
    "    \"\"\"\n",
    "    visualizer = ClassificationReport(model)\n",
    "    if test:\n",
    "        visualizer.fit(X_test, y_test)\n",
    "        visualizer.score(X_test, y_test)\n",
    "    else:\n",
    "        visualizer.fit(X_train, y_train)\n",
    "        visualizer.score(X_train, y_train)\n",
    "    visualizer.show()\n",
    "\n",
    "def print_time_elapsed(t0):\n",
    "    \"\"\"\n",
    "    Print time elapsed in seconds since time t0\n",
    "    \"\"\"\n",
    "    print(\"%.1f seconds elapsed\" % (time() - t0))\n",
    "    \n",
    "def print_roc(model, test = True):\n",
    "    \"\"\"\n",
    "    Print ROC metric for an input the model\n",
    "    \"\"\"\n",
    "    if test:\n",
    "        roc = roc_auc_score(y_test, model.predict(X_test))\n",
    "    else:\n",
    "        roc = roc_auc_score(y_train, model.predict(X_train))\n",
    "    print(roc)\n",
    "    \n",
    "def get_lift_curve(model):\n",
    "    \"\"\"\n",
    "    Return lift curve for a model\n",
    "    \"\"\"\n",
    "    y_probas = model.predict_proba(X_test)\n",
    "    return plot_lift_curve(y_test, y_probas)"
   ]
  },
  {
   "cell_type": "code",
   "execution_count": 33,
   "metadata": {},
   "outputs": [],
   "source": [
    "# predictors from the original dataset to include in the models\n",
    "selected_X_columns = [\n",
    "    'income_to_installment_ratio', 'purpose', 'home_ownership', 'dti', 'delinq_2yrs_bool', \n",
    "    'fico_range_high', 'total_bal_ex_mort', 'application_type', 'pub_rec_bankruptcies_bool',\n",
    "    'num_tl_op_past_12m', 'addr_state', 'interest_rate'\n",
    "]\n",
    "X_orig = raw[selected_X_columns]"
   ]
  },
  {
   "cell_type": "code",
   "execution_count": 34,
   "metadata": {},
   "outputs": [
    {
     "data": {
      "text/html": [
       "<div>\n",
       "<style scoped>\n",
       "    .dataframe tbody tr th:only-of-type {\n",
       "        vertical-align: middle;\n",
       "    }\n",
       "\n",
       "    .dataframe tbody tr th {\n",
       "        vertical-align: top;\n",
       "    }\n",
       "\n",
       "    .dataframe thead th {\n",
       "        text-align: right;\n",
       "    }\n",
       "</style>\n",
       "<table border=\"1\" class=\"dataframe\">\n",
       "  <thead>\n",
       "    <tr style=\"text-align: right;\">\n",
       "      <th></th>\n",
       "      <th>income_to_installment_ratio</th>\n",
       "      <th>purpose</th>\n",
       "      <th>home_ownership</th>\n",
       "      <th>dti</th>\n",
       "      <th>delinq_2yrs_bool</th>\n",
       "      <th>fico_range_high</th>\n",
       "      <th>total_bal_ex_mort</th>\n",
       "      <th>application_type</th>\n",
       "      <th>pub_rec_bankruptcies_bool</th>\n",
       "      <th>num_tl_op_past_12m</th>\n",
       "      <th>addr_state</th>\n",
       "      <th>interest_rate</th>\n",
       "    </tr>\n",
       "  </thead>\n",
       "  <tbody>\n",
       "    <tr>\n",
       "      <th>38902</th>\n",
       "      <td>138.879525</td>\n",
       "      <td>debt_consolidation</td>\n",
       "      <td>RENT</td>\n",
       "      <td>24.44</td>\n",
       "      <td>False</td>\n",
       "      <td>704</td>\n",
       "      <td>24192</td>\n",
       "      <td>Individual</td>\n",
       "      <td>False</td>\n",
       "      <td>1</td>\n",
       "      <td>NJ</td>\n",
       "      <td>11.47</td>\n",
       "    </tr>\n",
       "    <tr>\n",
       "      <th>185478</th>\n",
       "      <td>92.916942</td>\n",
       "      <td>debt_consolidation</td>\n",
       "      <td>MORTGAGE</td>\n",
       "      <td>11.85</td>\n",
       "      <td>False</td>\n",
       "      <td>719</td>\n",
       "      <td>32931</td>\n",
       "      <td>Individual</td>\n",
       "      <td>False</td>\n",
       "      <td>2</td>\n",
       "      <td>TX</td>\n",
       "      <td>6.72</td>\n",
       "    </tr>\n",
       "    <tr>\n",
       "      <th>4396</th>\n",
       "      <td>128.236610</td>\n",
       "      <td>debt_consolidation</td>\n",
       "      <td>MORTGAGE</td>\n",
       "      <td>18.28</td>\n",
       "      <td>False</td>\n",
       "      <td>699</td>\n",
       "      <td>19425</td>\n",
       "      <td>Individual</td>\n",
       "      <td>False</td>\n",
       "      <td>1</td>\n",
       "      <td>MO</td>\n",
       "      <td>9.75</td>\n",
       "    </tr>\n",
       "  </tbody>\n",
       "</table>\n",
       "</div>"
      ],
      "text/plain": [
       "        income_to_installment_ratio             purpose home_ownership    dti  \\\n",
       "38902                    138.879525  debt_consolidation           RENT  24.44   \n",
       "185478                    92.916942  debt_consolidation       MORTGAGE  11.85   \n",
       "4396                     128.236610  debt_consolidation       MORTGAGE  18.28   \n",
       "\n",
       "        delinq_2yrs_bool  fico_range_high  total_bal_ex_mort application_type  \\\n",
       "38902              False              704              24192       Individual   \n",
       "185478             False              719              32931       Individual   \n",
       "4396               False              699              19425       Individual   \n",
       "\n",
       "        pub_rec_bankruptcies_bool  num_tl_op_past_12m addr_state  \\\n",
       "38902                       False                   1         NJ   \n",
       "185478                      False                   2         TX   \n",
       "4396                        False                   1         MO   \n",
       "\n",
       "        interest_rate  \n",
       "38902           11.47  \n",
       "185478           6.72  \n",
       "4396             9.75  "
      ]
     },
     "execution_count": 34,
     "metadata": {},
     "output_type": "execute_result"
    }
   ],
   "source": [
    "X_orig.sample(3)"
   ]
  },
  {
   "cell_type": "markdown",
   "metadata": {},
   "source": [
    "### Preprocessing"
   ]
  },
  {
   "cell_type": "code",
   "execution_count": 35,
   "metadata": {},
   "outputs": [],
   "source": [
    "# transform categorical and numerical columns\n",
    "numerical_columns_selector = selector(dtype_exclude=object)\n",
    "categorical_columns_selector = selector(dtype_include=object)\n",
    "\n",
    "numerical_columns = numerical_columns_selector(X_orig)\n",
    "categorical_columns = categorical_columns_selector(X_orig)\n",
    "\n",
    "categorical_preprocessor = OneHotEncoder(handle_unknown=\"ignore\")\n",
    "#numerical_preprocessor = StandardScaler()\n",
    "\n",
    "numeric_transformer = Pipeline([(\"imputer\", \n",
    "    SimpleImputer(strategy=\"median\")), (\"scaler\", StandardScaler())])\n",
    "\n",
    "preprocessor = ColumnTransformer([\n",
    "    ('one-hot-encoder', categorical_preprocessor, categorical_columns),\n",
    "    ('standard-scaler', numeric_transformer, numerical_columns)])"
   ]
  },
  {
   "cell_type": "code",
   "execution_count": 36,
   "metadata": {},
   "outputs": [
    {
     "data": {
      "text/html": [
       "<style>#sk-cb6f52c7-bd89-45f4-b303-94a3b57e207c {color: black;background-color: white;}#sk-cb6f52c7-bd89-45f4-b303-94a3b57e207c pre{padding: 0;}#sk-cb6f52c7-bd89-45f4-b303-94a3b57e207c div.sk-toggleable {background-color: white;}#sk-cb6f52c7-bd89-45f4-b303-94a3b57e207c label.sk-toggleable__label {cursor: pointer;display: block;width: 100%;margin-bottom: 0;padding: 0.3em;box-sizing: border-box;text-align: center;}#sk-cb6f52c7-bd89-45f4-b303-94a3b57e207c label.sk-toggleable__label-arrow:before {content: \"▸\";float: left;margin-right: 0.25em;color: #696969;}#sk-cb6f52c7-bd89-45f4-b303-94a3b57e207c label.sk-toggleable__label-arrow:hover:before {color: black;}#sk-cb6f52c7-bd89-45f4-b303-94a3b57e207c div.sk-estimator:hover label.sk-toggleable__label-arrow:before {color: black;}#sk-cb6f52c7-bd89-45f4-b303-94a3b57e207c div.sk-toggleable__content {max-height: 0;max-width: 0;overflow: hidden;text-align: left;background-color: #f0f8ff;}#sk-cb6f52c7-bd89-45f4-b303-94a3b57e207c div.sk-toggleable__content pre {margin: 0.2em;color: black;border-radius: 0.25em;background-color: #f0f8ff;}#sk-cb6f52c7-bd89-45f4-b303-94a3b57e207c input.sk-toggleable__control:checked~div.sk-toggleable__content {max-height: 200px;max-width: 100%;overflow: auto;}#sk-cb6f52c7-bd89-45f4-b303-94a3b57e207c input.sk-toggleable__control:checked~label.sk-toggleable__label-arrow:before {content: \"▾\";}#sk-cb6f52c7-bd89-45f4-b303-94a3b57e207c div.sk-estimator input.sk-toggleable__control:checked~label.sk-toggleable__label {background-color: #d4ebff;}#sk-cb6f52c7-bd89-45f4-b303-94a3b57e207c div.sk-label input.sk-toggleable__control:checked~label.sk-toggleable__label {background-color: #d4ebff;}#sk-cb6f52c7-bd89-45f4-b303-94a3b57e207c input.sk-hidden--visually {border: 0;clip: rect(1px 1px 1px 1px);clip: rect(1px, 1px, 1px, 1px);height: 1px;margin: -1px;overflow: hidden;padding: 0;position: absolute;width: 1px;}#sk-cb6f52c7-bd89-45f4-b303-94a3b57e207c div.sk-estimator {font-family: monospace;background-color: #f0f8ff;border: 1px dotted black;border-radius: 0.25em;box-sizing: border-box;margin-bottom: 0.5em;}#sk-cb6f52c7-bd89-45f4-b303-94a3b57e207c div.sk-estimator:hover {background-color: #d4ebff;}#sk-cb6f52c7-bd89-45f4-b303-94a3b57e207c div.sk-parallel-item::after {content: \"\";width: 100%;border-bottom: 1px solid gray;flex-grow: 1;}#sk-cb6f52c7-bd89-45f4-b303-94a3b57e207c div.sk-label:hover label.sk-toggleable__label {background-color: #d4ebff;}#sk-cb6f52c7-bd89-45f4-b303-94a3b57e207c div.sk-serial::before {content: \"\";position: absolute;border-left: 1px solid gray;box-sizing: border-box;top: 2em;bottom: 0;left: 50%;}#sk-cb6f52c7-bd89-45f4-b303-94a3b57e207c div.sk-serial {display: flex;flex-direction: column;align-items: center;background-color: white;padding-right: 0.2em;padding-left: 0.2em;}#sk-cb6f52c7-bd89-45f4-b303-94a3b57e207c div.sk-item {z-index: 1;}#sk-cb6f52c7-bd89-45f4-b303-94a3b57e207c div.sk-parallel {display: flex;align-items: stretch;justify-content: center;background-color: white;}#sk-cb6f52c7-bd89-45f4-b303-94a3b57e207c div.sk-parallel::before {content: \"\";position: absolute;border-left: 1px solid gray;box-sizing: border-box;top: 2em;bottom: 0;left: 50%;}#sk-cb6f52c7-bd89-45f4-b303-94a3b57e207c div.sk-parallel-item {display: flex;flex-direction: column;position: relative;background-color: white;}#sk-cb6f52c7-bd89-45f4-b303-94a3b57e207c div.sk-parallel-item:first-child::after {align-self: flex-end;width: 50%;}#sk-cb6f52c7-bd89-45f4-b303-94a3b57e207c div.sk-parallel-item:last-child::after {align-self: flex-start;width: 50%;}#sk-cb6f52c7-bd89-45f4-b303-94a3b57e207c div.sk-parallel-item:only-child::after {width: 0;}#sk-cb6f52c7-bd89-45f4-b303-94a3b57e207c div.sk-dashed-wrapped {border: 1px dashed gray;margin: 0 0.4em 0.5em 0.4em;box-sizing: border-box;padding-bottom: 0.4em;background-color: white;position: relative;}#sk-cb6f52c7-bd89-45f4-b303-94a3b57e207c div.sk-label label {font-family: monospace;font-weight: bold;background-color: white;display: inline-block;line-height: 1.2em;}#sk-cb6f52c7-bd89-45f4-b303-94a3b57e207c div.sk-label-container {position: relative;z-index: 2;text-align: center;}#sk-cb6f52c7-bd89-45f4-b303-94a3b57e207c div.sk-container {/* jupyter's `normalize.less` sets `[hidden] { display: none; }` but bootstrap.min.css set `[hidden] { display: none !important; }` so we also need the `!important` here to be able to override the default hidden behavior on the sphinx rendered scikit-learn.org. See: https://github.com/scikit-learn/scikit-learn/issues/21755 */display: inline-block !important;position: relative;}#sk-cb6f52c7-bd89-45f4-b303-94a3b57e207c div.sk-text-repr-fallback {display: none;}</style><div id=\"sk-cb6f52c7-bd89-45f4-b303-94a3b57e207c\" class=\"sk-top-container\"><div class=\"sk-text-repr-fallback\"><pre>ColumnTransformer(transformers=[(&#x27;one-hot-encoder&#x27;,\n",
       "                                 OneHotEncoder(handle_unknown=&#x27;ignore&#x27;),\n",
       "                                 [&#x27;purpose&#x27;, &#x27;home_ownership&#x27;,\n",
       "                                  &#x27;application_type&#x27;, &#x27;addr_state&#x27;]),\n",
       "                                (&#x27;standard-scaler&#x27;,\n",
       "                                 Pipeline(steps=[(&#x27;imputer&#x27;,\n",
       "                                                  SimpleImputer(strategy=&#x27;median&#x27;)),\n",
       "                                                 (&#x27;scaler&#x27;, StandardScaler())]),\n",
       "                                 [&#x27;income_to_installment_ratio&#x27;, &#x27;dti&#x27;,\n",
       "                                  &#x27;delinq_2yrs_bool&#x27;, &#x27;fico_range_high&#x27;,\n",
       "                                  &#x27;total_bal_ex_mort&#x27;,\n",
       "                                  &#x27;pub_rec_bankruptcies_bool&#x27;,\n",
       "                                  &#x27;num_tl_op_past_12m&#x27;, &#x27;interest_rate&#x27;])])</pre><b>Please rerun this cell to show the HTML repr or trust the notebook.</b></div><div class=\"sk-container\" hidden><div class=\"sk-item sk-dashed-wrapped\"><div class=\"sk-label-container\"><div class=\"sk-label sk-toggleable\"><input class=\"sk-toggleable__control sk-hidden--visually\" id=\"11678c5e-1fd1-48bb-8deb-efbd78282efb\" type=\"checkbox\" ><label for=\"11678c5e-1fd1-48bb-8deb-efbd78282efb\" class=\"sk-toggleable__label sk-toggleable__label-arrow\">ColumnTransformer</label><div class=\"sk-toggleable__content\"><pre>ColumnTransformer(transformers=[(&#x27;one-hot-encoder&#x27;,\n",
       "                                 OneHotEncoder(handle_unknown=&#x27;ignore&#x27;),\n",
       "                                 [&#x27;purpose&#x27;, &#x27;home_ownership&#x27;,\n",
       "                                  &#x27;application_type&#x27;, &#x27;addr_state&#x27;]),\n",
       "                                (&#x27;standard-scaler&#x27;,\n",
       "                                 Pipeline(steps=[(&#x27;imputer&#x27;,\n",
       "                                                  SimpleImputer(strategy=&#x27;median&#x27;)),\n",
       "                                                 (&#x27;scaler&#x27;, StandardScaler())]),\n",
       "                                 [&#x27;income_to_installment_ratio&#x27;, &#x27;dti&#x27;,\n",
       "                                  &#x27;delinq_2yrs_bool&#x27;, &#x27;fico_range_high&#x27;,\n",
       "                                  &#x27;total_bal_ex_mort&#x27;,\n",
       "                                  &#x27;pub_rec_bankruptcies_bool&#x27;,\n",
       "                                  &#x27;num_tl_op_past_12m&#x27;, &#x27;interest_rate&#x27;])])</pre></div></div></div><div class=\"sk-parallel\"><div class=\"sk-parallel-item\"><div class=\"sk-item\"><div class=\"sk-label-container\"><div class=\"sk-label sk-toggleable\"><input class=\"sk-toggleable__control sk-hidden--visually\" id=\"da940168-b2c3-4721-b28e-32b47ff73b35\" type=\"checkbox\" ><label for=\"da940168-b2c3-4721-b28e-32b47ff73b35\" class=\"sk-toggleable__label sk-toggleable__label-arrow\">one-hot-encoder</label><div class=\"sk-toggleable__content\"><pre>[&#x27;purpose&#x27;, &#x27;home_ownership&#x27;, &#x27;application_type&#x27;, &#x27;addr_state&#x27;]</pre></div></div></div><div class=\"sk-serial\"><div class=\"sk-item\"><div class=\"sk-estimator sk-toggleable\"><input class=\"sk-toggleable__control sk-hidden--visually\" id=\"39a31499-689f-4681-b762-dfa934c06e6d\" type=\"checkbox\" ><label for=\"39a31499-689f-4681-b762-dfa934c06e6d\" class=\"sk-toggleable__label sk-toggleable__label-arrow\">OneHotEncoder</label><div class=\"sk-toggleable__content\"><pre>OneHotEncoder(handle_unknown=&#x27;ignore&#x27;)</pre></div></div></div></div></div></div><div class=\"sk-parallel-item\"><div class=\"sk-item\"><div class=\"sk-label-container\"><div class=\"sk-label sk-toggleable\"><input class=\"sk-toggleable__control sk-hidden--visually\" id=\"ed65e4dd-97be-4042-b8b2-5de4610a020a\" type=\"checkbox\" ><label for=\"ed65e4dd-97be-4042-b8b2-5de4610a020a\" class=\"sk-toggleable__label sk-toggleable__label-arrow\">standard-scaler</label><div class=\"sk-toggleable__content\"><pre>[&#x27;income_to_installment_ratio&#x27;, &#x27;dti&#x27;, &#x27;delinq_2yrs_bool&#x27;, &#x27;fico_range_high&#x27;, &#x27;total_bal_ex_mort&#x27;, &#x27;pub_rec_bankruptcies_bool&#x27;, &#x27;num_tl_op_past_12m&#x27;, &#x27;interest_rate&#x27;]</pre></div></div></div><div class=\"sk-serial\"><div class=\"sk-item\"><div class=\"sk-serial\"><div class=\"sk-item\"><div class=\"sk-estimator sk-toggleable\"><input class=\"sk-toggleable__control sk-hidden--visually\" id=\"6332879e-a5ea-4c3a-a449-d0fc33a71458\" type=\"checkbox\" ><label for=\"6332879e-a5ea-4c3a-a449-d0fc33a71458\" class=\"sk-toggleable__label sk-toggleable__label-arrow\">SimpleImputer</label><div class=\"sk-toggleable__content\"><pre>SimpleImputer(strategy=&#x27;median&#x27;)</pre></div></div></div><div class=\"sk-item\"><div class=\"sk-estimator sk-toggleable\"><input class=\"sk-toggleable__control sk-hidden--visually\" id=\"e00ff045-954d-4a20-a225-1a2b6c4c8728\" type=\"checkbox\" ><label for=\"e00ff045-954d-4a20-a225-1a2b6c4c8728\" class=\"sk-toggleable__label sk-toggleable__label-arrow\">StandardScaler</label><div class=\"sk-toggleable__content\"><pre>StandardScaler()</pre></div></div></div></div></div></div></div></div></div></div></div></div>"
      ],
      "text/plain": [
       "ColumnTransformer(transformers=[('one-hot-encoder',\n",
       "                                 OneHotEncoder(handle_unknown='ignore'),\n",
       "                                 ['purpose', 'home_ownership',\n",
       "                                  'application_type', 'addr_state']),\n",
       "                                ('standard-scaler',\n",
       "                                 Pipeline(steps=[('imputer',\n",
       "                                                  SimpleImputer(strategy='median')),\n",
       "                                                 ('scaler', StandardScaler())]),\n",
       "                                 ['income_to_installment_ratio', 'dti',\n",
       "                                  'delinq_2yrs_bool', 'fico_range_high',\n",
       "                                  'total_bal_ex_mort',\n",
       "                                  'pub_rec_bankruptcies_bool',\n",
       "                                  'num_tl_op_past_12m', 'interest_rate'])])"
      ]
     },
     "execution_count": 36,
     "metadata": {},
     "output_type": "execute_result"
    }
   ],
   "source": [
    "preprocessor"
   ]
  },
  {
   "cell_type": "code",
   "execution_count": 37,
   "metadata": {},
   "outputs": [],
   "source": [
    "# perform preprocessing on predictors\n",
    "X = preprocessor.fit_transform(\n",
    "    X_orig\n",
    "    )\n",
    "\n",
    "#y = np.log10(study_df[['total_gmv']].values.ravel())\n",
    "y = raw[['charged_off']].values.ravel()\n",
    "# https://scikit-learn.org/stable/auto_examples/compose/plot_column_transformer_mixed_types.html"
   ]
  },
  {
   "cell_type": "code",
   "execution_count": 38,
   "metadata": {},
   "outputs": [
    {
     "data": {
      "text/plain": [
       "[('one-hot-encoder',\n",
       "  OneHotEncoder(handle_unknown='ignore'),\n",
       "  ['purpose', 'home_ownership', 'application_type', 'addr_state']),\n",
       " ('standard-scaler',\n",
       "  Pipeline(steps=[('imputer', SimpleImputer(strategy='median')),\n",
       "                  ('scaler', StandardScaler())]),\n",
       "  ['income_to_installment_ratio',\n",
       "   'dti',\n",
       "   'delinq_2yrs_bool',\n",
       "   'fico_range_high',\n",
       "   'total_bal_ex_mort',\n",
       "   'pub_rec_bankruptcies_bool',\n",
       "   'num_tl_op_past_12m',\n",
       "   'interest_rate'])]"
      ]
     },
     "execution_count": 38,
     "metadata": {},
     "output_type": "execute_result"
    }
   ],
   "source": [
    "preprocessor.transformers_"
   ]
  },
  {
   "cell_type": "code",
   "execution_count": 39,
   "metadata": {},
   "outputs": [],
   "source": [
    "# Test/Train split\n",
    "X_train_raw, X_test, y_train_raw, y_test = train_test_split(\n",
    "    X, # predictors\n",
    "    y, # outcome variable\n",
    "    test_size = 0.50,\n",
    "    random_state = 42\n",
    ")"
   ]
  },
  {
   "cell_type": "code",
   "execution_count": 40,
   "metadata": {},
   "outputs": [
    {
     "name": "stdout",
     "output_type": "stream",
     "text": [
      "27.2 seconds elapsed\n"
     ]
    }
   ],
   "source": [
    "# Apply SMOTE to get a training dataset with balanced classes\n",
    "t0 = time()\n",
    "sm = SMOTE(random_state=42, n_jobs = -1)\n",
    "X_train, y_train = sm.fit_resample(X_train_raw, y_train_raw)\n",
    "print_time_elapsed(t0)"
   ]
  },
  {
   "cell_type": "code",
   "execution_count": 41,
   "metadata": {},
   "outputs": [
    {
     "data": {
      "text/plain": [
       "0.5"
      ]
     },
     "execution_count": 41,
     "metadata": {},
     "output_type": "execute_result"
    }
   ],
   "source": [
    "np.mean(y_train) # check class imbalance"
   ]
  },
  {
   "cell_type": "markdown",
   "metadata": {},
   "source": [
    "## Train Models"
   ]
  },
  {
   "cell_type": "code",
   "execution_count": 42,
   "metadata": {},
   "outputs": [],
   "source": [
    "# from sklearn.neural_network import MLPClassifier\n",
    "# nn_model = MLPClassifier(alpha = 0.01, max_iter=100)"
   ]
  },
  {
   "cell_type": "code",
   "execution_count": 43,
   "metadata": {},
   "outputs": [],
   "source": [
    "# t0 = time()\n",
    "# # train models\n",
    "# nn_model.fit(X_train, y_train)\n",
    "# print_time_elapsed(t0)"
   ]
  },
  {
   "cell_type": "code",
   "execution_count": 44,
   "metadata": {},
   "outputs": [],
   "source": [
    "# Specify models\n",
    "lr_model = LogisticRegression(solver='liblinear')\n",
    "rf_model = RandomForestClassifier(n_jobs=-1, n_estimators=150, min_samples_split=0.04)"
   ]
  },
  {
   "cell_type": "code",
   "execution_count": 45,
   "metadata": {},
   "outputs": [
    {
     "name": "stdout",
     "output_type": "stream",
     "text": [
      "4.6 seconds elapsed\n"
     ]
    }
   ],
   "source": [
    "t0 = time()\n",
    "# train models\n",
    "lr_model.fit(X_train, y_train)\n",
    "print_time_elapsed(t0)"
   ]
  },
  {
   "cell_type": "code",
   "execution_count": 46,
   "metadata": {},
   "outputs": [
    {
     "name": "stdout",
     "output_type": "stream",
     "text": [
      "46.0 seconds elapsed\n"
     ]
    }
   ],
   "source": [
    "t0 = time()\n",
    "rf_model.fit(X_train, y_train)\n",
    "print_time_elapsed(t0)"
   ]
  },
  {
   "cell_type": "code",
   "execution_count": 47,
   "metadata": {},
   "outputs": [
    {
     "data": {
      "image/png": "[encoded data removed]",
      "text/plain": [
       "<Figure size 576x396 with 1 Axes>"
      ]
     },
     "metadata": {},
     "output_type": "display_data"
    },
    {
     "data": {
      "text/plain": [
       "<AxesSubplot:title={'center':'Feature Importances of 79 Features using RandomForestClassifier'}, xlabel='relative importance'>"
      ]
     },
     "execution_count": 47,
     "metadata": {},
     "output_type": "execute_result"
    }
   ],
   "source": [
    "from yellowbrick.model_selection import FeatureImportances\n",
    "viz = FeatureImportances(rf_model)\n",
    "viz.fit(X_train, y_train)\n",
    "viz.show()"
   ]
  },
  {
   "cell_type": "code",
   "execution_count": 48,
   "metadata": {},
   "outputs": [
    {
     "data": {
      "text/plain": [
       "array([[-0.38424462, -0.03063233,  0.03249624,  0.        ,  0.05211618,\n",
       "        -0.46924506, -0.14221017,  0.06122775,  0.10467457, -0.00577185,\n",
       "         0.05028146,  0.14067875, -0.12450681,  0.        , -0.97520551,\n",
       "         0.088245  , -0.31287977,  0.17319234,  0.31151204,  0.13139104,\n",
       "        -0.84652693,  0.11492937,  0.24770346,  0.31030743,  0.3050194 ,\n",
       "         0.40525428, -0.13481545, -0.4233842 , -0.32972834, -0.04964497,\n",
       "         0.29214592, -0.00482725, -0.24711982, -0.47949229,  0.11492781,\n",
       "         0.27078693, -0.21852817,  0.15065072,  0.38962329,  0.19599339,\n",
       "         0.17026572, -0.98434499,  0.17765087,  0.18599748,  0.16712009,\n",
       "         0.19283554, -0.45848293,  0.21314197, -0.04344687,  0.14133974,\n",
       "        -0.65712336,  0.22277576,  0.16969096,  0.38279199,  0.368449  ,\n",
       "         0.23369228,  0.44400581, -0.26106218,  0.22122938, -0.58065651,\n",
       "        -0.38535999, -0.04136337,  0.09512499,  0.34614053, -0.16111963,\n",
       "         0.16638663, -0.8506059 , -0.23539153,  0.02994587, -0.36487503,\n",
       "        -0.52968974, -0.4709851 ,  0.13792776,  0.01107813, -0.23772279,\n",
       "        -0.07192192,  0.01597461,  0.18929846,  0.46872373]])"
      ]
     },
     "execution_count": 48,
     "metadata": {},
     "output_type": "execute_result"
    }
   ],
   "source": [
    "lr_model.coef_"
   ]
  },
  {
   "cell_type": "markdown",
   "metadata": {},
   "source": [
    "## Evaluate Models"
   ]
  },
  {
   "cell_type": "code",
   "execution_count": 49,
   "metadata": {},
   "outputs": [
    {
     "name": "stdout",
     "output_type": "stream",
     "text": [
      "0.6246676647550102\n"
     ]
    }
   ],
   "source": [
    "print_roc(rf_model)"
   ]
  },
  {
   "cell_type": "code",
   "execution_count": 50,
   "metadata": {},
   "outputs": [
    {
     "name": "stdout",
     "output_type": "stream",
     "text": [
      "0.644996884170708\n"
     ]
    }
   ],
   "source": [
    "print_roc(lr_model)"
   ]
  },
  {
   "cell_type": "code",
   "execution_count": 51,
   "metadata": {},
   "outputs": [
    {
     "name": "stdout",
     "output_type": "stream",
     "text": [
      "0.7235775216775348\n"
     ]
    }
   ],
   "source": [
    "# Look at training set performance\n",
    "print_roc(rf_model, test = False)"
   ]
  },
  {
   "cell_type": "code",
   "execution_count": 52,
   "metadata": {},
   "outputs": [
    {
     "name": "stdout",
     "output_type": "stream",
     "text": [
      "0.6532297768444744\n"
     ]
    }
   ],
   "source": [
    "# Look at training set performance\n",
    "print_roc(lr_model, test = False)"
   ]
  },
  {
   "cell_type": "code",
   "execution_count": 53,
   "metadata": {},
   "outputs": [
    {
     "data": {
      "image/png": "[encoded data removed]",
      "text/plain": [
       "<Figure size 576x396 with 2 Axes>"
      ]
     },
     "metadata": {},
     "output_type": "display_data"
    }
   ],
   "source": [
    "class_report(lr_model)"
   ]
  },
  {
   "cell_type": "code",
   "execution_count": 54,
   "metadata": {},
   "outputs": [
    {
     "data": {
      "image/png": "[encoded data removed]",
      "text/plain": [
       "<Figure size 576x396 with 2 Axes>"
      ]
     },
     "metadata": {},
     "output_type": "display_data"
    }
   ],
   "source": [
    "class_report(rf_model)"
   ]
  },
  {
   "cell_type": "code",
   "execution_count": 55,
   "metadata": {},
   "outputs": [
    {
     "data": {
      "image/png": "[encoded data removed]",
      "text/plain": [
       "<Figure size 576x396 with 2 Axes>"
      ]
     },
     "metadata": {},
     "output_type": "display_data"
    }
   ],
   "source": [
    "# Look at training set performance\n",
    "class_report(lr_model, test = False)"
   ]
  },
  {
   "cell_type": "code",
   "execution_count": 56,
   "metadata": {},
   "outputs": [
    {
     "data": {
      "image/png": "[encoded data removed]",
      "text/plain": [
       "<Figure size 576x396 with 2 Axes>"
      ]
     },
     "metadata": {},
     "output_type": "display_data"
    }
   ],
   "source": [
    "# Look at training set performance\n",
    "class_report(rf_model, test = False)"
   ]
  },
  {
   "cell_type": "markdown",
   "metadata": {},
   "source": [
    "## Lift Curve"
   ]
  },
  {
   "cell_type": "code",
   "execution_count": 57,
   "metadata": {},
   "outputs": [],
   "source": [
    "from scikitplot.metrics import plot_lift_curve"
   ]
  },
  {
   "cell_type": "code",
   "execution_count": 58,
   "metadata": {},
   "outputs": [
    {
     "data": {
      "text/plain": [
       "<AxesSubplot:title={'center':'Lift Curve'}, xlabel='Percentage of sample', ylabel='Lift'>"
      ]
     },
     "execution_count": 58,
     "metadata": {},
     "output_type": "execute_result"
    },
    {
     "data": {
      "image/png": "[encoded data removed]",
      "text/plain": [
       "<Figure size 576x396 with 1 Axes>"
      ]
     },
     "metadata": {},
     "output_type": "display_data"
    }
   ],
   "source": [
    "get_lift_curve(lr_model)"
   ]
  },
  {
   "cell_type": "code",
   "execution_count": 59,
   "metadata": {},
   "outputs": [
    {
     "data": {
      "text/plain": [
       "<AxesSubplot:title={'center':'Lift Curve'}, xlabel='Percentage of sample', ylabel='Lift'>"
      ]
     },
     "execution_count": 59,
     "metadata": {},
     "output_type": "execute_result"
    },
    {
     "data": {
      "image/png": "[encoded data removed]",
      "text/plain": [
       "<Figure size 576x396 with 1 Axes>"
      ]
     },
     "metadata": {},
     "output_type": "display_data"
    }
   ],
   "source": [
    "get_lift_curve(rf_model)"
   ]
  }
 ],
 "metadata": {
  "kernelspec": {
   "display_name": "Python 3 (ipykernel)",
   "language": "python",
   "name": "python3"
  },
  "language_info": {
   "codemirror_mode": {
    "name": "ipython",
    "version": 3
   },
   "file_extension": ".py",
   "mimetype": "text/x-python",
   "name": "python",
   "nbconvert_exporter": "python",
   "pygments_lexer": "ipython3",
   "version": "3.9.7"
  }
 },
 "nbformat": 4,
 "nbformat_minor": 4
}
