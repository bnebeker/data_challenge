{
 "cells": [
  {
   "cell_type": "markdown",
   "metadata": {},
   "source": [
    "## Summary\n",
    "\n",
    "\n",
    "### Models\n",
    "- Classifier models were to predict a loan status of **\"Charged Off\"** since these loans are unlikely to be repaid. \n",
    "- A logistic regression model was trained as a baseline model\n",
    "- A random forest model was chosen because it considers interactions between the features and can be parallelized easily. Maximum depth and number of trees were set to keep training low on an older laptop\n",
    "- Predictors were chosen based on their completeness in the data and relevance to the outcome\n",
    "- ROC, precision, and recall were used to evaluate the performance of the models\n",
    "\n",
    "### Data Preparation\n",
    "- Continuous predictors were normalized by subtracting the mean and dividing by the standard deviation. Missing continuous predictors were imputed with a median value.\n",
    "- Categorical predictors were one-hot encoded\n",
    "- Since only 9% of the loans were charged off, **SMOTE** was used to handle this class imbalance and create training dataset that has a 50/50 split between the positive and negative class\n",
    "\n",
    "\n",
    "### Future Work\n",
    "- Train a random forest or gradient boosted model with a larger number of trees to increase performance. Use a Bayesian or random search to optimize hyperparameters such as tree depth and split criteria."
   ]
  },
  {
   "cell_type": "code",
   "execution_count": 1,
   "metadata": {},
   "outputs": [
    {
     "name": "stdout",
     "output_type": "stream",
     "text": [
      "3.9.7 (default, Sep 16 2021, 13:09:58) \n",
      "[GCC 7.5.0]\n"
     ]
    }
   ],
   "source": [
    "import sys\n",
    "\n",
    "print(sys.version)"
   ]
  },
  {
   "cell_type": "markdown",
   "metadata": {},
   "source": [
    "## Data Prep"
   ]
  },
  {
   "cell_type": "code",
   "execution_count": 2,
   "metadata": {},
   "outputs": [],
   "source": [
    "import pandas as pd\n",
    "from os import listdir, getcwd\n",
    "from os.path import isfile, join\n",
    "pd.set_option('display.max_columns', 500)"
   ]
  },
  {
   "cell_type": "code",
   "execution_count": 3,
   "metadata": {},
   "outputs": [],
   "source": [
    "# get filenames\n",
    "data_filenames = [ file for file in listdir('data') if isfile(join(getcwd(), 'data', file))]"
   ]
  },
  {
   "cell_type": "code",
   "execution_count": 4,
   "metadata": {},
   "outputs": [],
   "source": [
    "def load_data():\n",
    "    \"\"\"\n",
    "    Load all files, return single dataframe\n",
    "    \"\"\"\n",
    "    data_array = [] # placeholder for dataframes\n",
    "    for filename in data_filenames:\n",
    "        full_path = join(getcwd(), 'data', filename)\n",
    "        print(\"Loading: \" + filename)\n",
    "        data_array.append(pd.read_csv(full_path))\n",
    "    \n",
    "    return(pd.concat(data_array, ignore_index = True))"
   ]
  },
  {
   "cell_type": "code",
   "execution_count": 5,
   "metadata": {},
   "outputs": [
    {
     "name": "stdout",
     "output_type": "stream",
     "text": [
      "Loading: 2016Q1.csv.gz\n",
      "Loading: 2016Q2.csv.gz\n",
      "Loading: 2017Q1.csv.gz\n",
      "Loading: 2017Q4.csv.gz\n",
      "Loading: 2017Q2.csv.gz\n",
      "Loading: 2017Q3.csv.gz\n",
      "Loading: 2016Q3.csv.gz\n",
      "Loading: 2016Q4.csv.gz\n"
     ]
    }
   ],
   "source": [
    "raw = load_data()\n",
    "# create boolean variable for charged off loan status\n",
    "raw['charged_off'] = raw['loan_status'] == 'Charged Off' "
   ]
  },
  {
   "cell_type": "code",
   "execution_count": 6,
   "metadata": {},
   "outputs": [
    {
     "data": {
      "text/plain": [
       "False    0.906827\n",
       "True     0.093173\n",
       "Name: charged_off, dtype: float64"
      ]
     },
     "execution_count": 6,
     "metadata": {},
     "output_type": "execute_result"
    }
   ],
   "source": [
    "raw['charged_off'].value_counts(normalize = True)"
   ]
  },
  {
   "cell_type": "code",
   "execution_count": 7,
   "metadata": {},
   "outputs": [
    {
     "data": {
      "text/plain": [
       "(438991, 56)"
      ]
     },
     "execution_count": 7,
     "metadata": {},
     "output_type": "execute_result"
    }
   ],
   "source": [
    "raw.shape"
   ]
  },
  {
   "cell_type": "code",
   "execution_count": 8,
   "metadata": {},
   "outputs": [
    {
     "data": {
      "text/plain": [
       "id                                0.000000\n",
       "funded_amnt                       0.000000\n",
       "term                              0.000000\n",
       "int_rate                          0.000000\n",
       "installment                       0.000000\n",
       "emp_title                         0.069175\n",
       "emp_length                        0.068368\n",
       "home_ownership                    0.000000\n",
       "annual_inc                        0.000000\n",
       "loan_status                       0.000000\n",
       "purpose                           0.000000\n",
       "zip_code                          0.000000\n",
       "addr_state                        0.000000\n",
       "dti                               0.000649\n",
       "delinq_2yrs                       0.000000\n",
       "earliest_cr_line                  0.000000\n",
       "fico_range_high                   0.000000\n",
       "inq_last_6mths                    0.000000\n",
       "mths_since_last_delinq            0.486743\n",
       "open_acc                          0.000000\n",
       "revol_bal                         0.000000\n",
       "revol_util                        0.000818\n",
       "total_acc                         0.000000\n",
       "application_type                  0.000000\n",
       "annual_inc_joint                  0.941208\n",
       "dti_joint                         0.941211\n",
       "open_act_il                       0.000062\n",
       "open_il_24m                       0.000062\n",
       "il_util                           0.135686\n",
       "open_rv_24m                       0.000062\n",
       "all_util                          0.000169\n",
       "total_rev_hi_lim                  0.000000\n",
       "inq_last_12m                      0.000062\n",
       "acc_open_past_24mths              0.000000\n",
       "bc_open_to_buy                    0.011825\n",
       "bc_util                           0.012276\n",
       "mort_acc                          0.000000\n",
       "mths_since_recent_bc              0.011167\n",
       "mths_since_recent_bc_dlq          0.756205\n",
       "mths_since_recent_revol_delinq    0.650551\n",
       "num_accts_ever_120_pd             0.000000\n",
       "num_rev_accts                     0.000000\n",
       "num_rev_tl_bal_gt_0               0.000000\n",
       "num_sats                          0.000000\n",
       "num_tl_90g_dpd_24m                0.000000\n",
       "num_tl_op_past_12m                0.000000\n",
       "pct_tl_nvr_dlq                    0.000000\n",
       "percent_bc_gt_75                  0.011884\n",
       "pub_rec_bankruptcies              0.000000\n",
       "total_bal_ex_mort                 0.000000\n",
       "total_bc_limit                    0.000000\n",
       "revol_bal_joint                   0.955193\n",
       "sec_app_fico_range_high           0.955190\n",
       "sec_app_earliest_cr_line          0.955190\n",
       "sec_app_inq_last_6mths            0.955190\n",
       "charged_off                       0.000000\n",
       "dtype: float64"
      ]
     },
     "execution_count": 8,
     "metadata": {},
     "output_type": "execute_result"
    }
   ],
   "source": [
    "raw.isna().mean()"
   ]
  },
  {
   "cell_type": "code",
   "execution_count": 9,
   "metadata": {},
   "outputs": [
    {
     "data": {
      "text/plain": [
       "(438991,)"
      ]
     },
     "execution_count": 9,
     "metadata": {},
     "output_type": "execute_result"
    }
   ],
   "source": [
    "raw['id'].drop_duplicates().shape"
   ]
  },
  {
   "cell_type": "code",
   "execution_count": 10,
   "metadata": {},
   "outputs": [
    {
     "data": {
      "text/html": [
       "<div>\n",
       "<style scoped>\n",
       "    .dataframe tbody tr th:only-of-type {\n",
       "        vertical-align: middle;\n",
       "    }\n",
       "\n",
       "    .dataframe tbody tr th {\n",
       "        vertical-align: top;\n",
       "    }\n",
       "\n",
       "    .dataframe thead th {\n",
       "        text-align: right;\n",
       "    }\n",
       "</style>\n",
       "<table border=\"1\" class=\"dataframe\">\n",
       "  <thead>\n",
       "    <tr style=\"text-align: right;\">\n",
       "      <th></th>\n",
       "      <th>id</th>\n",
       "      <th>funded_amnt</th>\n",
       "      <th>term</th>\n",
       "      <th>int_rate</th>\n",
       "      <th>installment</th>\n",
       "      <th>emp_title</th>\n",
       "      <th>emp_length</th>\n",
       "      <th>home_ownership</th>\n",
       "      <th>annual_inc</th>\n",
       "      <th>loan_status</th>\n",
       "      <th>purpose</th>\n",
       "      <th>zip_code</th>\n",
       "      <th>addr_state</th>\n",
       "      <th>dti</th>\n",
       "      <th>delinq_2yrs</th>\n",
       "      <th>earliest_cr_line</th>\n",
       "      <th>fico_range_high</th>\n",
       "      <th>inq_last_6mths</th>\n",
       "      <th>mths_since_last_delinq</th>\n",
       "      <th>open_acc</th>\n",
       "      <th>revol_bal</th>\n",
       "      <th>revol_util</th>\n",
       "      <th>total_acc</th>\n",
       "      <th>application_type</th>\n",
       "      <th>annual_inc_joint</th>\n",
       "      <th>dti_joint</th>\n",
       "      <th>open_act_il</th>\n",
       "      <th>open_il_24m</th>\n",
       "      <th>il_util</th>\n",
       "      <th>open_rv_24m</th>\n",
       "      <th>all_util</th>\n",
       "      <th>total_rev_hi_lim</th>\n",
       "      <th>inq_last_12m</th>\n",
       "      <th>acc_open_past_24mths</th>\n",
       "      <th>bc_open_to_buy</th>\n",
       "      <th>bc_util</th>\n",
       "      <th>mort_acc</th>\n",
       "      <th>mths_since_recent_bc</th>\n",
       "      <th>mths_since_recent_bc_dlq</th>\n",
       "      <th>mths_since_recent_revol_delinq</th>\n",
       "      <th>num_accts_ever_120_pd</th>\n",
       "      <th>num_rev_accts</th>\n",
       "      <th>num_rev_tl_bal_gt_0</th>\n",
       "      <th>num_sats</th>\n",
       "      <th>num_tl_90g_dpd_24m</th>\n",
       "      <th>num_tl_op_past_12m</th>\n",
       "      <th>pct_tl_nvr_dlq</th>\n",
       "      <th>percent_bc_gt_75</th>\n",
       "      <th>pub_rec_bankruptcies</th>\n",
       "      <th>total_bal_ex_mort</th>\n",
       "      <th>total_bc_limit</th>\n",
       "      <th>revol_bal_joint</th>\n",
       "      <th>sec_app_fico_range_high</th>\n",
       "      <th>sec_app_earliest_cr_line</th>\n",
       "      <th>sec_app_inq_last_6mths</th>\n",
       "      <th>charged_off</th>\n",
       "    </tr>\n",
       "  </thead>\n",
       "  <tbody>\n",
       "    <tr>\n",
       "      <th>200391</th>\n",
       "      <td>125136019</td>\n",
       "      <td>12000</td>\n",
       "      <td>60 months</td>\n",
       "      <td>12.62%</td>\n",
       "      <td>270.71</td>\n",
       "      <td>Manager</td>\n",
       "      <td>5 years</td>\n",
       "      <td>MORTGAGE</td>\n",
       "      <td>50000.0</td>\n",
       "      <td>Current</td>\n",
       "      <td>credit_card</td>\n",
       "      <td>983xx</td>\n",
       "      <td>WA</td>\n",
       "      <td>16.44</td>\n",
       "      <td>0</td>\n",
       "      <td>Mar-02</td>\n",
       "      <td>734</td>\n",
       "      <td>0.0</td>\n",
       "      <td>NaN</td>\n",
       "      <td>11</td>\n",
       "      <td>9430</td>\n",
       "      <td>55.80%</td>\n",
       "      <td>24</td>\n",
       "      <td>Individual</td>\n",
       "      <td>NaN</td>\n",
       "      <td>NaN</td>\n",
       "      <td>5.0</td>\n",
       "      <td>2.0</td>\n",
       "      <td>70.0</td>\n",
       "      <td>1.0</td>\n",
       "      <td>65.0</td>\n",
       "      <td>16900</td>\n",
       "      <td>3.0</td>\n",
       "      <td>3</td>\n",
       "      <td>2470.0</td>\n",
       "      <td>79.2</td>\n",
       "      <td>3</td>\n",
       "      <td>20.0</td>\n",
       "      <td>NaN</td>\n",
       "      <td>NaN</td>\n",
       "      <td>0</td>\n",
       "      <td>13</td>\n",
       "      <td>2</td>\n",
       "      <td>11</td>\n",
       "      <td>0</td>\n",
       "      <td>1</td>\n",
       "      <td>100.0</td>\n",
       "      <td>66.7</td>\n",
       "      <td>0</td>\n",
       "      <td>30159</td>\n",
       "      <td>11900</td>\n",
       "      <td>NaN</td>\n",
       "      <td>NaN</td>\n",
       "      <td>NaN</td>\n",
       "      <td>NaN</td>\n",
       "      <td>False</td>\n",
       "    </tr>\n",
       "    <tr>\n",
       "      <th>11808</th>\n",
       "      <td>68723078</td>\n",
       "      <td>16000</td>\n",
       "      <td>36 months</td>\n",
       "      <td>6.49%</td>\n",
       "      <td>490.32</td>\n",
       "      <td>Priest</td>\n",
       "      <td>10+ years</td>\n",
       "      <td>OWN</td>\n",
       "      <td>44000.0</td>\n",
       "      <td>Fully Paid</td>\n",
       "      <td>credit_card</td>\n",
       "      <td>793xx</td>\n",
       "      <td>TX</td>\n",
       "      <td>22.89</td>\n",
       "      <td>0</td>\n",
       "      <td>Jan-02</td>\n",
       "      <td>744</td>\n",
       "      <td>0.0</td>\n",
       "      <td>NaN</td>\n",
       "      <td>6</td>\n",
       "      <td>9818</td>\n",
       "      <td>32.20%</td>\n",
       "      <td>17</td>\n",
       "      <td>Individual</td>\n",
       "      <td>NaN</td>\n",
       "      <td>NaN</td>\n",
       "      <td>2.0</td>\n",
       "      <td>4.0</td>\n",
       "      <td>84.0</td>\n",
       "      <td>2.0</td>\n",
       "      <td>58.0</td>\n",
       "      <td>30500</td>\n",
       "      <td>3.0</td>\n",
       "      <td>6</td>\n",
       "      <td>19619.0</td>\n",
       "      <td>4.3</td>\n",
       "      <td>0</td>\n",
       "      <td>1.0</td>\n",
       "      <td>NaN</td>\n",
       "      <td>NaN</td>\n",
       "      <td>0</td>\n",
       "      <td>7</td>\n",
       "      <td>2</td>\n",
       "      <td>6</td>\n",
       "      <td>0</td>\n",
       "      <td>2</td>\n",
       "      <td>100.0</td>\n",
       "      <td>0.0</td>\n",
       "      <td>0</td>\n",
       "      <td>34248</td>\n",
       "      <td>20500</td>\n",
       "      <td>NaN</td>\n",
       "      <td>NaN</td>\n",
       "      <td>NaN</td>\n",
       "      <td>NaN</td>\n",
       "      <td>False</td>\n",
       "    </tr>\n",
       "    <tr>\n",
       "      <th>199360</th>\n",
       "      <td>123330863</td>\n",
       "      <td>15000</td>\n",
       "      <td>36 months</td>\n",
       "      <td>12.62%</td>\n",
       "      <td>502.67</td>\n",
       "      <td>receiving clerk</td>\n",
       "      <td>3 years</td>\n",
       "      <td>MORTGAGE</td>\n",
       "      <td>23400.0</td>\n",
       "      <td>Current</td>\n",
       "      <td>debt_consolidation</td>\n",
       "      <td>917xx</td>\n",
       "      <td>CA</td>\n",
       "      <td>54.56</td>\n",
       "      <td>0</td>\n",
       "      <td>May-07</td>\n",
       "      <td>694</td>\n",
       "      <td>0.0</td>\n",
       "      <td>26.0</td>\n",
       "      <td>12</td>\n",
       "      <td>20532</td>\n",
       "      <td>60.40%</td>\n",
       "      <td>19</td>\n",
       "      <td>Joint App</td>\n",
       "      <td>93400.0</td>\n",
       "      <td>20.79</td>\n",
       "      <td>4.0</td>\n",
       "      <td>0.0</td>\n",
       "      <td>51.0</td>\n",
       "      <td>0.0</td>\n",
       "      <td>56.0</td>\n",
       "      <td>34000</td>\n",
       "      <td>0.0</td>\n",
       "      <td>0</td>\n",
       "      <td>7215.0</td>\n",
       "      <td>68.8</td>\n",
       "      <td>0</td>\n",
       "      <td>33.0</td>\n",
       "      <td>26.0</td>\n",
       "      <td>26.0</td>\n",
       "      <td>0</td>\n",
       "      <td>13</td>\n",
       "      <td>8</td>\n",
       "      <td>12</td>\n",
       "      <td>0</td>\n",
       "      <td>0</td>\n",
       "      <td>94.7</td>\n",
       "      <td>50.0</td>\n",
       "      <td>0</td>\n",
       "      <td>32771</td>\n",
       "      <td>23100</td>\n",
       "      <td>32999.0</td>\n",
       "      <td>699.0</td>\n",
       "      <td>Oct-96</td>\n",
       "      <td>0.0</td>\n",
       "      <td>False</td>\n",
       "    </tr>\n",
       "  </tbody>\n",
       "</table>\n",
       "</div>"
      ],
      "text/plain": [
       "               id  funded_amnt        term int_rate  installment  \\\n",
       "200391  125136019        12000   60 months   12.62%       270.71   \n",
       "11808    68723078        16000   36 months    6.49%       490.32   \n",
       "199360  123330863        15000   36 months   12.62%       502.67   \n",
       "\n",
       "              emp_title emp_length home_ownership  annual_inc loan_status  \\\n",
       "200391          Manager    5 years       MORTGAGE     50000.0     Current   \n",
       "11808            Priest  10+ years            OWN     44000.0  Fully Paid   \n",
       "199360  receiving clerk    3 years       MORTGAGE     23400.0     Current   \n",
       "\n",
       "                   purpose zip_code addr_state    dti  delinq_2yrs  \\\n",
       "200391         credit_card    983xx         WA  16.44            0   \n",
       "11808          credit_card    793xx         TX  22.89            0   \n",
       "199360  debt_consolidation    917xx         CA  54.56            0   \n",
       "\n",
       "       earliest_cr_line  fico_range_high  inq_last_6mths  \\\n",
       "200391           Mar-02              734             0.0   \n",
       "11808            Jan-02              744             0.0   \n",
       "199360           May-07              694             0.0   \n",
       "\n",
       "        mths_since_last_delinq  open_acc  revol_bal revol_util  total_acc  \\\n",
       "200391                     NaN        11       9430     55.80%         24   \n",
       "11808                      NaN         6       9818     32.20%         17   \n",
       "199360                    26.0        12      20532     60.40%         19   \n",
       "\n",
       "       application_type  annual_inc_joint  dti_joint  open_act_il  \\\n",
       "200391       Individual               NaN        NaN          5.0   \n",
       "11808        Individual               NaN        NaN          2.0   \n",
       "199360        Joint App           93400.0      20.79          4.0   \n",
       "\n",
       "        open_il_24m  il_util  open_rv_24m  all_util  total_rev_hi_lim  \\\n",
       "200391          2.0     70.0          1.0      65.0             16900   \n",
       "11808           4.0     84.0          2.0      58.0             30500   \n",
       "199360          0.0     51.0          0.0      56.0             34000   \n",
       "\n",
       "        inq_last_12m  acc_open_past_24mths  bc_open_to_buy  bc_util  mort_acc  \\\n",
       "200391           3.0                     3          2470.0     79.2         3   \n",
       "11808            3.0                     6         19619.0      4.3         0   \n",
       "199360           0.0                     0          7215.0     68.8         0   \n",
       "\n",
       "        mths_since_recent_bc  mths_since_recent_bc_dlq  \\\n",
       "200391                  20.0                       NaN   \n",
       "11808                    1.0                       NaN   \n",
       "199360                  33.0                      26.0   \n",
       "\n",
       "        mths_since_recent_revol_delinq  num_accts_ever_120_pd  num_rev_accts  \\\n",
       "200391                             NaN                      0             13   \n",
       "11808                              NaN                      0              7   \n",
       "199360                            26.0                      0             13   \n",
       "\n",
       "        num_rev_tl_bal_gt_0  num_sats  num_tl_90g_dpd_24m  num_tl_op_past_12m  \\\n",
       "200391                    2        11                   0                   1   \n",
       "11808                     2         6                   0                   2   \n",
       "199360                    8        12                   0                   0   \n",
       "\n",
       "        pct_tl_nvr_dlq  percent_bc_gt_75  pub_rec_bankruptcies  \\\n",
       "200391           100.0              66.7                     0   \n",
       "11808            100.0               0.0                     0   \n",
       "199360            94.7              50.0                     0   \n",
       "\n",
       "        total_bal_ex_mort  total_bc_limit  revol_bal_joint  \\\n",
       "200391              30159           11900              NaN   \n",
       "11808               34248           20500              NaN   \n",
       "199360              32771           23100          32999.0   \n",
       "\n",
       "        sec_app_fico_range_high sec_app_earliest_cr_line  \\\n",
       "200391                      NaN                      NaN   \n",
       "11808                       NaN                      NaN   \n",
       "199360                    699.0                   Oct-96   \n",
       "\n",
       "        sec_app_inq_last_6mths  charged_off  \n",
       "200391                     NaN        False  \n",
       "11808                      NaN        False  \n",
       "199360                     0.0        False  "
      ]
     },
     "execution_count": 10,
     "metadata": {},
     "output_type": "execute_result"
    }
   ],
   "source": [
    "raw.sample(3)"
   ]
  },
  {
   "cell_type": "code",
   "execution_count": 11,
   "metadata": {},
   "outputs": [
    {
     "data": {
      "text/plain": [
       "(438991, 56)"
      ]
     },
     "execution_count": 11,
     "metadata": {},
     "output_type": "execute_result"
    }
   ],
   "source": [
    "raw.shape"
   ]
  },
  {
   "cell_type": "code",
   "execution_count": 12,
   "metadata": {},
   "outputs": [
    {
     "data": {
      "text/html": [
       "<div>\n",
       "<style scoped>\n",
       "    .dataframe tbody tr th:only-of-type {\n",
       "        vertical-align: middle;\n",
       "    }\n",
       "\n",
       "    .dataframe tbody tr th {\n",
       "        vertical-align: top;\n",
       "    }\n",
       "\n",
       "    .dataframe thead th {\n",
       "        text-align: right;\n",
       "    }\n",
       "</style>\n",
       "<table border=\"1\" class=\"dataframe\">\n",
       "  <thead>\n",
       "    <tr style=\"text-align: right;\">\n",
       "      <th></th>\n",
       "      <th>id</th>\n",
       "      <th>funded_amnt</th>\n",
       "      <th>installment</th>\n",
       "      <th>annual_inc</th>\n",
       "      <th>dti</th>\n",
       "      <th>delinq_2yrs</th>\n",
       "      <th>fico_range_high</th>\n",
       "      <th>inq_last_6mths</th>\n",
       "      <th>mths_since_last_delinq</th>\n",
       "      <th>open_acc</th>\n",
       "      <th>revol_bal</th>\n",
       "      <th>total_acc</th>\n",
       "      <th>annual_inc_joint</th>\n",
       "      <th>dti_joint</th>\n",
       "      <th>open_act_il</th>\n",
       "      <th>open_il_24m</th>\n",
       "      <th>il_util</th>\n",
       "      <th>open_rv_24m</th>\n",
       "      <th>all_util</th>\n",
       "      <th>total_rev_hi_lim</th>\n",
       "      <th>inq_last_12m</th>\n",
       "      <th>acc_open_past_24mths</th>\n",
       "      <th>bc_open_to_buy</th>\n",
       "      <th>bc_util</th>\n",
       "      <th>mort_acc</th>\n",
       "      <th>mths_since_recent_bc</th>\n",
       "      <th>mths_since_recent_bc_dlq</th>\n",
       "      <th>mths_since_recent_revol_delinq</th>\n",
       "      <th>num_accts_ever_120_pd</th>\n",
       "      <th>num_rev_accts</th>\n",
       "      <th>num_rev_tl_bal_gt_0</th>\n",
       "      <th>num_sats</th>\n",
       "      <th>num_tl_90g_dpd_24m</th>\n",
       "      <th>num_tl_op_past_12m</th>\n",
       "      <th>pct_tl_nvr_dlq</th>\n",
       "      <th>percent_bc_gt_75</th>\n",
       "      <th>pub_rec_bankruptcies</th>\n",
       "      <th>total_bal_ex_mort</th>\n",
       "      <th>total_bc_limit</th>\n",
       "      <th>revol_bal_joint</th>\n",
       "      <th>sec_app_fico_range_high</th>\n",
       "      <th>sec_app_inq_last_6mths</th>\n",
       "    </tr>\n",
       "    <tr>\n",
       "      <th>charged_off</th>\n",
       "      <th></th>\n",
       "      <th></th>\n",
       "      <th></th>\n",
       "      <th></th>\n",
       "      <th></th>\n",
       "      <th></th>\n",
       "      <th></th>\n",
       "      <th></th>\n",
       "      <th></th>\n",
       "      <th></th>\n",
       "      <th></th>\n",
       "      <th></th>\n",
       "      <th></th>\n",
       "      <th></th>\n",
       "      <th></th>\n",
       "      <th></th>\n",
       "      <th></th>\n",
       "      <th></th>\n",
       "      <th></th>\n",
       "      <th></th>\n",
       "      <th></th>\n",
       "      <th></th>\n",
       "      <th></th>\n",
       "      <th></th>\n",
       "      <th></th>\n",
       "      <th></th>\n",
       "      <th></th>\n",
       "      <th></th>\n",
       "      <th></th>\n",
       "      <th></th>\n",
       "      <th></th>\n",
       "      <th></th>\n",
       "      <th></th>\n",
       "      <th></th>\n",
       "      <th></th>\n",
       "      <th></th>\n",
       "      <th></th>\n",
       "      <th></th>\n",
       "      <th></th>\n",
       "      <th></th>\n",
       "      <th></th>\n",
       "      <th></th>\n",
       "    </tr>\n",
       "  </thead>\n",
       "  <tbody>\n",
       "    <tr>\n",
       "      <th>False</th>\n",
       "      <td>9.812409e+07</td>\n",
       "      <td>14709.772187</td>\n",
       "      <td>439.360038</td>\n",
       "      <td>80469.074986</td>\n",
       "      <td>18.885575</td>\n",
       "      <td>0.339731</td>\n",
       "      <td>702.876299</td>\n",
       "      <td>0.513144</td>\n",
       "      <td>33.929309</td>\n",
       "      <td>11.712780</td>\n",
       "      <td>16774.435654</td>\n",
       "      <td>23.860363</td>\n",
       "      <td>118628.621121</td>\n",
       "      <td>18.947470</td>\n",
       "      <td>2.818105</td>\n",
       "      <td>1.546052</td>\n",
       "      <td>69.329273</td>\n",
       "      <td>2.748099</td>\n",
       "      <td>58.238746</td>\n",
       "      <td>35283.068995</td>\n",
       "      <td>2.031198</td>\n",
       "      <td>4.560731</td>\n",
       "      <td>11930.006561</td>\n",
       "      <td>56.347296</td>\n",
       "      <td>1.509946</td>\n",
       "      <td>24.879021</td>\n",
       "      <td>38.129378</td>\n",
       "      <td>34.839391</td>\n",
       "      <td>0.534217</td>\n",
       "      <td>13.634780</td>\n",
       "      <td>5.495698</td>\n",
       "      <td>11.666567</td>\n",
       "      <td>0.089528</td>\n",
       "      <td>2.076485</td>\n",
       "      <td>93.670424</td>\n",
       "      <td>40.360662</td>\n",
       "      <td>0.136070</td>\n",
       "      <td>52445.553444</td>\n",
       "      <td>23699.815599</td>\n",
       "      <td>31566.942160</td>\n",
       "      <td>670.671495</td>\n",
       "      <td>0.656214</td>\n",
       "    </tr>\n",
       "    <tr>\n",
       "      <th>True</th>\n",
       "      <td>8.864394e+07</td>\n",
       "      <td>15581.527187</td>\n",
       "      <td>483.271838</td>\n",
       "      <td>73138.351508</td>\n",
       "      <td>20.683411</td>\n",
       "      <td>0.379272</td>\n",
       "      <td>691.799888</td>\n",
       "      <td>0.731871</td>\n",
       "      <td>33.096805</td>\n",
       "      <td>12.073517</td>\n",
       "      <td>15320.527383</td>\n",
       "      <td>24.375727</td>\n",
       "      <td>104296.296232</td>\n",
       "      <td>20.911585</td>\n",
       "      <td>2.869508</td>\n",
       "      <td>1.913323</td>\n",
       "      <td>73.783237</td>\n",
       "      <td>3.481283</td>\n",
       "      <td>62.464275</td>\n",
       "      <td>30080.536013</td>\n",
       "      <td>2.642216</td>\n",
       "      <td>5.636962</td>\n",
       "      <td>8521.885014</td>\n",
       "      <td>60.506480</td>\n",
       "      <td>1.255538</td>\n",
       "      <td>19.790806</td>\n",
       "      <td>37.487617</td>\n",
       "      <td>34.146573</td>\n",
       "      <td>0.567796</td>\n",
       "      <td>14.094934</td>\n",
       "      <td>5.934869</td>\n",
       "      <td>12.014229</td>\n",
       "      <td>0.103296</td>\n",
       "      <td>2.651362</td>\n",
       "      <td>93.656785</td>\n",
       "      <td>45.944068</td>\n",
       "      <td>0.174075</td>\n",
       "      <td>51450.132023</td>\n",
       "      <td>19408.677473</td>\n",
       "      <td>30157.172121</td>\n",
       "      <td>646.909091</td>\n",
       "      <td>1.110303</td>\n",
       "    </tr>\n",
       "  </tbody>\n",
       "</table>\n",
       "</div>"
      ],
      "text/plain": [
       "                       id   funded_amnt  installment    annual_inc        dti  \\\n",
       "charged_off                                                                     \n",
       "False        9.812409e+07  14709.772187   439.360038  80469.074986  18.885575   \n",
       "True         8.864394e+07  15581.527187   483.271838  73138.351508  20.683411   \n",
       "\n",
       "             delinq_2yrs  fico_range_high  inq_last_6mths  \\\n",
       "charged_off                                                 \n",
       "False           0.339731       702.876299        0.513144   \n",
       "True            0.379272       691.799888        0.731871   \n",
       "\n",
       "             mths_since_last_delinq   open_acc     revol_bal  total_acc  \\\n",
       "charged_off                                                               \n",
       "False                     33.929309  11.712780  16774.435654  23.860363   \n",
       "True                      33.096805  12.073517  15320.527383  24.375727   \n",
       "\n",
       "             annual_inc_joint  dti_joint  open_act_il  open_il_24m    il_util  \\\n",
       "charged_off                                                                     \n",
       "False           118628.621121  18.947470     2.818105     1.546052  69.329273   \n",
       "True            104296.296232  20.911585     2.869508     1.913323  73.783237   \n",
       "\n",
       "             open_rv_24m   all_util  total_rev_hi_lim  inq_last_12m  \\\n",
       "charged_off                                                           \n",
       "False           2.748099  58.238746      35283.068995      2.031198   \n",
       "True            3.481283  62.464275      30080.536013      2.642216   \n",
       "\n",
       "             acc_open_past_24mths  bc_open_to_buy    bc_util  mort_acc  \\\n",
       "charged_off                                                              \n",
       "False                    4.560731    11930.006561  56.347296  1.509946   \n",
       "True                     5.636962     8521.885014  60.506480  1.255538   \n",
       "\n",
       "             mths_since_recent_bc  mths_since_recent_bc_dlq  \\\n",
       "charged_off                                                   \n",
       "False                   24.879021                 38.129378   \n",
       "True                    19.790806                 37.487617   \n",
       "\n",
       "             mths_since_recent_revol_delinq  num_accts_ever_120_pd  \\\n",
       "charged_off                                                          \n",
       "False                             34.839391               0.534217   \n",
       "True                              34.146573               0.567796   \n",
       "\n",
       "             num_rev_accts  num_rev_tl_bal_gt_0   num_sats  \\\n",
       "charged_off                                                  \n",
       "False            13.634780             5.495698  11.666567   \n",
       "True             14.094934             5.934869  12.014229   \n",
       "\n",
       "             num_tl_90g_dpd_24m  num_tl_op_past_12m  pct_tl_nvr_dlq  \\\n",
       "charged_off                                                           \n",
       "False                  0.089528            2.076485       93.670424   \n",
       "True                   0.103296            2.651362       93.656785   \n",
       "\n",
       "             percent_bc_gt_75  pub_rec_bankruptcies  total_bal_ex_mort  \\\n",
       "charged_off                                                              \n",
       "False               40.360662              0.136070       52445.553444   \n",
       "True                45.944068              0.174075       51450.132023   \n",
       "\n",
       "             total_bc_limit  revol_bal_joint  sec_app_fico_range_high  \\\n",
       "charged_off                                                             \n",
       "False          23699.815599     31566.942160               670.671495   \n",
       "True           19408.677473     30157.172121               646.909091   \n",
       "\n",
       "             sec_app_inq_last_6mths  \n",
       "charged_off                          \n",
       "False                      0.656214  \n",
       "True                       1.110303  "
      ]
     },
     "execution_count": 12,
     "metadata": {},
     "output_type": "execute_result"
    }
   ],
   "source": [
    "raw.groupby('charged_off').mean()"
   ]
  },
  {
   "cell_type": "code",
   "execution_count": 13,
   "metadata": {},
   "outputs": [
    {
     "data": {
      "text/plain": [
       "<AxesSubplot:>"
      ]
     },
     "execution_count": 13,
     "metadata": {},
     "output_type": "execute_result"
    },
    {
     "data": {
      "image/png": "[encoded data removed]",
      "text/plain": [
       "<Figure size 432x288 with 1 Axes>"
      ]
     },
     "metadata": {
      "needs_background": "light"
     },
     "output_type": "display_data"
    }
   ],
   "source": [
    "raw['inq_last_12m'].hist()"
   ]
  },
  {
   "cell_type": "markdown",
   "metadata": {},
   "source": [
    "## EDA"
   ]
  },
  {
   "cell_type": "code",
   "execution_count": 14,
   "metadata": {},
   "outputs": [
    {
     "data": {
      "text/plain": [
       "Current               251552\n",
       "Fully Paid            132055\n",
       "Charged Off            40902\n",
       "Late (31-120 days)      8209\n",
       "In Grace Period         4016\n",
       "Late (16-30 days)       2257\n",
       "Name: loan_status, dtype: int64"
      ]
     },
     "execution_count": 14,
     "metadata": {},
     "output_type": "execute_result"
    }
   ],
   "source": [
    "raw['loan_status'].value_counts(dropna = False)"
   ]
  },
  {
   "cell_type": "code",
   "execution_count": 15,
   "metadata": {},
   "outputs": [
    {
     "data": {
      "text/plain": [
       "debt_consolidation    246935\n",
       "credit_card            91374\n",
       "home_improvement       32995\n",
       "other                  30875\n",
       "major_purchase         10685\n",
       "medical                 6248\n",
       "car                     5062\n",
       "small_business          4930\n",
       "vacation                3585\n",
       "moving                  3480\n",
       "house                   2525\n",
       "renewable_energy         295\n",
       "educational                1\n",
       "wedding                    1\n",
       "Name: purpose, dtype: int64"
      ]
     },
     "execution_count": 15,
     "metadata": {},
     "output_type": "execute_result"
    }
   ],
   "source": [
    "raw['purpose'].value_counts()[:15]"
   ]
  },
  {
   "cell_type": "code",
   "execution_count": 16,
   "metadata": {},
   "outputs": [
    {
     "data": {
      "text/plain": [
       "<AxesSubplot:>"
      ]
     },
     "execution_count": 16,
     "metadata": {},
     "output_type": "execute_result"
    },
    {
     "data": {
      "image/png": "[encoded data removed]",
      "text/plain": [
       "<Figure size 432x288 with 1 Axes>"
      ]
     },
     "metadata": {
      "needs_background": "light"
     },
     "output_type": "display_data"
    }
   ],
   "source": [
    "raw['fico_range_high'].hist()"
   ]
  },
  {
   "cell_type": "code",
   "execution_count": 17,
   "metadata": {},
   "outputs": [
    {
     "data": {
      "text/plain": [
       "<AxesSubplot:>"
      ]
     },
     "execution_count": 17,
     "metadata": {},
     "output_type": "execute_result"
    },
    {
     "data": {
      "image/png": "[encoded data removed]",
      "text/plain": [
       "<Figure size 432x288 with 1 Axes>"
      ]
     },
     "metadata": {
      "needs_background": "light"
     },
     "output_type": "display_data"
    }
   ],
   "source": [
    "raw['dti'].hist(bins = 100)"
   ]
  },
  {
   "cell_type": "code",
   "execution_count": 18,
   "metadata": {},
   "outputs": [
    {
     "data": {
      "text/plain": [
       "Individual    0.941208\n",
       "Joint App     0.058792\n",
       "Name: application_type, dtype: float64"
      ]
     },
     "execution_count": 18,
     "metadata": {},
     "output_type": "execute_result"
    }
   ],
   "source": [
    "raw['application_type'].value_counts(normalize = True)"
   ]
  },
  {
   "cell_type": "code",
   "execution_count": 19,
   "metadata": {},
   "outputs": [
    {
     "data": {
      "text/plain": [
       "0     0.796132\n",
       "1     0.133406\n",
       "2     0.040281\n",
       "3     0.014948\n",
       "4     0.006617\n",
       "5     0.003442\n",
       "6     0.002009\n",
       "7     0.001098\n",
       "8     0.000651\n",
       "9     0.000440\n",
       "10    0.000312\n",
       "11    0.000198\n",
       "12    0.000146\n",
       "13    0.000096\n",
       "14    0.000068\n",
       "15    0.000057\n",
       "16    0.000032\n",
       "18    0.000016\n",
       "17    0.000011\n",
       "19    0.000009\n",
       "20    0.000009\n",
       "21    0.000005\n",
       "24    0.000002\n",
       "30    0.000002\n",
       "22    0.000002\n",
       "36    0.000002\n",
       "26    0.000002\n",
       "25    0.000002\n",
       "42    0.000002\n",
       "Name: delinq_2yrs, dtype: float64"
      ]
     },
     "execution_count": 19,
     "metadata": {},
     "output_type": "execute_result"
    }
   ],
   "source": [
    "raw['delinq_2yrs'].value_counts(normalize = True)"
   ]
  },
  {
   "cell_type": "code",
   "execution_count": 20,
   "metadata": {},
   "outputs": [
    {
     "data": {
      "text/plain": [
       "0    0.870674\n",
       "1    0.121554\n",
       "2    0.006030\n",
       "3    0.001248\n",
       "4    0.000310\n",
       "5    0.000116\n",
       "6    0.000050\n",
       "7    0.000014\n",
       "8    0.000005\n",
       "Name: pub_rec_bankruptcies, dtype: float64"
      ]
     },
     "execution_count": 20,
     "metadata": {},
     "output_type": "execute_result"
    }
   ],
   "source": [
    "raw['pub_rec_bankruptcies'].value_counts(normalize = True)"
   ]
  },
  {
   "cell_type": "code",
   "execution_count": 21,
   "metadata": {},
   "outputs": [
    {
     "data": {
      "text/plain": [
       "10+ years    148471\n",
       "2 years       39794\n",
       "< 1 year      37836\n",
       "3 years       35018\n",
       "1 year        29239\n",
       "5 years       26483\n",
       "4 years       26208\n",
       "6 years       18920\n",
       "9 years       16068\n",
       "8 years       15892\n",
       "7 years       15049\n",
       "Name: emp_length, dtype: int64"
      ]
     },
     "execution_count": 21,
     "metadata": {},
     "output_type": "execute_result"
    }
   ],
   "source": [
    "raw['emp_length'].value_counts()"
   ]
  },
  {
   "cell_type": "code",
   "execution_count": 22,
   "metadata": {},
   "outputs": [
    {
     "data": {
      "text/plain": [
       "emp_length\n",
       "1 year       0.101713\n",
       "10+ years    0.085956\n",
       "2 years      0.095542\n",
       "3 years      0.096779\n",
       "4 years      0.090392\n",
       "5 years      0.094891\n",
       "6 years      0.088425\n",
       "7 years      0.089375\n",
       "8 years      0.096589\n",
       "9 years      0.091175\n",
       "< 1 year     0.089121\n",
       "Name: charged_off, dtype: float64"
      ]
     },
     "execution_count": 22,
     "metadata": {},
     "output_type": "execute_result"
    }
   ],
   "source": [
    "raw.groupby('emp_length')['charged_off'].mean()"
   ]
  },
  {
   "cell_type": "code",
   "execution_count": 23,
   "metadata": {},
   "outputs": [
    {
     "data": {
      "text/plain": [
       "application_type\n",
       "Individual    0.095389\n",
       "Joint App     0.057693\n",
       "Name: charged_off, dtype: float64"
      ]
     },
     "execution_count": 23,
     "metadata": {},
     "output_type": "execute_result"
    }
   ],
   "source": [
    "raw.groupby('application_type')['charged_off'].mean()"
   ]
  },
  {
   "cell_type": "code",
   "execution_count": 24,
   "metadata": {},
   "outputs": [
    {
     "data": {
      "text/plain": [
       "home_ownership\n",
       "ANY         0.072519\n",
       "MORTGAGE    0.078881\n",
       "NONE        0.000000\n",
       "OWN         0.095502\n",
       "RENT        0.110315\n",
       "Name: charged_off, dtype: float64"
      ]
     },
     "execution_count": 24,
     "metadata": {},
     "output_type": "execute_result"
    }
   ],
   "source": [
    "raw.groupby('home_ownership')['charged_off'].mean()"
   ]
  },
  {
   "cell_type": "code",
   "execution_count": 26,
   "metadata": {},
   "outputs": [
    {
     "data": {
      "text/plain": [
       "addr_state\n",
       "ME    0.044065\n",
       "VT    0.056818\n",
       "DC    0.059244\n",
       "RI    0.060158\n",
       "NH    0.065404\n",
       "OR    0.067023\n",
       "KS    0.067678\n",
       "CT    0.069402\n",
       "WA    0.069757\n",
       "SC    0.070982\n",
       "ID    0.075900\n",
       "CO    0.076782\n",
       "MT    0.078283\n",
       "DE    0.079710\n",
       "WI    0.079871\n",
       "IL    0.080525\n",
       "GA    0.080634\n",
       "WV    0.082902\n",
       "WY    0.083799\n",
       "ND    0.085437\n",
       "UT    0.088508\n",
       "TN    0.090584\n",
       "VA    0.091286\n",
       "NJ    0.092143\n",
       "HI    0.092308\n",
       "PA    0.093413\n",
       "MO    0.093861\n",
       "TX    0.094188\n",
       "OH    0.094300\n",
       "AK    0.094595\n",
       "MA    0.095587\n",
       "MD    0.095614\n",
       "MN    0.095977\n",
       "MI    0.096119\n",
       "NC    0.096435\n",
       "IN    0.096673\n",
       "KY    0.097839\n",
       "AZ    0.098203\n",
       "NM    0.099040\n",
       "FL    0.099127\n",
       "NY    0.100543\n",
       "CA    0.100857\n",
       "SD    0.104530\n",
       "MS    0.105117\n",
       "AL    0.108457\n",
       "AR    0.111211\n",
       "NE    0.111273\n",
       "LA    0.111625\n",
       "NV    0.114412\n",
       "OK    0.114489\n",
       "Name: charged_off, dtype: float64"
      ]
     },
     "execution_count": 26,
     "metadata": {},
     "output_type": "execute_result"
    }
   ],
   "source": [
    "raw.groupby('addr_state')['charged_off'].mean().sort_values()"
   ]
  },
  {
   "cell_type": "markdown",
   "metadata": {},
   "source": [
    "## Feature Engineering"
   ]
  },
  {
   "cell_type": "code",
   "execution_count": 27,
   "metadata": {},
   "outputs": [],
   "source": [
    "raw['delinq_2yrs_bool'] = raw['delinq_2yrs'] > 0\n",
    "raw['pub_rec_bankruptcies_bool'] = raw['pub_rec_bankruptcies'] > 0\n",
    "raw['inq_last_12m_bool'] = raw['inq_last_12m'] > 0\n",
    "\n",
    "# ratio\n",
    "#raw['funded_to_installment_ratio'] = raw['funded_amnt'] / raw['installment']\n",
    "raw['income_to_installment_ratio'] = raw['annual_inc'] / raw['installment']"
   ]
  },
  {
   "cell_type": "code",
   "execution_count": 28,
   "metadata": {},
   "outputs": [
    {
     "data": {
      "text/plain": [
       "charged_off\n",
       "False    249.557649\n",
       "True     199.944974\n",
       "Name: income_to_installment_ratio, dtype: float64"
      ]
     },
     "execution_count": 28,
     "metadata": {},
     "output_type": "execute_result"
    }
   ],
   "source": [
    "raw.groupby('charged_off')['income_to_installment_ratio'].mean() "
   ]
  },
  {
   "cell_type": "markdown",
   "metadata": {},
   "source": [
    "## Build Model"
   ]
  },
  {
   "cell_type": "code",
   "execution_count": 29,
   "metadata": {},
   "outputs": [],
   "source": [
    "from sklearn.linear_model import LogisticRegression\n",
    "from sklearn.pipeline import make_pipeline\n",
    "from sklearn.model_selection import train_test_split\n",
    "import numpy as np\n",
    "from yellowbrick.regressor import residuals_plot, prediction_error\n",
    "from yellowbrick.classifier import DiscriminationThreshold, ClassificationReport\n",
    "from sklearn.preprocessing import OneHotEncoder, StandardScaler\n",
    "from sklearn.compose import ColumnTransformer\n",
    "from sklearn.compose import make_column_selector as selector\n",
    "from sklearn import set_config\n",
    "from sklearn.metrics import mean_absolute_error\n",
    "from sklearn.impute import SimpleImputer\n",
    "from sklearn.pipeline import Pipeline\n",
    "from sklearn import set_config\n",
    "from sklearn.ensemble import RandomForestClassifier\n",
    "from imblearn.over_sampling import SMOTE \n",
    "from sklearn.metrics import roc_auc_score\n",
    "from time import time\n",
    "\n",
    "set_config(display=\"diagram\")\n",
    "\n",
    "\n",
    "def class_report(model, test = True):\n",
    "    \"\"\"\n",
    "    Use yellowbrick to get a classifiation report on\n",
    "    a model for the test datset\n",
    "    \"\"\"\n",
    "    visualizer = ClassificationReport(model)\n",
    "    if test:\n",
    "        visualizer.fit(X_test, y_test)\n",
    "        visualizer.score(X_test, y_test)\n",
    "    else:\n",
    "        visualizer.fit(X_train, y_train)\n",
    "        visualizer.score(X_train, y_train)\n",
    "    visualizer.show()\n",
    "\n",
    "def print_time_elapsed(t0):\n",
    "    \"\"\"\n",
    "    Print time elapsed in seconds since time t0\n",
    "    \"\"\"\n",
    "    print(\"%.1f seconds elapsed\" % (time() - t0))\n",
    "    \n",
    "def print_roc(model, test = True):\n",
    "    \"\"\"\n",
    "    Print ROC metric for an input the model\n",
    "    \"\"\"\n",
    "    if test:\n",
    "        roc = roc_auc_score(y_test, model.predict(X_test))\n",
    "    else:\n",
    "        roc = roc_auc_score(y_train, model.predict(X_train))\n",
    "    print(roc)\n",
    "    \n",
    "def get_lift_curve(model):\n",
    "    \"\"\"\n",
    "    Return lift curve for a model\n",
    "    \"\"\"\n",
    "    y_probas = model.predict_proba(X_test)\n",
    "    return plot_lift_curve(y_test, y_probas)"
   ]
  },
  {
   "cell_type": "code",
   "execution_count": 30,
   "metadata": {},
   "outputs": [],
   "source": [
    "# predictors from the original dataset to include in the models\n",
    "selected_X_columns = [\n",
    "    'income_to_installment_ratio', 'purpose', 'home_ownership', 'dti', 'delinq_2yrs_bool', \n",
    "    'fico_range_high', 'total_bal_ex_mort', 'application_type', 'pub_rec_bankruptcies_bool',\n",
    "    'num_tl_op_past_12m', 'addr_state'\n",
    "]\n",
    "X_orig = raw[selected_X_columns]"
   ]
  },
  {
   "cell_type": "code",
   "execution_count": 31,
   "metadata": {},
   "outputs": [
    {
     "data": {
      "text/html": [
       "<div>\n",
       "<style scoped>\n",
       "    .dataframe tbody tr th:only-of-type {\n",
       "        vertical-align: middle;\n",
       "    }\n",
       "\n",
       "    .dataframe tbody tr th {\n",
       "        vertical-align: top;\n",
       "    }\n",
       "\n",
       "    .dataframe thead th {\n",
       "        text-align: right;\n",
       "    }\n",
       "</style>\n",
       "<table border=\"1\" class=\"dataframe\">\n",
       "  <thead>\n",
       "    <tr style=\"text-align: right;\">\n",
       "      <th></th>\n",
       "      <th>income_to_installment_ratio</th>\n",
       "      <th>purpose</th>\n",
       "      <th>home_ownership</th>\n",
       "      <th>dti</th>\n",
       "      <th>delinq_2yrs_bool</th>\n",
       "      <th>fico_range_high</th>\n",
       "      <th>total_bal_ex_mort</th>\n",
       "      <th>application_type</th>\n",
       "      <th>pub_rec_bankruptcies_bool</th>\n",
       "      <th>num_tl_op_past_12m</th>\n",
       "      <th>addr_state</th>\n",
       "    </tr>\n",
       "  </thead>\n",
       "  <tbody>\n",
       "    <tr>\n",
       "      <th>202449</th>\n",
       "      <td>104.360985</td>\n",
       "      <td>other</td>\n",
       "      <td>RENT</td>\n",
       "      <td>7.14</td>\n",
       "      <td>False</td>\n",
       "      <td>694</td>\n",
       "      <td>16559</td>\n",
       "      <td>Individual</td>\n",
       "      <td>True</td>\n",
       "      <td>2</td>\n",
       "      <td>CA</td>\n",
       "    </tr>\n",
       "    <tr>\n",
       "      <th>140567</th>\n",
       "      <td>238.315112</td>\n",
       "      <td>home_improvement</td>\n",
       "      <td>MORTGAGE</td>\n",
       "      <td>14.13</td>\n",
       "      <td>False</td>\n",
       "      <td>679</td>\n",
       "      <td>67551</td>\n",
       "      <td>Individual</td>\n",
       "      <td>True</td>\n",
       "      <td>10</td>\n",
       "      <td>MI</td>\n",
       "    </tr>\n",
       "    <tr>\n",
       "      <th>79187</th>\n",
       "      <td>119.595369</td>\n",
       "      <td>debt_consolidation</td>\n",
       "      <td>RENT</td>\n",
       "      <td>20.93</td>\n",
       "      <td>True</td>\n",
       "      <td>689</td>\n",
       "      <td>82392</td>\n",
       "      <td>Individual</td>\n",
       "      <td>False</td>\n",
       "      <td>6</td>\n",
       "      <td>MN</td>\n",
       "    </tr>\n",
       "  </tbody>\n",
       "</table>\n",
       "</div>"
      ],
      "text/plain": [
       "        income_to_installment_ratio             purpose home_ownership    dti  \\\n",
       "202449                   104.360985               other           RENT   7.14   \n",
       "140567                   238.315112    home_improvement       MORTGAGE  14.13   \n",
       "79187                    119.595369  debt_consolidation           RENT  20.93   \n",
       "\n",
       "        delinq_2yrs_bool  fico_range_high  total_bal_ex_mort application_type  \\\n",
       "202449             False              694              16559       Individual   \n",
       "140567             False              679              67551       Individual   \n",
       "79187               True              689              82392       Individual   \n",
       "\n",
       "        pub_rec_bankruptcies_bool  num_tl_op_past_12m addr_state  \n",
       "202449                       True                   2         CA  \n",
       "140567                       True                  10         MI  \n",
       "79187                       False                   6         MN  "
      ]
     },
     "execution_count": 31,
     "metadata": {},
     "output_type": "execute_result"
    }
   ],
   "source": [
    "X_orig.sample(3)"
   ]
  },
  {
   "cell_type": "markdown",
   "metadata": {},
   "source": [
    "### Preprocessing"
   ]
  },
  {
   "cell_type": "code",
   "execution_count": 32,
   "metadata": {},
   "outputs": [],
   "source": [
    "# transform categorical and numerical columns\n",
    "numerical_columns_selector = selector(dtype_exclude=object)\n",
    "categorical_columns_selector = selector(dtype_include=object)\n",
    "\n",
    "numerical_columns = numerical_columns_selector(X_orig)\n",
    "categorical_columns = categorical_columns_selector(X_orig)\n",
    "\n",
    "categorical_preprocessor = OneHotEncoder(handle_unknown=\"ignore\")\n",
    "#numerical_preprocessor = StandardScaler()\n",
    "\n",
    "numeric_transformer = Pipeline([(\"imputer\", \n",
    "    SimpleImputer(strategy=\"median\")), (\"scaler\", StandardScaler())])\n",
    "\n",
    "preprocessor = ColumnTransformer([\n",
    "    ('one-hot-encoder', categorical_preprocessor, categorical_columns),\n",
    "    ('standard-scaler', numeric_transformer, numerical_columns)])"
   ]
  },
  {
   "cell_type": "code",
   "execution_count": 33,
   "metadata": {},
   "outputs": [
    {
     "data": {
      "text/html": [
       "<style>#sk-8e532151-04c8-4f2d-a2a8-8f9ce3cfcf55 {color: black;background-color: white;}#sk-8e532151-04c8-4f2d-a2a8-8f9ce3cfcf55 pre{padding: 0;}#sk-8e532151-04c8-4f2d-a2a8-8f9ce3cfcf55 div.sk-toggleable {background-color: white;}#sk-8e532151-04c8-4f2d-a2a8-8f9ce3cfcf55 label.sk-toggleable__label {cursor: pointer;display: block;width: 100%;margin-bottom: 0;padding: 0.3em;box-sizing: border-box;text-align: center;}#sk-8e532151-04c8-4f2d-a2a8-8f9ce3cfcf55 label.sk-toggleable__label-arrow:before {content: \"▸\";float: left;margin-right: 0.25em;color: #696969;}#sk-8e532151-04c8-4f2d-a2a8-8f9ce3cfcf55 label.sk-toggleable__label-arrow:hover:before {color: black;}#sk-8e532151-04c8-4f2d-a2a8-8f9ce3cfcf55 div.sk-estimator:hover label.sk-toggleable__label-arrow:before {color: black;}#sk-8e532151-04c8-4f2d-a2a8-8f9ce3cfcf55 div.sk-toggleable__content {max-height: 0;max-width: 0;overflow: hidden;text-align: left;background-color: #f0f8ff;}#sk-8e532151-04c8-4f2d-a2a8-8f9ce3cfcf55 div.sk-toggleable__content pre {margin: 0.2em;color: black;border-radius: 0.25em;background-color: #f0f8ff;}#sk-8e532151-04c8-4f2d-a2a8-8f9ce3cfcf55 input.sk-toggleable__control:checked~div.sk-toggleable__content {max-height: 200px;max-width: 100%;overflow: auto;}#sk-8e532151-04c8-4f2d-a2a8-8f9ce3cfcf55 input.sk-toggleable__control:checked~label.sk-toggleable__label-arrow:before {content: \"▾\";}#sk-8e532151-04c8-4f2d-a2a8-8f9ce3cfcf55 div.sk-estimator input.sk-toggleable__control:checked~label.sk-toggleable__label {background-color: #d4ebff;}#sk-8e532151-04c8-4f2d-a2a8-8f9ce3cfcf55 div.sk-label input.sk-toggleable__control:checked~label.sk-toggleable__label {background-color: #d4ebff;}#sk-8e532151-04c8-4f2d-a2a8-8f9ce3cfcf55 input.sk-hidden--visually {border: 0;clip: rect(1px 1px 1px 1px);clip: rect(1px, 1px, 1px, 1px);height: 1px;margin: -1px;overflow: hidden;padding: 0;position: absolute;width: 1px;}#sk-8e532151-04c8-4f2d-a2a8-8f9ce3cfcf55 div.sk-estimator {font-family: monospace;background-color: #f0f8ff;border: 1px dotted black;border-radius: 0.25em;box-sizing: border-box;margin-bottom: 0.5em;}#sk-8e532151-04c8-4f2d-a2a8-8f9ce3cfcf55 div.sk-estimator:hover {background-color: #d4ebff;}#sk-8e532151-04c8-4f2d-a2a8-8f9ce3cfcf55 div.sk-parallel-item::after {content: \"\";width: 100%;border-bottom: 1px solid gray;flex-grow: 1;}#sk-8e532151-04c8-4f2d-a2a8-8f9ce3cfcf55 div.sk-label:hover label.sk-toggleable__label {background-color: #d4ebff;}#sk-8e532151-04c8-4f2d-a2a8-8f9ce3cfcf55 div.sk-serial::before {content: \"\";position: absolute;border-left: 1px solid gray;box-sizing: border-box;top: 2em;bottom: 0;left: 50%;}#sk-8e532151-04c8-4f2d-a2a8-8f9ce3cfcf55 div.sk-serial {display: flex;flex-direction: column;align-items: center;background-color: white;padding-right: 0.2em;padding-left: 0.2em;}#sk-8e532151-04c8-4f2d-a2a8-8f9ce3cfcf55 div.sk-item {z-index: 1;}#sk-8e532151-04c8-4f2d-a2a8-8f9ce3cfcf55 div.sk-parallel {display: flex;align-items: stretch;justify-content: center;background-color: white;}#sk-8e532151-04c8-4f2d-a2a8-8f9ce3cfcf55 div.sk-parallel::before {content: \"\";position: absolute;border-left: 1px solid gray;box-sizing: border-box;top: 2em;bottom: 0;left: 50%;}#sk-8e532151-04c8-4f2d-a2a8-8f9ce3cfcf55 div.sk-parallel-item {display: flex;flex-direction: column;position: relative;background-color: white;}#sk-8e532151-04c8-4f2d-a2a8-8f9ce3cfcf55 div.sk-parallel-item:first-child::after {align-self: flex-end;width: 50%;}#sk-8e532151-04c8-4f2d-a2a8-8f9ce3cfcf55 div.sk-parallel-item:last-child::after {align-self: flex-start;width: 50%;}#sk-8e532151-04c8-4f2d-a2a8-8f9ce3cfcf55 div.sk-parallel-item:only-child::after {width: 0;}#sk-8e532151-04c8-4f2d-a2a8-8f9ce3cfcf55 div.sk-dashed-wrapped {border: 1px dashed gray;margin: 0 0.4em 0.5em 0.4em;box-sizing: border-box;padding-bottom: 0.4em;background-color: white;position: relative;}#sk-8e532151-04c8-4f2d-a2a8-8f9ce3cfcf55 div.sk-label label {font-family: monospace;font-weight: bold;background-color: white;display: inline-block;line-height: 1.2em;}#sk-8e532151-04c8-4f2d-a2a8-8f9ce3cfcf55 div.sk-label-container {position: relative;z-index: 2;text-align: center;}#sk-8e532151-04c8-4f2d-a2a8-8f9ce3cfcf55 div.sk-container {/* jupyter's `normalize.less` sets `[hidden] { display: none; }` but bootstrap.min.css set `[hidden] { display: none !important; }` so we also need the `!important` here to be able to override the default hidden behavior on the sphinx rendered scikit-learn.org. See: https://github.com/scikit-learn/scikit-learn/issues/21755 */display: inline-block !important;position: relative;}#sk-8e532151-04c8-4f2d-a2a8-8f9ce3cfcf55 div.sk-text-repr-fallback {display: none;}</style><div id=\"sk-8e532151-04c8-4f2d-a2a8-8f9ce3cfcf55\" class=\"sk-top-container\"><div class=\"sk-text-repr-fallback\"><pre>ColumnTransformer(transformers=[(&#x27;one-hot-encoder&#x27;,\n",
       "                                 OneHotEncoder(handle_unknown=&#x27;ignore&#x27;),\n",
       "                                 [&#x27;purpose&#x27;, &#x27;home_ownership&#x27;,\n",
       "                                  &#x27;application_type&#x27;, &#x27;addr_state&#x27;]),\n",
       "                                (&#x27;standard-scaler&#x27;,\n",
       "                                 Pipeline(steps=[(&#x27;imputer&#x27;,\n",
       "                                                  SimpleImputer(strategy=&#x27;median&#x27;)),\n",
       "                                                 (&#x27;scaler&#x27;, StandardScaler())]),\n",
       "                                 [&#x27;income_to_installment_ratio&#x27;, &#x27;dti&#x27;,\n",
       "                                  &#x27;delinq_2yrs_bool&#x27;, &#x27;fico_range_high&#x27;,\n",
       "                                  &#x27;total_bal_ex_mort&#x27;,\n",
       "                                  &#x27;pub_rec_bankruptcies_bool&#x27;,\n",
       "                                  &#x27;num_tl_op_past_12m&#x27;])])</pre><b>Please rerun this cell to show the HTML repr or trust the notebook.</b></div><div class=\"sk-container\" hidden><div class=\"sk-item sk-dashed-wrapped\"><div class=\"sk-label-container\"><div class=\"sk-label sk-toggleable\"><input class=\"sk-toggleable__control sk-hidden--visually\" id=\"38907375-5d1b-4f68-80ac-35a39a09fbb3\" type=\"checkbox\" ><label for=\"38907375-5d1b-4f68-80ac-35a39a09fbb3\" class=\"sk-toggleable__label sk-toggleable__label-arrow\">ColumnTransformer</label><div class=\"sk-toggleable__content\"><pre>ColumnTransformer(transformers=[(&#x27;one-hot-encoder&#x27;,\n",
       "                                 OneHotEncoder(handle_unknown=&#x27;ignore&#x27;),\n",
       "                                 [&#x27;purpose&#x27;, &#x27;home_ownership&#x27;,\n",
       "                                  &#x27;application_type&#x27;, &#x27;addr_state&#x27;]),\n",
       "                                (&#x27;standard-scaler&#x27;,\n",
       "                                 Pipeline(steps=[(&#x27;imputer&#x27;,\n",
       "                                                  SimpleImputer(strategy=&#x27;median&#x27;)),\n",
       "                                                 (&#x27;scaler&#x27;, StandardScaler())]),\n",
       "                                 [&#x27;income_to_installment_ratio&#x27;, &#x27;dti&#x27;,\n",
       "                                  &#x27;delinq_2yrs_bool&#x27;, &#x27;fico_range_high&#x27;,\n",
       "                                  &#x27;total_bal_ex_mort&#x27;,\n",
       "                                  &#x27;pub_rec_bankruptcies_bool&#x27;,\n",
       "                                  &#x27;num_tl_op_past_12m&#x27;])])</pre></div></div></div><div class=\"sk-parallel\"><div class=\"sk-parallel-item\"><div class=\"sk-item\"><div class=\"sk-label-container\"><div class=\"sk-label sk-toggleable\"><input class=\"sk-toggleable__control sk-hidden--visually\" id=\"e635c4b9-2864-480f-85f7-f5e6b72e3e8d\" type=\"checkbox\" ><label for=\"e635c4b9-2864-480f-85f7-f5e6b72e3e8d\" class=\"sk-toggleable__label sk-toggleable__label-arrow\">one-hot-encoder</label><div class=\"sk-toggleable__content\"><pre>[&#x27;purpose&#x27;, &#x27;home_ownership&#x27;, &#x27;application_type&#x27;, &#x27;addr_state&#x27;]</pre></div></div></div><div class=\"sk-serial\"><div class=\"sk-item\"><div class=\"sk-estimator sk-toggleable\"><input class=\"sk-toggleable__control sk-hidden--visually\" id=\"8d694c5b-3100-40dd-830b-69ce92899c51\" type=\"checkbox\" ><label for=\"8d694c5b-3100-40dd-830b-69ce92899c51\" class=\"sk-toggleable__label sk-toggleable__label-arrow\">OneHotEncoder</label><div class=\"sk-toggleable__content\"><pre>OneHotEncoder(handle_unknown=&#x27;ignore&#x27;)</pre></div></div></div></div></div></div><div class=\"sk-parallel-item\"><div class=\"sk-item\"><div class=\"sk-label-container\"><div class=\"sk-label sk-toggleable\"><input class=\"sk-toggleable__control sk-hidden--visually\" id=\"39c829ff-2487-4e48-9854-5a98a2248bb2\" type=\"checkbox\" ><label for=\"39c829ff-2487-4e48-9854-5a98a2248bb2\" class=\"sk-toggleable__label sk-toggleable__label-arrow\">standard-scaler</label><div class=\"sk-toggleable__content\"><pre>[&#x27;income_to_installment_ratio&#x27;, &#x27;dti&#x27;, &#x27;delinq_2yrs_bool&#x27;, &#x27;fico_range_high&#x27;, &#x27;total_bal_ex_mort&#x27;, &#x27;pub_rec_bankruptcies_bool&#x27;, &#x27;num_tl_op_past_12m&#x27;]</pre></div></div></div><div class=\"sk-serial\"><div class=\"sk-item\"><div class=\"sk-serial\"><div class=\"sk-item\"><div class=\"sk-estimator sk-toggleable\"><input class=\"sk-toggleable__control sk-hidden--visually\" id=\"fae71f78-46e5-4d1e-a26d-97a27976a861\" type=\"checkbox\" ><label for=\"fae71f78-46e5-4d1e-a26d-97a27976a861\" class=\"sk-toggleable__label sk-toggleable__label-arrow\">SimpleImputer</label><div class=\"sk-toggleable__content\"><pre>SimpleImputer(strategy=&#x27;median&#x27;)</pre></div></div></div><div class=\"sk-item\"><div class=\"sk-estimator sk-toggleable\"><input class=\"sk-toggleable__control sk-hidden--visually\" id=\"1a02ed5d-2c80-4357-b848-fe0cd12c2fcc\" type=\"checkbox\" ><label for=\"1a02ed5d-2c80-4357-b848-fe0cd12c2fcc\" class=\"sk-toggleable__label sk-toggleable__label-arrow\">StandardScaler</label><div class=\"sk-toggleable__content\"><pre>StandardScaler()</pre></div></div></div></div></div></div></div></div></div></div></div></div>"
      ],
      "text/plain": [
       "ColumnTransformer(transformers=[('one-hot-encoder',\n",
       "                                 OneHotEncoder(handle_unknown='ignore'),\n",
       "                                 ['purpose', 'home_ownership',\n",
       "                                  'application_type', 'addr_state']),\n",
       "                                ('standard-scaler',\n",
       "                                 Pipeline(steps=[('imputer',\n",
       "                                                  SimpleImputer(strategy='median')),\n",
       "                                                 ('scaler', StandardScaler())]),\n",
       "                                 ['income_to_installment_ratio', 'dti',\n",
       "                                  'delinq_2yrs_bool', 'fico_range_high',\n",
       "                                  'total_bal_ex_mort',\n",
       "                                  'pub_rec_bankruptcies_bool',\n",
       "                                  'num_tl_op_past_12m'])])"
      ]
     },
     "execution_count": 33,
     "metadata": {},
     "output_type": "execute_result"
    }
   ],
   "source": [
    "preprocessor"
   ]
  },
  {
   "cell_type": "code",
   "execution_count": 34,
   "metadata": {},
   "outputs": [],
   "source": [
    "# perform preprocessing on predictors\n",
    "X = preprocessor.fit_transform(\n",
    "    X_orig\n",
    "    )\n",
    "\n",
    "#y = np.log10(study_df[['total_gmv']].values.ravel())\n",
    "y = raw[['charged_off']].values.ravel()\n",
    "# https://scikit-learn.org/stable/auto_examples/compose/plot_column_transformer_mixed_types.html"
   ]
  },
  {
   "cell_type": "code",
   "execution_count": 54,
   "metadata": {},
   "outputs": [
    {
     "data": {
      "text/plain": [
       "[('one-hot-encoder',\n",
       "  OneHotEncoder(handle_unknown='ignore'),\n",
       "  ['purpose', 'home_ownership', 'application_type', 'addr_state']),\n",
       " ('standard-scaler',\n",
       "  Pipeline(steps=[('imputer', SimpleImputer(strategy='median')),\n",
       "                  ('scaler', StandardScaler())]),\n",
       "  ['income_to_installment_ratio',\n",
       "   'dti',\n",
       "   'delinq_2yrs_bool',\n",
       "   'fico_range_high',\n",
       "   'total_bal_ex_mort',\n",
       "   'pub_rec_bankruptcies_bool',\n",
       "   'num_tl_op_past_12m'])]"
      ]
     },
     "execution_count": 54,
     "metadata": {},
     "output_type": "execute_result"
    }
   ],
   "source": [
    "preprocessor.transformers_"
   ]
  },
  {
   "cell_type": "code",
   "execution_count": 36,
   "metadata": {},
   "outputs": [],
   "source": [
    "# Test/Train split\n",
    "X_train_raw, X_test, y_train_raw, y_test = train_test_split(\n",
    "    X, # predictors\n",
    "    y, # outcome variable\n",
    "    test_size = 0.50,\n",
    "    random_state = 42\n",
    ")"
   ]
  },
  {
   "cell_type": "code",
   "execution_count": 37,
   "metadata": {},
   "outputs": [
    {
     "name": "stdout",
     "output_type": "stream",
     "text": [
      "31.9 seconds elapsed\n"
     ]
    }
   ],
   "source": [
    "# Apply SMOTE to get a training dataset with balanced classes\n",
    "t0 = time()\n",
    "sm = SMOTE(random_state=42, n_jobs = -1)\n",
    "X_train, y_train = sm.fit_resample(X_train_raw, y_train_raw)\n",
    "print_time_elapsed(t0)"
   ]
  },
  {
   "cell_type": "code",
   "execution_count": 38,
   "metadata": {},
   "outputs": [
    {
     "data": {
      "text/plain": [
       "0.5"
      ]
     },
     "execution_count": 38,
     "metadata": {},
     "output_type": "execute_result"
    }
   ],
   "source": [
    "np.mean(y_train) # check class imbalance"
   ]
  },
  {
   "cell_type": "markdown",
   "metadata": {},
   "source": [
    "## Train Models"
   ]
  },
  {
   "cell_type": "code",
   "execution_count": null,
   "metadata": {},
   "outputs": [],
   "source": [
    "# from sklearn.neural_network import MLPClassifier\n",
    "# nn_model = MLPClassifier(alpha = 0.01, max_iter=100)"
   ]
  },
  {
   "cell_type": "code",
   "execution_count": 39,
   "metadata": {},
   "outputs": [],
   "source": [
    "# Specify models\n",
    "lr_model = LogisticRegression(solver='liblinear')\n",
    "rf_model = RandomForestClassifier(n_jobs=-1, n_estimators=30, max_depth = 10)"
   ]
  },
  {
   "cell_type": "code",
   "execution_count": 40,
   "metadata": {},
   "outputs": [],
   "source": [
    "# t0 = time()\n",
    "# # train models\n",
    "# nn_model.fit(X_train, y_train)\n",
    "# print_time_elapsed(t0)"
   ]
  },
  {
   "cell_type": "code",
   "execution_count": 41,
   "metadata": {},
   "outputs": [
    {
     "name": "stdout",
     "output_type": "stream",
     "text": [
      "7.3 seconds elapsed\n"
     ]
    }
   ],
   "source": [
    "t0 = time()\n",
    "# train models\n",
    "lr_model.fit(X_train, y_train)\n",
    "print_time_elapsed(t0)"
   ]
  },
  {
   "cell_type": "code",
   "execution_count": 42,
   "metadata": {},
   "outputs": [
    {
     "name": "stdout",
     "output_type": "stream",
     "text": [
      "16.6 seconds elapsed\n"
     ]
    }
   ],
   "source": [
    "t0 = time()\n",
    "rf_model.fit(X_train, y_train)\n",
    "print_time_elapsed(t0)"
   ]
  },
  {
   "cell_type": "code",
   "execution_count": 43,
   "metadata": {},
   "outputs": [
    {
     "data": {
      "image/png": "[encoded data removed]",
      "text/plain": [
       "<Figure size 576x396 with 1 Axes>"
      ]
     },
     "metadata": {},
     "output_type": "display_data"
    },
    {
     "data": {
      "text/plain": [
       "<AxesSubplot:title={'center':'Feature Importances of 78 Features using RandomForestClassifier'}, xlabel='relative importance'>"
      ]
     },
     "execution_count": 43,
     "metadata": {},
     "output_type": "execute_result"
    }
   ],
   "source": [
    "from yellowbrick.model_selection import FeatureImportances\n",
    "viz = FeatureImportances(rf_model)\n",
    "viz.fit(X_train, y_train)\n",
    "viz.show()"
   ]
  },
  {
   "cell_type": "code",
   "execution_count": 72,
   "metadata": {},
   "outputs": [
    {
     "data": {
      "text/plain": [
       "array([[-0.44536859, -0.30126691, -0.08006181,  0.        , -0.01803856,\n",
       "        -0.29840638, -0.09958077,  0.05466053,  0.17354066,  0.06545296,\n",
       "         0.19319377,  0.30023475, -0.14718491,  0.        , -0.92145191,\n",
       "         0.08975081, -0.33610532,  0.21425455,  0.35072662,  0.16297183,\n",
       "        -0.76579707,  0.05605589,  0.28209445,  0.34207881,  0.25746277,\n",
       "         0.38345206, -0.13432275, -0.34154256, -0.36856956, -0.13541895,\n",
       "         0.25653234,  0.00205093, -0.20352296, -0.37038511,  0.12875957,\n",
       "         0.23324519, -0.21178579,  0.13500541,  0.38985338,  0.1838999 ,\n",
       "         0.18890596, -1.03997428,  0.19910497,  0.20634118,  0.15722518,\n",
       "         0.23343861, -0.51248033,  0.21249106, -0.14921805,  0.23184053,\n",
       "        -0.69562669,  0.23992049,  0.20964005,  0.38139181,  0.38252905,\n",
       "         0.23702189,  0.43819614, -0.2171356 ,  0.23177138, -0.53612726,\n",
       "        -0.34675259,  0.04345681,  0.12977144,  0.31038019, -0.17550085,\n",
       "         0.18899851, -0.97816323, -0.1943491 ,  0.03987991, -0.33438051,\n",
       "        -0.57036494, -0.78080108,  0.23318208, -0.00260587, -0.40821356,\n",
       "        -0.06640798,  0.00264776,  0.27257986]])"
      ]
     },
     "execution_count": 72,
     "metadata": {},
     "output_type": "execute_result"
    }
   ],
   "source": [
    "lr_model.coef_"
   ]
  },
  {
   "cell_type": "markdown",
   "metadata": {},
   "source": [
    "## Evaluate Models"
   ]
  },
  {
   "cell_type": "code",
   "execution_count": 56,
   "metadata": {},
   "outputs": [
    {
     "name": "stdout",
     "output_type": "stream",
     "text": [
      "0.6042171672690508\n"
     ]
    }
   ],
   "source": [
    "print_roc(rf_model)"
   ]
  },
  {
   "cell_type": "code",
   "execution_count": 57,
   "metadata": {},
   "outputs": [
    {
     "name": "stdout",
     "output_type": "stream",
     "text": [
      "0.6189426909426223\n"
     ]
    }
   ],
   "source": [
    "print_roc(lr_model)"
   ]
  },
  {
   "cell_type": "code",
   "execution_count": 58,
   "metadata": {},
   "outputs": [
    {
     "name": "stdout",
     "output_type": "stream",
     "text": [
      "0.7229897414771871\n"
     ]
    }
   ],
   "source": [
    "# Look at training set performance\n",
    "print_roc(rf_model, test = False)"
   ]
  },
  {
   "cell_type": "code",
   "execution_count": 59,
   "metadata": {},
   "outputs": [
    {
     "data": {
      "image/png": "[encoded data removed]",
      "text/plain": [
       "<Figure size 576x396 with 2 Axes>"
      ]
     },
     "metadata": {},
     "output_type": "display_data"
    }
   ],
   "source": [
    "class_report(lr_model)"
   ]
  },
  {
   "cell_type": "code",
   "execution_count": 60,
   "metadata": {},
   "outputs": [
    {
     "data": {
      "image/png": "[encoded data removed]",
      "text/plain": [
       "<Figure size 576x396 with 2 Axes>"
      ]
     },
     "metadata": {},
     "output_type": "display_data"
    }
   ],
   "source": [
    "class_report(rf_model)"
   ]
  },
  {
   "cell_type": "code",
   "execution_count": 61,
   "metadata": {},
   "outputs": [
    {
     "data": {
      "image/png": "[encoded data removed]",
      "text/plain": [
       "<Figure size 576x396 with 2 Axes>"
      ]
     },
     "metadata": {},
     "output_type": "display_data"
    }
   ],
   "source": [
    "# Look at training set performance\n",
    "class_report(lr_model, test = False)"
   ]
  },
  {
   "cell_type": "code",
   "execution_count": 62,
   "metadata": {},
   "outputs": [
    {
     "data": {
      "image/png": "[encoded data removed]",
      "text/plain": [
       "<Figure size 576x396 with 2 Axes>"
      ]
     },
     "metadata": {},
     "output_type": "display_data"
    }
   ],
   "source": [
    "# Look at training set performance\n",
    "class_report(rf_model, test = False)"
   ]
  },
  {
   "cell_type": "markdown",
   "metadata": {},
   "source": [
    "## Lift Curve"
   ]
  },
  {
   "cell_type": "code",
   "execution_count": 64,
   "metadata": {},
   "outputs": [],
   "source": [
    "from scikitplot.metrics import plot_lift_curve"
   ]
  },
  {
   "cell_type": "code",
   "execution_count": 65,
   "metadata": {},
   "outputs": [
    {
     "data": {
      "text/plain": [
       "<AxesSubplot:title={'center':'Lift Curve'}, xlabel='Percentage of sample', ylabel='Lift'>"
      ]
     },
     "execution_count": 65,
     "metadata": {},
     "output_type": "execute_result"
    },
    {
     "data": {
      "image/png": "[encoded data removed]",
      "text/plain": [
       "<Figure size 576x396 with 1 Axes>"
      ]
     },
     "metadata": {},
     "output_type": "display_data"
    }
   ],
   "source": [
    "get_lift_curve(lr_model)"
   ]
  },
  {
   "cell_type": "code",
   "execution_count": 66,
   "metadata": {},
   "outputs": [
    {
     "data": {
      "text/plain": [
       "<AxesSubplot:title={'center':'Lift Curve'}, xlabel='Percentage of sample', ylabel='Lift'>"
      ]
     },
     "execution_count": 66,
     "metadata": {},
     "output_type": "execute_result"
    },
    {
     "data": {
      "image/png": "[encoded data removed]",
      "text/plain": [
       "<Figure size 576x396 with 1 Axes>"
      ]
     },
     "metadata": {},
     "output_type": "display_data"
    }
   ],
   "source": [
    "get_lift_curve(rf_model)"
   ]
  },
  {
   "cell_type": "code",
   "execution_count": null,
   "metadata": {},
   "outputs": [],
   "source": []
  }
 ],
 "metadata": {
  "kernelspec": {
   "display_name": "Python 3 (ipykernel)",
   "language": "python",
   "name": "python3"
  },
  "language_info": {
   "codemirror_mode": {
    "name": "ipython",
    "version": 3
   },
   "file_extension": ".py",
   "mimetype": "text/x-python",
   "name": "python",
   "nbconvert_exporter": "python",
   "pygments_lexer": "ipython3",
   "version": "3.9.7"
  }
 },
 "nbformat": 4,
 "nbformat_minor": 4
}
